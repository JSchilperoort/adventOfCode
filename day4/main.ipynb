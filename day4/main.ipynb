{
 "cells": [
  {
   "cell_type": "code",
   "execution_count": 52,
   "metadata": {},
   "outputs": [
    {
     "name": "stdout",
     "output_type": "stream",
     "text": [
      "58374\n"
     ]
    }
   ],
   "source": [
    "import numpy as np\n",
    "\n",
    "with open('data.txt', 'r', encoding='utf-8') as f:\n",
    "    lines = [x.replace('\\n', '') for x in f.readlines()]\n",
    "\n",
    "\n",
    "drawn_numbers = [int(x) for x in lines[0].split(',')]\n",
    "\n",
    "line_index = 2\n",
    "bingo_cards = list()\n",
    "while line_index < len(lines):\n",
    "    bingo_card = list()\n",
    "    for _ in range(5):\n",
    "        line = lines[line_index]\n",
    "        if line[0] == ' ':\n",
    "            line = line[1:]\n",
    "        line = line.replace('  ', ' ')\n",
    "        line = [int(x) for x in line.split(' ')]\n",
    "        bingo_card.extend(line)\n",
    "        line_index += 1\n",
    "    bingo_cards.append(bingo_card)\n",
    "    line_index += 1\n",
    "\n",
    "def find_bingo():\n",
    "    for number in drawn_numbers:\n",
    "        for i in range(len(bingo_cards)):\n",
    "            bingo_cards[i] = ['*' if x == number else x for x in bingo_cards[i]]\n",
    "        \n",
    "        for i in range(len(bingo_cards)):\n",
    "            # check rows:\n",
    "            for j in range(5):\n",
    "                start = j * 5\n",
    "                row = bingo_cards[i][start:start+5]\n",
    "                if row.count('*') == 5:\n",
    "                    return sum([x for x in bingo_cards[i] if x != '*']) * number\n",
    "            \n",
    "            # check columns:\n",
    "            for j in range(5):\n",
    "                start = j * 5\n",
    "                row = bingo_cards[i][start:start+5]\n",
    "\n",
    "\n",
    "                indices = list(range(len(bingo_cards[i])))\n",
    "                indices = [x for x in indices if (x-j) % 5 == 0]\n",
    "\n",
    "                col = [bingo_cards[i][x] for x in indices]\n",
    "\n",
    "                if col.count('*') == 5:\n",
    "                    return sum([x for x in bingo_cards[i] if x != '*']) * number\n",
    "                \n",
    "\n",
    "print(find_bingo())\n"
   ]
  },
  {
   "cell_type": "code",
   "execution_count": 56,
   "metadata": {},
   "outputs": [
    {
     "name": "stdout",
     "output_type": "stream",
     "text": [
      "11377\n"
     ]
    }
   ],
   "source": [
    "# part 2\n",
    "\n",
    "import numpy as np\n",
    "\n",
    "with open('data.txt', 'r', encoding='utf-8') as f:\n",
    "    lines = [x.replace('\\n', '') for x in f.readlines()]\n",
    "\n",
    "\n",
    "drawn_numbers = [int(x) for x in lines[0].split(',')]\n",
    "\n",
    "line_index = 2\n",
    "bingo_cards = list()\n",
    "while line_index < len(lines):\n",
    "    bingo_card = list()\n",
    "    for _ in range(5):\n",
    "        line = lines[line_index]\n",
    "        if line[0] == ' ':\n",
    "            line = line[1:]\n",
    "        line = line.replace('  ', ' ')\n",
    "        line = [int(x) for x in line.split(' ')]\n",
    "        bingo_card.extend(line)\n",
    "        line_index += 1\n",
    "    bingo_cards.append(bingo_card)\n",
    "    line_index += 1\n",
    "\n",
    "def find_bingo():\n",
    "    all_cards_indices = list(range(len(bingo_cards)))\n",
    "    for number in drawn_numbers:\n",
    "        for i in range(len(bingo_cards)):\n",
    "            bingo_cards[i] = ['*' if x == number else x for x in bingo_cards[i]]\n",
    "        \n",
    "        for i in range(len(bingo_cards)):\n",
    "            # check rows:\n",
    "            for j in range(5):\n",
    "                start = j * 5\n",
    "                row = bingo_cards[i][start:start+5]\n",
    "                if row.count('*') == 5:\n",
    "                    if i in all_cards_indices:\n",
    "                        all_cards_indices.remove(i)\n",
    "                        if len(all_cards_indices) == 0:\n",
    "                            return sum([x for x in bingo_cards[i] if x != '*']) * number\n",
    "            \n",
    "            # check columns:\n",
    "            for j in range(5):\n",
    "                start = j * 5\n",
    "                row = bingo_cards[i][start:start+5]\n",
    "\n",
    "\n",
    "                indices = list(range(len(bingo_cards[i])))\n",
    "                indices = [x for x in indices if (x-j) % 5 == 0]\n",
    "\n",
    "                col = [bingo_cards[i][x] for x in indices]\n",
    "\n",
    "                if col.count('*') == 5:\n",
    "                    if i in all_cards_indices:\n",
    "                        all_cards_indices.remove(i)\n",
    "                        if len(all_cards_indices) == 0:\n",
    "                            return sum([x for x in bingo_cards[i] if x != '*']) * number\n",
    "                \n",
    "\n",
    "print(find_bingo())\n"
   ]
  }
 ],
 "metadata": {
  "interpreter": {
   "hash": "33059d425fcfee577e06018c78ad24739e717fdadffbeab10fa06fe261eaa096"
  },
  "kernelspec": {
   "display_name": "Python 3.8.11 64-bit ('newenv': conda)",
   "language": "python",
   "name": "python3"
  },
  "language_info": {
   "name": "python",
   "version": "3.8.11"
  },
  "orig_nbformat": 4
 },
 "nbformat": 4,
 "nbformat_minor": 2
}
