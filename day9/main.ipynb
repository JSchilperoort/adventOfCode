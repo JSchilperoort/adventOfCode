{
 "cells": [
  {
   "cell_type": "code",
   "execution_count": 50,
   "metadata": {},
   "outputs": [],
   "source": [
    "with open(\"data.txt\", \"r\") as f:\n",
    "    data = [[int(z) for z in y] for y in [list(x.replace(\"\\n\", \"\")) for x in f.readlines()]]\n"
   ]
  },
  {
   "cell_type": "code",
   "execution_count": 51,
   "metadata": {},
   "outputs": [
    {
     "name": "stdout",
     "output_type": "stream",
     "text": [
      "588\n"
     ]
    }
   ],
   "source": [
    "low_points = list()\n",
    "\n",
    "for y in range(len(data)):\n",
    "    for x in range(len(data[y])):\n",
    "        if y == (len(data)-1) or data[y+1][x] > data[y][x]:\n",
    "            if y == 0 or data[y-1][x] > data[y][x]:\n",
    "                if x == (len(data[y])-1) or data[y][x+1] > data[y][x]:\n",
    "                    if x == 0 or data[y][x-1] > data[y][x]:\n",
    "                        low_points.append(data[y][x])\n",
    "\n",
    "risk_levels = [1 + x for x in low_points]\n",
    "print(sum(risk_levels))\n",
    "\n"
   ]
  },
  {
   "cell_type": "code",
   "execution_count": 52,
   "metadata": {},
   "outputs": [],
   "source": [
    "def get_basin_size(low_point, data):\n",
    "    y, x = low_point\n",
    "    points_to_check = list()\n",
    "    points_to_check.append([y, x])\n",
    "    points_checked = list()\n",
    "\n",
    "    basin_size = 1\n",
    "\n",
    "    while len(points_to_check) > 0:\n",
    "        y, x = points_to_check[0]\n",
    "        points_to_check = points_to_check[1:]\n",
    "\n",
    "        # check left\n",
    "        if x > 0:\n",
    "            if data[y][x-1] > data[y][x] and data[y][x-1] < 9 and [y, x-1] not in points_checked and [y, x-1] not in points_to_check:\n",
    "                basin_size += 1\n",
    "                points_to_check.append([y, x-1])\n",
    "        # check right\n",
    "        if x < (len(data[0]) - 1):\n",
    "            if data[y][x+1] > data[y][x] and data[y][x+1] < 9 and [y, x+1] not in points_checked and [y, x+1] not in points_to_check:\n",
    "                basin_size += 1\n",
    "                points_to_check.append([y, x+1])\n",
    "        # check up\n",
    "        if y > 0:\n",
    "            if data[y-1][x] > data[y][x] and data[y-1][x] < 9 and [y-1, x] not in points_checked and [y-1, x] not in points_to_check:\n",
    "                basin_size += 1\n",
    "                points_to_check.append([y-1, x])\n",
    "        # check down\n",
    "        if y < (len(data) - 1):\n",
    "            if data[y+1][x] > data[y][x] and data[y+1][x] < 9 and [y+1, x] not in points_checked and [y+1, x] not in points_to_check:\n",
    "                basin_size += 1\n",
    "                points_to_check.append([y+1, x])\n",
    "\n",
    "        points_checked.append([y, x])\n",
    "\n",
    "\n",
    "\n",
    "    return basin_size\n"
   ]
  },
  {
   "cell_type": "code",
   "execution_count": 53,
   "metadata": {},
   "outputs": [
    {
     "name": "stdout",
     "output_type": "stream",
     "text": [
      "964712\n"
     ]
    }
   ],
   "source": [
    "# part 2\n",
    "\n",
    "low_points = list()\n",
    "\n",
    "for y in range(len(data)):\n",
    "    for x in range(len(data[y])):\n",
    "        if y == (len(data)-1) or data[y+1][x] > data[y][x]:\n",
    "            if y == 0 or data[y-1][x] > data[y][x]:\n",
    "                if x == (len(data[y])-1) or data[y][x+1] > data[y][x]:\n",
    "                    if x == 0 or data[y][x-1] > data[y][x]:\n",
    "                        low_point = [y, x]\n",
    "                        low_points.append(low_point)\n",
    "\n",
    "basin_sizes = list()\n",
    "for low_point in low_points:\n",
    "    basin_sizes.append(get_basin_size(low_point, data))\n",
    "\n",
    "basin_sizes.sort()\n",
    "\n",
    "print(basin_sizes[-3] * basin_sizes[-2] * basin_sizes[-1])\n"
   ]
  }
 ],
 "metadata": {
  "interpreter": {
   "hash": "33059d425fcfee577e06018c78ad24739e717fdadffbeab10fa06fe261eaa096"
  },
  "kernelspec": {
   "display_name": "Python 3.8.11 64-bit ('newenv': conda)",
   "language": "python",
   "name": "python3"
  },
  "language_info": {
   "codemirror_mode": {
    "name": "ipython",
    "version": 3
   },
   "file_extension": ".py",
   "mimetype": "text/x-python",
   "name": "python",
   "nbconvert_exporter": "python",
   "pygments_lexer": "ipython3",
   "version": "3.8.11"
  },
  "orig_nbformat": 4
 },
 "nbformat": 4,
 "nbformat_minor": 2
}
