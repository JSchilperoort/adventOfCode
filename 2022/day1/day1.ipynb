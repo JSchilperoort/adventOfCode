{
 "cells": [
  {
   "cell_type": "code",
   "execution_count": null,
   "metadata": {},
   "outputs": [],
   "source": []
  },
  {
   "cell_type": "markdown",
   "metadata": {},
   "source": [
    "### Part 1"
   ]
  },
  {
   "cell_type": "code",
   "execution_count": 1,
   "metadata": {},
   "outputs": [
    {
     "name": "stdout",
     "output_type": "stream",
     "text": [
      "['17998', '7761', '', '5628', '1490']\n"
     ]
    }
   ],
   "source": [
    "with open('day1.txt', 'r') as f:\n",
    "    lines = [x.replace('\\n', '') for x in f.readlines()]\n",
    "\n",
    "print(lines[:5])"
   ]
  },
  {
   "cell_type": "code",
   "execution_count": 2,
   "metadata": {},
   "outputs": [
    {
     "name": "stdout",
     "output_type": "stream",
     "text": [
      "67658\n"
     ]
    }
   ],
   "source": [
    "max_cal = 0\n",
    "cal_count = 0\n",
    "for line in lines:\n",
    "    if len(line) == 0:\n",
    "        if cal_count > max_cal:\n",
    "            max_cal = cal_count\n",
    "        cal_count = 0\n",
    "    else:\n",
    "        cal_count += int(line)\n",
    "        \n",
    "print(max_cal)"
   ]
  },
  {
   "cell_type": "markdown",
   "metadata": {},
   "source": [
    "### Part 2"
   ]
  },
  {
   "cell_type": "code",
   "execution_count": 4,
   "metadata": {},
   "outputs": [
    {
     "name": "stdout",
     "output_type": "stream",
     "text": [
      "[67658, 67344, 65156]\n",
      "200158\n"
     ]
    }
   ],
   "source": [
    "max_cal = [0, 0, 0]\n",
    "cal_count = 0\n",
    "for line in lines:\n",
    "    if len(line) == 0:\n",
    "        if cal_count > min(max_cal):\n",
    "            max_cal[max_cal.index(min(max_cal))] = cal_count\n",
    "        cal_count = 0\n",
    "    else:\n",
    "        cal_count += int(line)\n",
    "        \n",
    "print(max_cal)\n",
    "print(sum(max_cal))"
   ]
  }
 ],
 "metadata": {
  "kernelspec": {
   "display_name": "Python 3.8.11 ('newenv')",
   "language": "python",
   "name": "python3"
  },
  "language_info": {
   "codemirror_mode": {
    "name": "ipython",
    "version": 3
   },
   "file_extension": ".py",
   "mimetype": "text/x-python",
   "name": "python",
   "nbconvert_exporter": "python",
   "pygments_lexer": "ipython3",
   "version": "3.8.11"
  },
  "orig_nbformat": 4,
  "vscode": {
   "interpreter": {
    "hash": "db4fb2da53b463202cc29faa1dff83472033a83d3730354993520b674a604c4a"
   }
  }
 },
 "nbformat": 4,
 "nbformat_minor": 2
}
