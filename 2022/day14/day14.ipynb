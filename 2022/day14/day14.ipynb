{
 "cells": [
  {
   "cell_type": "code",
   "execution_count": 29,
   "metadata": {},
   "outputs": [],
   "source": [
    "import numpy as np"
   ]
  },
  {
   "cell_type": "markdown",
   "metadata": {},
   "source": [
    "### Part 1"
   ]
  },
  {
   "cell_type": "code",
   "execution_count": 30,
   "metadata": {},
   "outputs": [
    {
     "name": "stdout",
     "output_type": "stream",
     "text": [
      "[['508,146', '513,146'], ['514,142', '519,142'], ['483,88', '487,88'], ['522,146', '527,146'], ['492,90', '496,90']]\n"
     ]
    }
   ],
   "source": [
    "with open('day14.txt', 'r') as f:\n",
    "    lines = [x.replace('\\n', '') for x in f.readlines()]\n",
    "lines = [x.split(' -> ') for x in lines]\n",
    "print(lines[:5])"
   ]
  },
  {
   "cell_type": "code",
   "execution_count": null,
   "metadata": {},
   "outputs": [],
   "source": []
  },
  {
   "cell_type": "code",
   "execution_count": 31,
   "metadata": {},
   "outputs": [],
   "source": [
    "def str_to_coords(coord_str):\n",
    "    x = int(coord_str.split(',')[0])\n",
    "    y = int(coord_str.split(',')[1])\n",
    "    return x, y\n",
    "\n",
    "\n",
    "def draw_line(start, end, grid):\n",
    "    start_x, start_y = str_to_coords(start)\n",
    "    end_x, end_y = str_to_coords(end)\n",
    "\n",
    "    for y in range(min(start_y, end_y), max(start_y, end_y) + 1):\n",
    "        for x in range(min(start_x, end_x), max(start_x, end_x) + 1):\n",
    "            grid[y, x] = 1\n",
    "    return grid\n",
    "\n",
    "\n",
    "grid = np.zeros((1500, 1500))\n",
    "for line in lines:\n",
    "    start = line[0]\n",
    "    for i in range(1, len(line)):\n",
    "        end = line[i]\n",
    "        grid = draw_line(start, end, grid)\n",
    "        start = end\n"
   ]
  },
  {
   "cell_type": "code",
   "execution_count": 32,
   "metadata": {},
   "outputs": [
    {
     "name": "stdout",
     "output_type": "stream",
     "text": [
      "674\n"
     ]
    }
   ],
   "source": [
    "def drop_sand(grid):\n",
    "    sand_x = 500\n",
    "    sand_y = 0\n",
    "    while True:\n",
    "        if grid[sand_y + 1, sand_x] == 0:\n",
    "            sand_y += 1\n",
    "            continue\n",
    "        else:\n",
    "            if grid[sand_y + 1, sand_x - 1] == 0:\n",
    "                sand_y += 1\n",
    "                sand_x -= 1\n",
    "                continue\n",
    "            elif grid[sand_y + 1, sand_x + 1] == 0:\n",
    "                sand_y += 1\n",
    "                sand_x += 1\n",
    "                continue\n",
    "            else:\n",
    "                return sand_x, sand_y\n",
    "i = 0\n",
    "grid_copy = grid.copy()\n",
    "while True:\n",
    "    try: \n",
    "        sand_x, sand_y = drop_sand(grid_copy)\n",
    "        grid_copy[sand_y, sand_x] = -1\n",
    "        i += 1\n",
    "    except:\n",
    "        print(i)\n",
    "        break"
   ]
  },
  {
   "cell_type": "markdown",
   "metadata": {},
   "source": [
    "### Part 2"
   ]
  },
  {
   "cell_type": "code",
   "execution_count": 33,
   "metadata": {},
   "outputs": [
    {
     "name": "stdout",
     "output_type": "stream",
     "text": [
      "24958\n"
     ]
    }
   ],
   "source": [
    "def remove_zero_rows(arr):\n",
    "    # Check if the array has at least one row\n",
    "    if arr.shape[0] == 0:\n",
    "        return arr\n",
    "\n",
    "    # Find the indices of rows that don't contain only zeros\n",
    "    nonzero_row_indices = np.where(np.any(arr != 0, axis=1))[0]\n",
    "\n",
    "    # If there are no such rows, return the original array\n",
    "    if len(nonzero_row_indices) == 0:\n",
    "        return arr\n",
    "\n",
    "    # Find the index of the last row that doesn't contain only zeros\n",
    "    last_nonzero_row_index = nonzero_row_indices[-1]\n",
    "\n",
    "    # Select only the rows before the last row that doesn't contain only zeros\n",
    "    return arr[:last_nonzero_row_index+3]\n",
    "\n",
    "\n",
    "grid_copy = grid.copy()\n",
    "\n",
    "grid_copy = remove_zero_rows(grid_copy)\n",
    "grid_copy[-1,:] = 1\n",
    "\n",
    "i = 0\n",
    "while True:\n",
    "    \n",
    "    try: \n",
    "        sand_x, sand_y = drop_sand(grid_copy)\n",
    "        grid_copy[sand_y, sand_x] = -1\n",
    "        \n",
    "        i += 1\n",
    "        if sand_y == 0 and sand_x == 500:\n",
    "            print(i)\n",
    "            break\n",
    "    except:\n",
    "        print(i)\n",
    "        break"
   ]
  },
  {
   "cell_type": "code",
   "execution_count": null,
   "metadata": {},
   "outputs": [],
   "source": []
  }
 ],
 "metadata": {
  "kernelspec": {
   "display_name": "Python 3.8.11 ('newenv')",
   "language": "python",
   "name": "python3"
  },
  "language_info": {
   "codemirror_mode": {
    "name": "ipython",
    "version": 3
   },
   "file_extension": ".py",
   "mimetype": "text/x-python",
   "name": "python",
   "nbconvert_exporter": "python",
   "pygments_lexer": "ipython3",
   "version": "3.8.11 (default, Aug  6 2021, 09:57:55) [MSC v.1916 64 bit (AMD64)]"
  },
  "orig_nbformat": 4,
  "vscode": {
   "interpreter": {
    "hash": "db4fb2da53b463202cc29faa1dff83472033a83d3730354993520b674a604c4a"
   }
  }
 },
 "nbformat": 4,
 "nbformat_minor": 2
}
