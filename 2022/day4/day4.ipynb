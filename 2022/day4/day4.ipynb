{
 "cells": [
  {
   "cell_type": "code",
   "execution_count": null,
   "metadata": {},
   "outputs": [],
   "source": []
  },
  {
   "cell_type": "markdown",
   "metadata": {},
   "source": [
    "### Part 1"
   ]
  },
  {
   "cell_type": "code",
   "execution_count": 2,
   "metadata": {},
   "outputs": [
    {
     "name": "stdout",
     "output_type": "stream",
     "text": [
      "['17-99,18-24', '14-91,22-91', '63-76,66-83', '17-57,17-28', '77-88,14-78']\n"
     ]
    }
   ],
   "source": [
    "with open('day4.txt', 'r') as f:\n",
    "    lines = [x.replace('\\n', '') for x in f.readlines()]\n",
    "\n",
    "print(lines[:5])"
   ]
  },
  {
   "cell_type": "code",
   "execution_count": 7,
   "metadata": {},
   "outputs": [
    {
     "name": "stdout",
     "output_type": "stream",
     "text": [
      "550\n"
     ]
    }
   ],
   "source": [
    "# The list of section assignment pairs\n",
    "pairs = [\n",
    "    '2-4,6-8',\n",
    "    '2-3,4-5',\n",
    "    '5-7,7-9',\n",
    "    '2-8,3-7',\n",
    "    '6-6,4-6',\n",
    "    '2-6,4-8'\n",
    "]\n",
    "pairs = lines\n",
    "\n",
    "# The number of pairs where one assignment fully contains the other\n",
    "num_full_contains = 0\n",
    "\n",
    "# Iterate over each pair of section assignments\n",
    "for pair in pairs:\n",
    "  # Split the pair into its two section assignments\n",
    "  assignments = pair.split(',')\n",
    "\n",
    "  # Split each assignment into its start and end values\n",
    "  start1, end1 = map(int, assignments[0].split('-'))\n",
    "  start2, end2 = map(int, assignments[1].split('-'))\n",
    "\n",
    "  # Check if one assignment fully contains the other\n",
    "  if (start1 <= start2 and end1 >= end2) or (start2 <= start1 and end2 >= end1):\n",
    "    # If it does, increment the counter\n",
    "    num_full_contains += 1\n",
    "\n",
    "# Print the final result\n",
    "print(num_full_contains)  # Output: 2"
   ]
  },
  {
   "cell_type": "markdown",
   "metadata": {},
   "source": [
    "### Part 2"
   ]
  },
  {
   "cell_type": "code",
   "execution_count": 8,
   "metadata": {},
   "outputs": [
    {
     "name": "stdout",
     "output_type": "stream",
     "text": [
      "931\n"
     ]
    }
   ],
   "source": [
    "# The number of pairs that overlap\n",
    "num_overlaps = 0\n",
    "\n",
    "# Iterate over each pair of section assignments\n",
    "for pair in pairs:\n",
    "  # Split the pair into its two section assignments\n",
    "  assignments = pair.split(',')\n",
    "\n",
    "  # Split each assignment into its start and end values\n",
    "  start1, end1 = map(int, assignments[0].split('-'))\n",
    "  start2, end2 = map(int, assignments[1].split('-'))\n",
    "\n",
    "  # Check if the ranges of the two assignments overlap\n",
    "  if start1 <= end2 and start2 <= end1:\n",
    "    # If they do, increment the counter\n",
    "    num_overlaps += 1\n",
    "\n",
    "# Print the final result\n",
    "print(num_overlaps)  # Output: 4"
   ]
  }
 ],
 "metadata": {
  "kernelspec": {
   "display_name": "Python 3.8.11 ('newenv')",
   "language": "python",
   "name": "python3"
  },
  "language_info": {
   "codemirror_mode": {
    "name": "ipython",
    "version": 3
   },
   "file_extension": ".py",
   "mimetype": "text/x-python",
   "name": "python",
   "nbconvert_exporter": "python",
   "pygments_lexer": "ipython3",
   "version": "3.8.11"
  },
  "orig_nbformat": 4,
  "vscode": {
   "interpreter": {
    "hash": "db4fb2da53b463202cc29faa1dff83472033a83d3730354993520b674a604c4a"
   }
  }
 },
 "nbformat": 4,
 "nbformat_minor": 2
}
