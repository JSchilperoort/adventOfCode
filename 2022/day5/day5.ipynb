{
 "cells": [
  {
   "cell_type": "code",
   "execution_count": null,
   "metadata": {},
   "outputs": [],
   "source": []
  },
  {
   "cell_type": "markdown",
   "metadata": {},
   "source": [
    "### Part 1"
   ]
  },
  {
   "cell_type": "code",
   "execution_count": 87,
   "metadata": {},
   "outputs": [],
   "source": [
    "def process_input(lines):\n",
    "    rows = list()\n",
    "    stacks = list()\n",
    "    instructions = list()\n",
    "    for line in lines:\n",
    "        if '[' in line:\n",
    "            row = [line[i] for i in range(1, len(line), 4)]\n",
    "            rows.append(row)\n",
    "        elif line.startswith(' 1'):\n",
    "            stacks = [list() for _ in range(len(rows[0]))]\n",
    "            for row in reversed(rows):\n",
    "                for i, col in enumerate(row):\n",
    "                    if col != ' ':\n",
    "                        stacks[i].append(col)\n",
    "        elif line.startswith('move'):\n",
    "            n = int(line.split('move ')[1].split(' from')[0])\n",
    "            origin = int(line.split('from ')[1].split(' to')[0]) - 1\n",
    "            destination = int(line.split('to ')[1]) - 1\n",
    "            instructions.append([n, origin, destination])\n",
    "    return stacks, instructions"
   ]
  },
  {
   "cell_type": "code",
   "execution_count": 127,
   "metadata": {},
   "outputs": [
    {
     "name": "stdout",
     "output_type": "stream",
     "text": [
      "[['R', 'N', 'F', 'V', 'L', 'J', 'S', 'M'], ['P', 'N', 'D', 'Z', 'F', 'J', 'W', 'H'], ['W', 'R', 'C', 'D', 'G'], ['N', 'B', 'S'], ['M', 'Z', 'W', 'P', 'C', 'B', 'F', 'N'], ['P', 'R', 'M', 'W'], ['R', 'T', 'N', 'G', 'L', 'S', 'W'], ['Q', 'T', 'H', 'F', 'N', 'B', 'V'], ['L', 'M', 'H', 'Z', 'N', 'F']]\n"
     ]
    }
   ],
   "source": [
    "with open('day5.txt', 'r') as f:\n",
    "    lines = [x.replace('\\n', '') for x in f.readlines()]\n",
    "\n",
    "stacks, instructions = process_input(lines)\n",
    "print(stacks)\n",
    "\n"
   ]
  },
  {
   "cell_type": "code",
   "execution_count": 107,
   "metadata": {},
   "outputs": [
    {
     "name": "stdout",
     "output_type": "stream",
     "text": [
      "QPJPLMNNR\n"
     ]
    }
   ],
   "source": [
    "# test_input = '''    [D]    \n",
    "# [N] [C]    \n",
    "# [Z] [M] [P]\n",
    "#  1   2   3 \n",
    "\n",
    "# move 1 from 2 to 1\n",
    "# move 3 from 1 to 3\n",
    "# move 2 from 2 to 1\n",
    "# move 1 from 1 to 2'''\n",
    "# lines = test_input.split('\\n')\n",
    "\n",
    "# stacks, instructions = process_input(lines)\n",
    "\n",
    "for n, origin, destination in instructions:\n",
    "    for i in range(n):\n",
    "        stacks[destination].append(stacks[origin].pop())\n",
    "\n",
    "print(''.join([x[-1] for x in stacks]))"
   ]
  },
  {
   "cell_type": "markdown",
   "metadata": {},
   "source": [
    "### Part 2"
   ]
  },
  {
   "cell_type": "code",
   "execution_count": 128,
   "metadata": {},
   "outputs": [
    {
     "name": "stdout",
     "output_type": "stream",
     "text": [
      "BQDNWJPVJ\n"
     ]
    }
   ],
   "source": [
    "# test_input = '''    [D]    \n",
    "# [N] [C]    \n",
    "# [Z] [M] [P]\n",
    "#  1   2   3 \n",
    "\n",
    "# move 1 from 2 to 1\n",
    "# move 3 from 1 to 3\n",
    "# move 2 from 2 to 1\n",
    "# move 1 from 1 to 2'''\n",
    "# lines = test_input.split('\\n')\n",
    "\n",
    "# stacks, instructions = process_input(lines)\n",
    "\n",
    "for n, origin, destination in instructions:\n",
    "    to_move = stacks[origin][-n:]\n",
    "    stacks[origin] = stacks[origin][:-n]\n",
    "    stacks[destination] = stacks[destination] + to_move\n",
    "\n",
    "\n",
    "\n",
    "print(''.join([x[-1] for x in stacks]))"
   ]
  }
 ],
 "metadata": {
  "kernelspec": {
   "display_name": "Python 3.8.11 ('newenv')",
   "language": "python",
   "name": "python3"
  },
  "language_info": {
   "codemirror_mode": {
    "name": "ipython",
    "version": 3
   },
   "file_extension": ".py",
   "mimetype": "text/x-python",
   "name": "python",
   "nbconvert_exporter": "python",
   "pygments_lexer": "ipython3",
   "version": "3.8.11"
  },
  "orig_nbformat": 4,
  "vscode": {
   "interpreter": {
    "hash": "db4fb2da53b463202cc29faa1dff83472033a83d3730354993520b674a604c4a"
   }
  }
 },
 "nbformat": 4,
 "nbformat_minor": 2
}
