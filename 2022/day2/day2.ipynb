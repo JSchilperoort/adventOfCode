{
 "cells": [
  {
   "cell_type": "code",
   "execution_count": null,
   "metadata": {},
   "outputs": [],
   "source": []
  },
  {
   "cell_type": "markdown",
   "metadata": {},
   "source": [
    "### Part 1"
   ]
  },
  {
   "cell_type": "code",
   "execution_count": 1,
   "metadata": {},
   "outputs": [
    {
     "name": "stdout",
     "output_type": "stream",
     "text": [
      "['C Y', 'C X', 'A Z', 'B X', 'B Z']\n"
     ]
    }
   ],
   "source": [
    "with open('day2.txt', 'r') as f:\n",
    "    lines = [x.replace('\\n', '') for x in f.readlines()]\n",
    "\n",
    "print(lines[:5])"
   ]
  },
  {
   "cell_type": "code",
   "execution_count": 2,
   "metadata": {},
   "outputs": [
    {
     "name": "stdout",
     "output_type": "stream",
     "text": [
      "13446\n"
     ]
    }
   ],
   "source": [
    "points = 0\n",
    "for line in lines:\n",
    "    opponent, me = line.split(' ')\n",
    "    if me == 'X':  # Rock\n",
    "        points += 1\n",
    "        if opponent == 'A':  # Rock\n",
    "            points += 3\n",
    "        elif opponent == 'B':  # Paper\n",
    "            points += 0\n",
    "        elif opponent == 'C':  # Scissors\n",
    "            points += 6\n",
    "    elif me == 'Y':  # Paper\n",
    "        points += 2\n",
    "        if opponent == 'A':  # Rock\n",
    "            points += 6\n",
    "        elif opponent == 'B':  # Paper\n",
    "            points += 3\n",
    "        elif opponent == 'C':  # Scissors\n",
    "            points += 0\n",
    "    elif me == 'Z':  # Scissors\n",
    "        points += 3\n",
    "        if opponent == 'A':  # Rock\n",
    "            points += 0\n",
    "        elif opponent == 'B':  # Paper\n",
    "            points += 6\n",
    "        elif opponent == 'C':  # Scissors\n",
    "            points += 3\n",
    "print(points)"
   ]
  },
  {
   "cell_type": "markdown",
   "metadata": {},
   "source": [
    "### Part 2"
   ]
  },
  {
   "cell_type": "code",
   "execution_count": 3,
   "metadata": {},
   "outputs": [
    {
     "name": "stdout",
     "output_type": "stream",
     "text": [
      "13509\n"
     ]
    }
   ],
   "source": [
    "points = 0\n",
    "for line in lines:\n",
    "    opponent, me = line.split(' ')\n",
    "    if me == 'X':  # Need to lose\n",
    "        points += 0\n",
    "        if opponent == 'A':  # Rock, choose scissors\n",
    "            points += 3\n",
    "        elif opponent == 'B':  # Paper, choose rock\n",
    "            points += 1\n",
    "        elif opponent == 'C':  # Scissors, choose paper\n",
    "            points += 2\n",
    "    elif me == 'Y':  # Need to draw\n",
    "        points += 3\n",
    "        if opponent == 'A':  # Rock, choose rock\n",
    "            points += 1\n",
    "        elif opponent == 'B':  # Paper, choose paper\n",
    "            points += 2\n",
    "        elif opponent == 'C':  # Scissors, choose scissors\n",
    "            points += 3\n",
    "    elif me == 'Z':  # Need to win\n",
    "        points += 6\n",
    "        if opponent == 'A':  # Rock, choose paper\n",
    "            points += 2\n",
    "        elif opponent == 'B':  # Paper, choose scissors\n",
    "            points += 3\n",
    "\n",
    "        elif opponent == 'C':  # Scissors, choose rock\n",
    "            points += 1\n",
    "\n",
    "print(points)"
   ]
  }
 ],
 "metadata": {
  "kernelspec": {
   "display_name": "Python 3.8.11 ('newenv')",
   "language": "python",
   "name": "python3"
  },
  "language_info": {
   "codemirror_mode": {
    "name": "ipython",
    "version": 3
   },
   "file_extension": ".py",
   "mimetype": "text/x-python",
   "name": "python",
   "nbconvert_exporter": "python",
   "pygments_lexer": "ipython3",
   "version": "3.8.11"
  },
  "orig_nbformat": 4,
  "vscode": {
   "interpreter": {
    "hash": "db4fb2da53b463202cc29faa1dff83472033a83d3730354993520b674a604c4a"
   }
  }
 },
 "nbformat": 4,
 "nbformat_minor": 2
}
