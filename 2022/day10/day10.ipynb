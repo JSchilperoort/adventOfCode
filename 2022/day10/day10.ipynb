{
 "cells": [
  {
   "cell_type": "code",
   "execution_count": null,
   "metadata": {},
   "outputs": [],
   "source": []
  },
  {
   "cell_type": "markdown",
   "metadata": {},
   "source": [
    "### Part 1"
   ]
  },
  {
   "cell_type": "code",
   "execution_count": 39,
   "metadata": {},
   "outputs": [
    {
     "name": "stdout",
     "output_type": "stream",
     "text": [
      "['noop', 'noop', 'addx 5', 'noop', 'noop']\n"
     ]
    }
   ],
   "source": [
    "with open('day10.txt', 'r') as f:\n",
    "    lines = [x.replace('\\n', '') for x in f.readlines()]\n",
    "\n",
    "print(lines[:5])"
   ]
  },
  {
   "cell_type": "code",
   "execution_count": 40,
   "metadata": {},
   "outputs": [
    {
     "name": "stdout",
     "output_type": "stream",
     "text": [
      "During the 20th cycle, register X has the value 21, so the signal strength is 20 * 21 = 420\n",
      "During the 60th cycle, register X has the value 21, so the signal strength is 60 * 21 = 1260\n",
      "During the 100th cycle, register X has the value 21, so the signal strength is 100 * 21 = 2100\n",
      "During the 140th cycle, register X has the value 21, so the signal strength is 140 * 21 = 2940\n",
      "During the 180th cycle, register X has the value 14, so the signal strength is 180 * 14 = 2520\n",
      "During the 220th cycle, register X has the value 17, so the signal strength is 220 * 17 = 3740\n",
      "sum = 12980\n"
     ]
    }
   ],
   "source": [
    "def new_cycle(cycle, X):\n",
    "    cycle += 1\n",
    "    if (cycle-20) % 40 == 0:\n",
    "        print(\"During the {}th cycle, register X has the value {}, so the signal strength is {} * {} = {}\".format(cycle, X, cycle, X, X*(cycle)))\n",
    "        return cycle, X*(cycle)\n",
    "\n",
    "    return cycle, 0\n",
    "\n",
    "\n",
    "X = 1\n",
    "cycle = 0\n",
    "sum = 0\n",
    "for line in lines:\n",
    "    if line == 'noop':\n",
    "        cycle, product = new_cycle(cycle, X)\n",
    "        sum += product\n",
    "    else:\n",
    "        addx = int(line.split('addx ')[1])\n",
    "        cycle, product = new_cycle(cycle, X)\n",
    "        sum += product\n",
    "        cycle, product = new_cycle(cycle, X)\n",
    "        sum += product\n",
    "        X += addx\n",
    "print('sum = {}'.format(sum))"
   ]
  },
  {
   "cell_type": "markdown",
   "metadata": {},
   "source": [
    "### Part 2"
   ]
  },
  {
   "cell_type": "code",
   "execution_count": 41,
   "metadata": {},
   "outputs": [
    {
     "name": "stdout",
     "output_type": "stream",
     "text": [
      "###..###....##.#....####.#..#.#....###..\n",
      "#..#.#..#....#.#....#....#..#.#....#..#.\n",
      "###..#..#....#.#....###..#..#.#....#..#.\n",
      "#..#.###.....#.#....#....#..#.#....###..\n",
      "#..#.#.#..#..#.#....#....#..#.#....#....\n",
      "###..#..#..##..####.#.....##..####.#....\n"
     ]
    }
   ],
   "source": [
    "def new_cycle(cycle, X, current_crt_row):\n",
    "    pixel_pos = cycle % 40\n",
    "    if cycle != 0 and cycle % 40 == 0:\n",
    "        current_crt_row += '\\n'\n",
    "    if pixel_pos in [X-1, X, X+1]:\n",
    "        current_crt_row += '#'\n",
    "    else:\n",
    "        current_crt_row += '.'\n",
    "    cycle += 1\n",
    "    return cycle, current_crt_row\n",
    "\n",
    "current_crt_row = ''\n",
    "X = 1\n",
    "cycle = 0\n",
    "for line in lines:\n",
    "    if line == 'noop':\n",
    "        \n",
    "        cycle, current_crt_row = new_cycle(cycle, X, current_crt_row)\n",
    "    else:\n",
    "        addx = int(line.split('addx ')[1])\n",
    "        cycle, current_crt_row = new_cycle(cycle, X, current_crt_row)\n",
    "        cycle, current_crt_row = new_cycle(cycle, X, current_crt_row)\n",
    "        X += addx\n",
    "print(current_crt_row)"
   ]
  }
 ],
 "metadata": {
  "kernelspec": {
   "display_name": "Python 3.8.11 ('newenv')",
   "language": "python",
   "name": "python3"
  },
  "language_info": {
   "codemirror_mode": {
    "name": "ipython",
    "version": 3
   },
   "file_extension": ".py",
   "mimetype": "text/x-python",
   "name": "python",
   "nbconvert_exporter": "python",
   "pygments_lexer": "ipython3",
   "version": "3.8.11"
  },
  "orig_nbformat": 4,
  "vscode": {
   "interpreter": {
    "hash": "db4fb2da53b463202cc29faa1dff83472033a83d3730354993520b674a604c4a"
   }
  }
 },
 "nbformat": 4,
 "nbformat_minor": 2
}
