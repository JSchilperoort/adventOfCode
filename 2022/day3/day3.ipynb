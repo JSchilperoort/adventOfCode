{
 "cells": [
  {
   "cell_type": "code",
   "execution_count": 15,
   "metadata": {},
   "outputs": [
    {
     "name": "stdout",
     "output_type": "stream",
     "text": [
      "['lflZfgnSnlmmlgGfjGthQPtLNsQhvbHLLpSS', 'zrCVDVFMJTCTcCJMwCThWbtbpbWpPbtbHPLQssLsHP', 'rBFcrwFzFwwVDcDrzTzJfnRGjllBdGZnnZfhqmdn', 'FjpnFRDmbRtnbJrFJmSTsGShWVhGqGVVsmqs', 'ZwPvNPdzNZwfzBNLdNNNNcLvhnQhqMTVsTGSWSqGqTdVWhMT']\n"
     ]
    }
   ],
   "source": [
    "with open('day3.txt', 'r') as f:\n",
    "    lines = [x.strip() for x in f.readlines()]\n",
    "\n",
    "print(lines[:5])"
   ]
  },
  {
   "cell_type": "markdown",
   "metadata": {},
   "source": [
    "### Part 1"
   ]
  },
  {
   "cell_type": "code",
   "execution_count": 16,
   "metadata": {},
   "outputs": [
    {
     "name": "stdout",
     "output_type": "stream",
     "text": [
      "8401\n"
     ]
    }
   ],
   "source": [
    "# The list of rucksack contents\n",
    "rucksacks = lines\n",
    "\n",
    "# The sum of the priorities of the common item types\n",
    "total_priority = 0\n",
    "\n",
    "# Iterate over each rucksack\n",
    "for rucksack in rucksacks:\n",
    "  # Get the first and second compartments of the rucksack\n",
    "  first_compartment = rucksack[:len(rucksack) // 2]\n",
    "  second_compartment = rucksack[len(rucksack) // 2:]\n",
    "\n",
    "  # Find the common item type by iterating over each item in the first compartment\n",
    "  # and checking if it also appears in the second compartment\n",
    "  for item in first_compartment:\n",
    "    if item in second_compartment:\n",
    "      # If the item appears in both compartments, convert it to its priority\n",
    "      # and add it to the total priority\n",
    "      if item.islower():\n",
    "        priority = ord(item) - ord('a') + 1\n",
    "      else:\n",
    "        priority = ord(item) - ord('A') + 27\n",
    "      total_priority += priority\n",
    "      # Break out of the loop once the common item type has been found\n",
    "      break\n",
    "\n",
    "# Print the final result\n",
    "print(total_priority)  # Output: 157\n"
   ]
  },
  {
   "cell_type": "markdown",
   "metadata": {},
   "source": [
    "### Part 2"
   ]
  },
  {
   "cell_type": "code",
   "execution_count": 23,
   "metadata": {},
   "outputs": [
    {
     "name": "stdout",
     "output_type": "stream",
     "text": [
      "2641\n"
     ]
    }
   ],
   "source": [
    "def find_common_character(strings):\n",
    "  # Get the first string in the list\n",
    "  common = strings[0]\n",
    "\n",
    "  # Iterate over the remaining strings in the list\n",
    "  for string in strings[1:]:\n",
    "    # Use a list comprehension to find the common characters between the current\n",
    "    # string and the `common` string\n",
    "    common = [c for c in common if c in string]\n",
    "\n",
    "  # Return the first common character, or an empty string if no common characters were found\n",
    "  return common[0] if common else ''\n",
    "\n",
    "total_priority = 0\n",
    "i = 0\n",
    "while i < len(rucksacks):\n",
    "    badge = find_common_character(rucksacks[i:i+3])\n",
    "    if badge.islower():\n",
    "        priority = ord(badge) - ord('a') + 1\n",
    "    else:\n",
    "        priority = ord(badge) - ord('A') + 27\n",
    "    total_priority += priority\n",
    "    i += 3\n",
    "print(total_priority)\n"
   ]
  },
  {
   "cell_type": "code",
   "execution_count": null,
   "metadata": {},
   "outputs": [],
   "source": []
  }
 ],
 "metadata": {
  "kernelspec": {
   "display_name": "Python 3.8.11 ('newenv')",
   "language": "python",
   "name": "python3"
  },
  "language_info": {
   "codemirror_mode": {
    "name": "ipython",
    "version": 3
   },
   "file_extension": ".py",
   "mimetype": "text/x-python",
   "name": "python",
   "nbconvert_exporter": "python",
   "pygments_lexer": "ipython3",
   "version": "3.8.11"
  },
  "orig_nbformat": 4,
  "vscode": {
   "interpreter": {
    "hash": "db4fb2da53b463202cc29faa1dff83472033a83d3730354993520b674a604c4a"
   }
  }
 },
 "nbformat": 4,
 "nbformat_minor": 2
}
