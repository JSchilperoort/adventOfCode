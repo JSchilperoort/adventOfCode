{
 "cells": [
  {
   "cell_type": "code",
   "execution_count": null,
   "metadata": {},
   "outputs": [],
   "source": []
  },
  {
   "cell_type": "markdown",
   "metadata": {},
   "source": [
    "### Part 1"
   ]
  },
  {
   "cell_type": "code",
   "execution_count": 1,
   "metadata": {},
   "outputs": [
    {
     "name": "stdout",
     "output_type": "stream",
     "text": [
      "['Valve AA has flow rate=0; tunnels lead to valves DD, II, BB', 'Valve BB has flow rate=13; tunnels lead to valves CC, AA', 'Valve CC has flow rate=2; tunnels lead to valves DD, BB', 'Valve DD has flow rate=20; tunnels lead to valves CC, AA, EE', 'Valve EE has flow rate=3; tunnels lead to valves FF, DD']\n"
     ]
    }
   ],
   "source": [
    "with open('day16test.txt', 'r') as f:\n",
    "    lines = [x.replace('\\n', '') for x in f.readlines()]\n",
    "\n",
    "print(lines[:5])"
   ]
  },
  {
   "cell_type": "code",
   "execution_count": 2,
   "metadata": {},
   "outputs": [],
   "source": [
    "class Valve:\n",
    "    def __init__(self, name, flow_rate, connections):\n",
    "        self.name = name\n",
    "        self.flow_rate = flow_rate\n",
    "        self.is_open = False\n",
    "        self.connections = connections\n"
   ]
  },
  {
   "cell_type": "code",
   "execution_count": 3,
   "metadata": {},
   "outputs": [],
   "source": [
    "valves = list()\n",
    "\n",
    "for line in lines:\n",
    "    name = line[6:8]\n",
    "    flow_rate = int(line.split('flow rate=')[1].split(';')[0])\n",
    "    tunnels = line.split('tunnel')[-1].split('valve')[-1]\n",
    "    if tunnels.startswith('s'):\n",
    "        tunnels = tunnels[2:]\n",
    "    else:\n",
    "        tunnels = tunnels[1:]\n",
    "    tunnels = tunnels.split(', ')\n",
    "\n",
    "    valves.append(Valve(name, flow_rate, tunnels))\n"
   ]
  },
  {
   "cell_type": "code",
   "execution_count": 5,
   "metadata": {},
   "outputs": [
    {
     "ename": "AttributeError",
     "evalue": "module 'functools' has no attribute 'cache'",
     "output_type": "error",
     "traceback": [
      "\u001b[1;31m---------------------------------------------------------------------------\u001b[0m",
      "\u001b[1;31mAttributeError\u001b[0m                            Traceback (most recent call last)",
      "\u001b[1;32mC:\\Users\\J328E~1.SCH\\AppData\\Local\\Temp/ipykernel_18984/2056153503.py\u001b[0m in \u001b[0;36m<module>\u001b[1;34m\u001b[0m\n\u001b[0;32m      4\u001b[0m \u001b[1;32mimport\u001b[0m \u001b[0mfunctools\u001b[0m\u001b[1;33m\u001b[0m\u001b[1;33m\u001b[0m\u001b[0m\n\u001b[0;32m      5\u001b[0m \u001b[1;33m\u001b[0m\u001b[0m\n\u001b[1;32m----> 6\u001b[1;33m \u001b[1;33m@\u001b[0m\u001b[0mfunctools\u001b[0m\u001b[1;33m.\u001b[0m\u001b[0mcache\u001b[0m\u001b[1;33m\u001b[0m\u001b[1;33m\u001b[0m\u001b[0m\n\u001b[0m\u001b[0;32m      7\u001b[0m \u001b[1;32mdef\u001b[0m \u001b[0mpath\u001b[0m\u001b[1;33m(\u001b[0m\u001b[0mopened_valves\u001b[0m\u001b[1;33m,\u001b[0m \u001b[0mtime_left\u001b[0m\u001b[1;33m,\u001b[0m \u001b[0mcurrent_valve_id\u001b[0m\u001b[1;33m)\u001b[0m\u001b[1;33m:\u001b[0m\u001b[1;33m\u001b[0m\u001b[1;33m\u001b[0m\u001b[0m\n\u001b[0;32m      8\u001b[0m     \u001b[1;32mif\u001b[0m \u001b[0mtime\u001b[0m \u001b[1;33m<=\u001b[0m \u001b[1;36m0\u001b[0m\u001b[1;33m:\u001b[0m\u001b[1;33m\u001b[0m\u001b[1;33m\u001b[0m\u001b[0m\n",
      "\u001b[1;31mAttributeError\u001b[0m: module 'functools' has no attribute 'cache'"
     ]
    }
   ],
   "source": [
    "time = 30\n",
    "valve = [x for x in valves if x.name == 'AA'][0]\n",
    "\n",
    "import functools\n",
    "\n",
    "@functools.cache\n",
    "def path(opened_valves, time_left, current_valve_id):\n",
    "    if time <= 0:\n",
    "        return 0\n",
    "    \n",
    "    most_relief = 0\n",
    "    current_valve = [x for x in valves if x.name == current_valve_id][0]\n",
    "\n",
    "\n",
    "    for neighbour in current_valve.connections:\n",
    "            most_relief = max(most_relief, path(opened_valves, time_left - 1, neighbour))\n",
    "\n",
    "    if current_valve_id not in opened_valves and current_valve.flow_rate > 0 and time_left > 0:\n",
    "        opened_valves = set(opened_valves)\n",
    "        opened_valves.add(current_valve_id)\n",
    "        time_left -= 1\n",
    "        total_released = time_left * current_valve.flow_rate\n",
    "\n",
    "        for neighbour in current_valve.connections:\n",
    "            most_relief = max(most_relief, total_released + path(frozenset(opened_valves), time_left - 1, neighbour))\n",
    "\n",
    "    return most_relief\n",
    "    \n",
    "\n",
    "path(frozenset(), 30, 'AA')\n"
   ]
  },
  {
   "cell_type": "markdown",
   "metadata": {},
   "source": [
    "### Part 2"
   ]
  },
  {
   "cell_type": "code",
   "execution_count": null,
   "metadata": {},
   "outputs": [],
   "source": []
  }
 ],
 "metadata": {
  "kernelspec": {
   "display_name": "Python 3.8.11 ('newenv')",
   "language": "python",
   "name": "python3"
  },
  "language_info": {
   "codemirror_mode": {
    "name": "ipython",
    "version": 3
   },
   "file_extension": ".py",
   "mimetype": "text/x-python",
   "name": "python",
   "nbconvert_exporter": "python",
   "pygments_lexer": "ipython3",
   "version": "3.8.11"
  },
  "orig_nbformat": 4,
  "vscode": {
   "interpreter": {
    "hash": "db4fb2da53b463202cc29faa1dff83472033a83d3730354993520b674a604c4a"
   }
  }
 },
 "nbformat": 4,
 "nbformat_minor": 2
}
