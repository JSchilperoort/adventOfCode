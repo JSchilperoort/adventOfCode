{
 "cells": [
  {
   "cell_type": "code",
   "execution_count": 1,
   "metadata": {},
   "outputs": [],
   "source": [
    "import numpy as np\n",
    "from tqdm import tqdm"
   ]
  },
  {
   "cell_type": "markdown",
   "metadata": {},
   "source": [
    "### Part 1"
   ]
  },
  {
   "cell_type": "code",
   "execution_count": 2,
   "metadata": {},
   "outputs": [
    {
     "name": "stdout",
     "output_type": "stream",
     "text": [
      "['Sensor at x=3729579, y=1453415: closest beacon is at x=4078883, y=2522671', 'Sensor at x=3662668, y=2749205: closest beacon is at x=4078883, y=2522671', 'Sensor at x=257356, y=175834: closest beacon is at x=1207332, y=429175', 'Sensor at x=2502777, y=3970934: closest beacon is at x=3102959, y=3443573', 'Sensor at x=24076, y=2510696: closest beacon is at x=274522, y=2000000']\n"
     ]
    }
   ],
   "source": [
    "with open('day15.txt', 'r') as f:\n",
    "    lines = [x.replace('\\n', '') for x in f.readlines()]\n",
    "\n",
    "print(lines[:5])"
   ]
  },
  {
   "cell_type": "code",
   "execution_count": 3,
   "metadata": {},
   "outputs": [],
   "source": [
    "sensors = list()\n",
    "beacons = list()\n",
    "\n",
    "for line in lines:\n",
    "    sensor_x = int(line.split('sor at x=')[-1].split(',')[0])\n",
    "    sensor_y = int(line.split(': clo')[0].split('y=')[-1])\n",
    "    beacon_x = int(line.split('con is at x=')[-1].split(',')[0])\n",
    "    beacon_y = int(line.split('y=')[-1])\n",
    "\n",
    "    sensors.append([sensor_y, sensor_x])\n",
    "    beacons.append([beacon_y, beacon_x])\n",
    "\n",
    "min_x = min(min([x[1] for x in sensors]), min([x[1] for x in beacons]))\n",
    "min_y = min(min([y[0] for y in sensors]), min([y[0] for y in beacons]))\n",
    "max_x = max(max([x[1] for x in sensors]), max([x[1] for x in beacons]))\n",
    "max_y = max(max([y[0] for y in sensors]), max([y[0] for y in beacons]))\n"
   ]
  },
  {
   "cell_type": "code",
   "execution_count": 4,
   "metadata": {},
   "outputs": [],
   "source": [
    "def n_no_beacon(sensors, beacons, row=10):\n",
    "    impossible_positions_row = list()\n",
    "    for sensor, beacon in zip(sensors, beacons):\n",
    "\n",
    "        sensor_beacon_dist = abs(sensor[0] - beacon[0]) + abs(sensor[1] - beacon[1])\n",
    "        sensor_row_ydist = abs(sensor[0] - row)\n",
    "\n",
    "        impossible_positions_row.extend(list(range(sensor[1] - (sensor_beacon_dist - sensor_row_ydist), sensor[1] + (sensor_beacon_dist - sensor_row_ydist) + 1)))\n",
    "        impossible_positions_row = list(set(impossible_positions_row))\n",
    "\n",
    "    ignore_x = list(set([x[1] for x in sensors if x[0] == row] + [x[1] for x in beacons if x[0] == row]))\n",
    "    impossible_positions_row = [x for x in impossible_positions_row if x not in ignore_x]\n",
    "    return len(impossible_positions_row)\n"
   ]
  },
  {
   "cell_type": "code",
   "execution_count": 5,
   "metadata": {},
   "outputs": [
    {
     "name": "stdout",
     "output_type": "stream",
     "text": [
      "4984495\n"
     ]
    }
   ],
   "source": [
    "print(n_no_beacon(sensors, beacons, row=10))"
   ]
  },
  {
   "cell_type": "code",
   "execution_count": 6,
   "metadata": {},
   "outputs": [
    {
     "name": "stdout",
     "output_type": "stream",
     "text": [
      "4827924\n"
     ]
    }
   ],
   "source": [
    "print(n_no_beacon(sensors, beacons, row=2000000))"
   ]
  },
  {
   "cell_type": "markdown",
   "metadata": {},
   "source": [
    "### Part 2"
   ]
  },
  {
   "cell_type": "code",
   "execution_count": 7,
   "metadata": {},
   "outputs": [],
   "source": [
    "def find_border_p1(sensors, beacons):\n",
    "    border = list()\n",
    "    for sensor, beacon in zip(sensors, beacons):\n",
    "        sensor_beacon_dist = abs(sensor[0] - beacon[0]) + abs(sensor[1] - beacon[1])\n",
    "        y = sensor[0] - sensor_beacon_dist - 1\n",
    "        for x in range(sensor[1], sensor[1] + sensor_beacon_dist + 2):\n",
    "            border.append([y, x])\n",
    "            y += 1\n",
    "\n",
    "        y = sensor[0] + sensor_beacon_dist + 1\n",
    "        for x in range(sensor[1], sensor[1] + sensor_beacon_dist + 1):\n",
    "            border.append([y, x])\n",
    "            y -= 1\n",
    "\n",
    "        y = sensor[0]\n",
    "        for x in range(sensor[1] - sensor_beacon_dist - 1, sensor[1]):\n",
    "            border.append([y, x])\n",
    "            y += 1\n",
    "\n",
    "        y = sensor[0] - 1\n",
    "        for x in range(sensor[1] - sensor_beacon_dist, sensor[1]):\n",
    "            border.append([y, x])\n",
    "            y -= 1\n",
    "    return border\n",
    "\n",
    "border = find_border_p1(sensors, beacons)\n"
   ]
  },
  {
   "cell_type": "code",
   "execution_count": 8,
   "metadata": {},
   "outputs": [
    {
     "name": "stderr",
     "output_type": "stream",
     "text": [
      "  9%|▉         | 7184104/77885252 [00:41<06:49, 172824.33it/s] "
     ]
    },
    {
     "name": "stdout",
     "output_type": "stream",
     "text": [
      "12977110973564\n"
     ]
    },
    {
     "name": "stderr",
     "output_type": "stream",
     "text": [
      "\n"
     ]
    }
   ],
   "source": [
    "def find_distress_position(sensors, beacons, min_x=0, max_x=20, min_y=0, max_y=20):\n",
    "    for y, x in tqdm(border):\n",
    "        if x <= max_x and y <= max_y and x >= min_x and y >= min_y:\n",
    "            within_range = False\n",
    "            for sensor, beacon in zip(sensors, beacons):\n",
    "                sensor_beacon_dist = abs(sensor[0] - beacon[0]) + abs(sensor[1] - beacon[1])\n",
    "                sensor_border_dist = abs(sensor[0] - y) + abs(sensor[1] - x)\n",
    "\n",
    "                if sensor_border_dist <= sensor_beacon_dist:\n",
    "                    within_range = True\n",
    "                    break\n",
    "            if within_range == False:\n",
    "                return [y, x]\n",
    "    \n",
    "distress_y, distress_x = find_distress_position(sensors, beacons, min_x=0, max_x=4000000, min_y=0, max_y=4000000)\n",
    "\n",
    "tuning_frequency = 4000000 * distress_x + distress_y\n",
    "\n",
    "print(tuning_frequency)"
   ]
  }
 ],
 "metadata": {
  "kernelspec": {
   "display_name": "Python 3.8.11 ('newenv')",
   "language": "python",
   "name": "python3"
  },
  "language_info": {
   "codemirror_mode": {
    "name": "ipython",
    "version": 3
   },
   "file_extension": ".py",
   "mimetype": "text/x-python",
   "name": "python",
   "nbconvert_exporter": "python",
   "pygments_lexer": "ipython3",
   "version": "3.8.11"
  },
  "orig_nbformat": 4,
  "vscode": {
   "interpreter": {
    "hash": "db4fb2da53b463202cc29faa1dff83472033a83d3730354993520b674a604c4a"
   }
  }
 },
 "nbformat": 4,
 "nbformat_minor": 2
}
