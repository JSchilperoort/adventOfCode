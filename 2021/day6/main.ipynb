{
 "cells": [
  {
   "cell_type": "code",
   "execution_count": 2,
   "metadata": {},
   "outputs": [
    {
     "name": "stdout",
     "output_type": "stream",
     "text": [
      "1708791884591\n",
      "0:00:00.001968\n"
     ]
    }
   ],
   "source": [
    "from datetime import datetime\n",
    "\n",
    "start_time = datetime.now()\n",
    "starting_fish = [int(i) for i in open(\"data.txt\", \"r\").read().split(',')]\n",
    "total = 0\n",
    "\n",
    "# Counts how many fish have the same days left till spawn\n",
    "current_states = {\n",
    "    0: starting_fish.count(0),\n",
    "    1: starting_fish.count(1),\n",
    "    2: starting_fish.count(2),\n",
    "    3: starting_fish.count(3),\n",
    "    4: starting_fish.count(4),\n",
    "    5: starting_fish.count(5),\n",
    "    6: starting_fish.count(6),\n",
    "    7: starting_fish.count(7),\n",
    "    8: starting_fish.count(8)\n",
    "}\n",
    "next_states = {}\n",
    "\n",
    "# Repeat once per 'day'\n",
    "for i in range(256):\n",
    "\n",
    "    # \n",
    "    next_states = {\n",
    "        0: current_states[1],\n",
    "        1: current_states[2],\n",
    "        2: current_states[3],\n",
    "        3: current_states[4],\n",
    "        4: current_states[5],\n",
    "        5: current_states[6],\n",
    "        6: current_states[7],\n",
    "        7: current_states[8],\n",
    "        8: current_states[0]\n",
    "    }\n",
    "\n",
    "    # Reset adult fish at 0 to 6\n",
    "    if current_states[0] > 0:\n",
    "        next_states[6] += current_states[0]\n",
    "\n",
    "    # Move value of new_states to current_states, reset value new_states\n",
    "    current_states = next_states\n",
    "    next_states = {}\n",
    "\n",
    "# After all days completed, sum up the values of all states\n",
    "for fish in current_states:\n",
    "    total += current_states[fish]\n",
    "    \n",
    "print(total)\n",
    "print(datetime.now() - start_time)"
   ]
  }
 ],
 "metadata": {
  "interpreter": {
   "hash": "33059d425fcfee577e06018c78ad24739e717fdadffbeab10fa06fe261eaa096"
  },
  "kernelspec": {
   "display_name": "Python 3.8.11 64-bit ('newenv': conda)",
   "language": "python",
   "name": "python3"
  },
  "language_info": {
   "codemirror_mode": {
    "name": "ipython",
    "version": 3
   },
   "file_extension": ".py",
   "mimetype": "text/x-python",
   "name": "python",
   "nbconvert_exporter": "python",
   "pygments_lexer": "ipython3",
   "version": "3.8.11"
  },
  "orig_nbformat": 4
 },
 "nbformat": 4,
 "nbformat_minor": 2
}
