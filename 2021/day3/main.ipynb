{
 "cells": [
  {
   "cell_type": "code",
   "execution_count": 37,
   "metadata": {},
   "outputs": [],
   "source": [
    "import numpy as np\n",
    "\n",
    "with open('data.txt', 'r', encoding='utf-8') as f:\n",
    "    lines = [[int(c) for c in y] for y in [x.replace('\\n', '') for x in f.readlines()]]\n",
    "lines_t = list(map(list, zip(*lines)))\n",
    "size = len(lines)"
   ]
  },
  {
   "cell_type": "code",
   "execution_count": 34,
   "metadata": {},
   "outputs": [
    {
     "name": "stdout",
     "output_type": "stream",
     "text": [
      "3259\n",
      "836\n",
      "2724524\n"
     ]
    }
   ],
   "source": [
    "# part 1\n",
    "\n",
    "most_common_bits = ''.join([str(int(np.round(sum(x)/size))) for x in lines_t])\n",
    "least_common_bits = ''.join(['1' if i == '0' else '0' for i in most_common_bits])\n",
    "\n",
    "gamma = int(most_common_bits, 2)\n",
    "epsilon = int(least_common_bits, 2)\n",
    "print(gamma)\n",
    "print(epsilon)\n",
    "\n",
    "print(gamma * epsilon)\n",
    "\n"
   ]
  },
  {
   "cell_type": "code",
   "execution_count": 81,
   "metadata": {},
   "outputs": [
    {
     "name": "stdout",
     "output_type": "stream",
     "text": [
      "111110110111\n",
      "001010110010\n",
      "2775870\n"
     ]
    }
   ],
   "source": [
    "# part 2\n",
    "\n",
    "\n",
    "def apply_bit_criteria(lines, criterium='o2'):\n",
    "    working_lines = lines.copy()\n",
    "\n",
    "    working_index = 0\n",
    "    while len(working_lines) > 1:\n",
    "        working_lines_t = list(map(list, zip(*working_lines)))\n",
    "        most_common_bits = [str(int(np.round(sum(x)/len(working_lines) + 0.000001))) for x in working_lines_t]\n",
    "\n",
    "        keep_bit = int(most_common_bits[working_index])\n",
    "        if criterium == 'co2':\n",
    "            keep_bit = (keep_bit - 1)*-1\n",
    "\n",
    "        working_lines = [x for x in working_lines if x[working_index] == keep_bit]\n",
    "\n",
    "\n",
    "        working_index += 1\n",
    "        working_index = working_index % len(working_lines[0])\n",
    "\n",
    "\n",
    "    return ''.join([str(x) for x in working_lines[0]])\n",
    "print(apply_bit_criteria(lines))\n",
    "print(apply_bit_criteria(lines, 'co2'))\n",
    "\n",
    "print(int(apply_bit_criteria(lines), 2) * int(apply_bit_criteria(lines, 'co2'), 2))"
   ]
  }
 ],
 "metadata": {
  "interpreter": {
   "hash": "33059d425fcfee577e06018c78ad24739e717fdadffbeab10fa06fe261eaa096"
  },
  "kernelspec": {
   "display_name": "Python 3.8.11 64-bit ('newenv': conda)",
   "language": "python",
   "name": "python3"
  },
  "language_info": {
   "codemirror_mode": {
    "name": "ipython",
    "version": 3
   },
   "file_extension": ".py",
   "mimetype": "text/x-python",
   "name": "python",
   "nbconvert_exporter": "python",
   "pygments_lexer": "ipython3",
   "version": "3.8.11"
  },
  "orig_nbformat": 4
 },
 "nbformat": 4,
 "nbformat_minor": 2
}
