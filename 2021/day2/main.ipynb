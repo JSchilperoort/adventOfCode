{
 "cells": [
  {
   "cell_type": "code",
   "execution_count": 11,
   "metadata": {},
   "outputs": [
    {
     "name": "stdout",
     "output_type": "stream",
     "text": [
      "Depth = 967791\n",
      "Horizontal position = 1967\n",
      "Aim = 1031\n",
      "\n",
      "Product depth and horizontal position = 1903644897\n"
     ]
    }
   ],
   "source": [
    "path = 'data.txt'\n",
    "\n",
    "with open(path, 'r', encoding='utf-8') as f:\n",
    "    lines = [x.replace('\\n', '') for x in f.readlines()]\n",
    "depth = 0\n",
    "horizontal_position = 0\n",
    "aim = 0\n",
    "for i, line in enumerate(lines):\n",
    "\n",
    "    direction, value = line.split(\" \")\n",
    "\n",
    "    if direction == 'down':\n",
    "        aim += int(value)\n",
    "    elif direction == 'up':\n",
    "        aim -= int(value)\n",
    "    elif direction == 'forward':\n",
    "        horizontal_position += int(value)\n",
    "        depth += aim * int(value)\n",
    "\n",
    "print(\"Depth = {}\".format(depth))\n",
    "print(\"Horizontal position = {}\".format(horizontal_position))\n",
    "print(\"Aim = {}\".format(aim))\n",
    "print()\n",
    "print(\"Product depth and horizontal position = {}\".format(depth * horizontal_position))\n"
   ]
  }
 ],
 "metadata": {
  "interpreter": {
   "hash": "33059d425fcfee577e06018c78ad24739e717fdadffbeab10fa06fe261eaa096"
  },
  "kernelspec": {
   "display_name": "Python 3.8.11 64-bit ('newenv': conda)",
   "language": "python",
   "name": "python3"
  },
  "language_info": {
   "codemirror_mode": {
    "name": "ipython",
    "version": 3
   },
   "file_extension": ".py",
   "mimetype": "text/x-python",
   "name": "python",
   "nbconvert_exporter": "python",
   "pygments_lexer": "ipython3",
   "version": "3.8.11"
  },
  "orig_nbformat": 4
 },
 "nbformat": 4,
 "nbformat_minor": 2
}
