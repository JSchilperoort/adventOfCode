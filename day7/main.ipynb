{
 "cells": [
  {
   "cell_type": "code",
   "execution_count": 79,
   "metadata": {},
   "outputs": [],
   "source": [
    "data = [int(i) for i in open(\"data.txt\", \"r\").read().split(',')]"
   ]
  },
  {
   "cell_type": "code",
   "execution_count": 80,
   "metadata": {},
   "outputs": [],
   "source": [
    "import numpy as np\n",
    "\n",
    "def reg(d, x):\n",
    "    total_sum = 0\n",
    "    for i in range(len(x)):\n",
    "        dif = np.abs(x[i] - d)\n",
    "        total_sum += ((dif * (dif+1))/2)\n",
    "    return total_sum"
   ]
  },
  {
   "cell_type": "code",
   "execution_count": 81,
   "metadata": {},
   "outputs": [
    {
     "name": "stdout",
     "output_type": "stream",
     "text": [
      "85015836.0\n"
     ]
    }
   ],
   "source": [
    "import matplotlib.pyplot as plt\n",
    "\n",
    "y = list()\n",
    "X = list(range(min(data), max(data)))\n",
    "for i in X:\n",
    "    re = reg(i, data)\n",
    "    y.append(re)\n",
    "\n",
    "h_pos = X[y.index(min(y))]\n",
    "total_sum = 0\n",
    "\n",
    "for x in data:\n",
    "    dif = np.abs(x - h_pos)\n",
    "    total_sum += (dif * (dif + 1))/2\n",
    "\n",
    "print(total_sum)\n"
   ]
  },
  {
   "cell_type": "code",
   "execution_count": null,
   "metadata": {},
   "outputs": [],
   "source": []
  }
 ],
 "metadata": {
  "interpreter": {
   "hash": "33059d425fcfee577e06018c78ad24739e717fdadffbeab10fa06fe261eaa096"
  },
  "kernelspec": {
   "display_name": "Python 3.8.11 64-bit ('newenv': conda)",
   "language": "python",
   "name": "python3"
  },
  "language_info": {
   "codemirror_mode": {
    "name": "ipython",
    "version": 3
   },
   "file_extension": ".py",
   "mimetype": "text/x-python",
   "name": "python",
   "nbconvert_exporter": "python",
   "pygments_lexer": "ipython3",
   "version": "3.8.11"
  },
  "orig_nbformat": 4
 },
 "nbformat": 4,
 "nbformat_minor": 2
}
