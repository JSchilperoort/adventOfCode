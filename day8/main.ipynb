{
 "cells": [
  {
   "cell_type": "code",
   "execution_count": 47,
   "metadata": {},
   "outputs": [],
   "source": [
    "with open(\"data.txt\", \"r\") as f:\n",
    "    data = [x.replace(\"\\n\", \"\") for x in f.readlines()]\n",
    "\n",
    "output_values = list()\n",
    "signal_patterns = list()\n",
    "for line in data:\n",
    "    signal_pattern, output_value = line.split(' | ')\n",
    "    signal_patterns.append(signal_pattern.split(' '))\n",
    "    output_values.append(output_value.split(' '))"
   ]
  },
  {
   "cell_type": "code",
   "execution_count": 48,
   "metadata": {},
   "outputs": [
    {
     "name": "stdout",
     "output_type": "stream",
     "text": [
      "272\n"
     ]
    }
   ],
   "source": [
    "counts = [0] * 10\n",
    "\n",
    "for output_value in output_values:\n",
    "    for string_set in output_value:\n",
    "        counts[len(string_set)] += 1\n",
    "\n",
    "print(sum([counts[i] for i in [2, 4, 3, 7]]))\n"
   ]
  },
  {
   "cell_type": "code",
   "execution_count": 49,
   "metadata": {},
   "outputs": [],
   "source": [
    "def remove_all_but(string_set, segment):\n",
    "    new_segment = list()\n",
    "    for c in segment:\n",
    "        if c in string_set:\n",
    "            new_segment.append(c)\n",
    "    return new_segment "
   ]
  },
  {
   "cell_type": "code",
   "execution_count": 50,
   "metadata": {},
   "outputs": [],
   "source": [
    "def is_possible(string_set, seven_segment_display, number):\n",
    "    if number == 2:\n",
    "        # set = 0, 2, 3, 4, 6\n",
    "        possible_letters = [seven_segment_display[i] for i in [0, 2, 3, 4, 6]]\n",
    "        print(possible_letters)"
   ]
  },
  {
   "cell_type": "code",
   "execution_count": 51,
   "metadata": {},
   "outputs": [
    {
     "name": "stdout",
     "output_type": "stream",
     "text": [
      "[[['a'], ['c'], ['f'], ['g'], ['b'], ['e'], ['d']], [['b'], ['d'], ['e'], ['c'], ['f'], ['a'], ['g']], [['f'], ['g'], ['d'], ['a'], ['e'], ['b'], ['c']], [['f'], ['d'], ['g'], ['e'], ['c'], ['a'], ['b']], [['f'], ['a'], ['c'], ['e'], ['b'], ['g'], ['d']], [['e'], ['a'], ['b'], ['f'], ['d'], ['c'], ['g']], [['b'], ['e'], ['a'], ['f'], ['c'], ['d'], ['g']], [['g'], ['f'], ['a'], ['d'], ['b'], ['c'], ['e']], [['a'], ['d'], ['c'], ['e'], ['b'], ['f'], ['g']], [['d'], ['b'], ['f'], ['e'], ['c'], ['a'], ['g']], [['g'], ['a'], ['e'], ['c'], ['b'], ['d'], ['f']], [['a'], ['c'], ['f'], ['e'], ['g'], ['d'], ['b']], [['e'], ['c'], ['a'], ['b'], ['g'], ['f'], ['d']], [['e'], ['b'], ['d'], ['f'], ['g'], ['c'], ['a']], [['g'], ['a'], ['d'], ['f'], ['b'], ['c'], ['e']], [['g'], ['a'], ['c'], ['f'], ['e'], ['d'], ['b']], [['g'], ['c'], ['e'], ['d'], ['a'], ['b'], ['f']], [['a'], ['e'], ['g'], ['c'], ['d'], ['b'], ['f']], [['c'], ['d'], ['g'], ['f'], ['b'], ['a'], ['e']], [['f'], ['g'], ['d'], ['b'], ['c'], ['a'], ['e']], [['a'], ['c'], ['e'], ['f'], ['g'], ['b'], ['d']], [['a'], ['d'], ['f'], ['g'], ['c'], ['e'], ['b']], [['g'], ['d'], ['b'], ['a'], ['c'], ['f'], ['e']], [['e'], ['a'], ['f'], ['b'], ['c'], ['g'], ['d']], [['c'], ['e'], ['b'], ['d'], ['g'], ['a'], ['f']], [['e'], ['g'], ['b'], ['f'], ['a'], ['d'], ['c']], [['d'], ['b'], ['e'], ['c'], ['g'], ['f'], ['a']], [['b'], ['c'], ['e'], ['g'], ['a'], ['f'], ['d']], [['b'], ['e'], ['d'], ['f'], ['g'], ['a'], ['c']], [['c'], ['f'], ['e'], ['a'], ['d'], ['g'], ['b']], [['e'], ['c'], ['f'], ['b'], ['d'], ['a'], ['g']], [['c'], ['e'], ['g'], ['b'], ['f'], ['d'], ['a']], [['e'], ['f'], ['a'], ['d'], ['c'], ['g'], ['b']], [['a'], ['c'], ['g'], ['f'], ['b'], ['d'], ['e']], [['c'], ['a'], ['d'], ['g'], ['e'], ['b'], ['f']], [['e'], ['f'], ['c'], ['d'], ['b'], ['g'], ['a']], [['b'], ['d'], ['g'], ['a'], ['c'], ['f'], ['e']], [['c'], ['b'], ['e'], ['g'], ['a'], ['f'], ['d']], [['e'], ['g'], ['a'], ['c'], ['f'], ['d'], ['b']], [['f'], ['a'], ['c'], ['g'], ['d'], ['b'], ['e']], [['g'], ['f'], ['c'], ['e'], ['a'], ['b'], ['d']], [['b'], ['f'], ['a'], ['e'], ['d'], ['g'], ['c']], [['b'], ['c'], ['f'], ['e'], ['g'], ['a'], ['d']], [['e'], ['d'], ['f'], ['g'], ['a'], ['b'], ['c']], [['a'], ['c'], ['g'], ['e'], ['b'], ['f'], ['d']], [['b'], ['f'], ['e'], ['d'], ['c'], ['a'], ['g']], [['f'], ['e'], ['c'], ['d'], ['g'], ['b'], ['a']], [['d'], ['f'], ['b'], ['a'], ['e'], ['c'], ['g']], [['d'], ['a'], ['g'], ['f'], ['b'], ['c'], ['e']], [['f'], ['e'], ['a'], ['g'], ['b'], ['d'], ['c']], [['e'], ['a'], ['c'], ['d'], ['b'], ['g'], ['f']], [['b'], ['a'], ['c'], ['e'], ['f'], ['g'], ['d']], [['c'], ['b'], ['e'], ['g'], ['d'], ['f'], ['a']], [['g'], ['f'], ['c'], ['e'], ['d'], ['a'], ['b']], [['c'], ['e'], ['d'], ['g'], ['b'], ['f'], ['a']], [['f'], ['b'], ['a'], ['d'], ['c'], ['g'], ['e']], [['c'], ['b'], ['f'], ['a'], ['g'], ['d'], ['e']], [['d'], ['a'], ['g'], ['b'], ['f'], ['c'], ['e']], [['d'], ['e'], ['f'], ['c'], ['a'], ['b'], ['g']], [['d'], ['f'], ['e'], ['a'], ['b'], ['c'], ['g']], [['f'], ['a'], ['b'], ['c'], ['g'], ['e'], ['d']], [['b'], ['d'], ['f'], ['e'], ['c'], ['a'], ['g']], [['g'], ['a'], ['f'], ['e'], ['d'], ['c'], ['b']], [['e'], ['f'], ['g'], ['b'], ['c'], ['a'], ['d']], [['e'], ['c'], ['b'], ['a'], ['d'], ['g'], ['f']], [['d'], ['g'], ['f'], ['e'], ['c'], ['a'], ['b']], [['c'], ['e'], ['g'], ['a'], ['f'], ['d'], ['b']], [['d'], ['b'], ['e'], ['c'], ['f'], ['g'], ['a']], [['c'], ['g'], ['a'], ['f'], ['d'], ['b'], ['e']], [['e'], ['b'], ['c'], ['d'], ['g'], ['a'], ['f']], [['e'], ['g'], ['f'], ['a'], ['c'], ['d'], ['b']], [['g'], ['a'], ['e'], ['b'], ['c'], ['f'], ['d']], [['a'], ['b'], ['d'], ['f'], ['e'], ['c'], ['g']], [['e'], ['b'], ['c'], ['a'], ['f'], ['d'], ['g']], [['e'], ['f'], ['a'], ['g'], ['c'], ['b'], ['d']], [['f'], ['a'], ['g'], ['e'], ['d'], ['c'], ['b']], [['c'], ['a'], ['e'], ['b'], ['g'], ['f'], ['d']], [['b'], ['a'], ['g'], ['c'], ['e'], ['f'], ['d']], [['f'], ['a'], ['d'], ['b'], ['c'], ['g'], ['e']], [['e'], ['d'], ['f'], ['c'], ['a'], ['g'], ['b']], [['b'], ['a'], ['g'], ['f'], ['c'], ['e'], ['d']], [['f'], ['g'], ['b'], ['a'], ['e'], ['c'], ['d']], [['f'], ['d'], ['e'], ['b'], ['a'], ['g'], ['c']], [['e'], ['c'], ['b'], ['g'], ['f'], ['a'], ['d']], [['c'], ['d'], ['a'], ['g'], ['f'], ['b'], ['e']], [['a'], ['d'], ['c'], ['e'], ['f'], ['b'], ['g']], [['b'], ['f'], ['a'], ['g'], ['e'], ['c'], ['d']], [['b'], ['d'], ['g'], ['a'], ['f'], ['e'], ['c']], [['e'], ['g'], ['c'], ['d'], ['b'], ['a'], ['f']], [['a'], ['b'], ['f'], ['e'], ['g'], ['d'], ['c']], [['a'], ['e'], ['f'], ['c'], ['g'], ['d'], ['b']], [['d'], ['g'], ['a'], ['e'], ['b'], ['c'], ['f']], [['e'], ['g'], ['c'], ['f'], ['d'], ['a'], ['b']], [['d'], ['b'], ['e'], ['g'], ['a'], ['f'], ['c']], [['c'], ['b'], ['g'], ['f'], ['e'], ['a'], ['d']], [['c'], ['g'], ['a'], ['e'], ['b'], ['f'], ['d']], [['d'], ['e'], ['f'], ['g'], ['a'], ['c'], ['b']], [['f'], ['g'], ['a'], ['c'], ['b'], ['d'], ['e']], [['a'], ['c'], ['g'], ['b'], ['f'], ['e'], ['d']], [['e'], ['d'], ['g'], ['f'], ['b'], ['a'], ['c']], [['b'], ['e'], ['d'], ['c'], ['g'], ['f'], ['a']], [['e'], ['a'], ['g'], ['b'], ['f'], ['d'], ['c']], [['e'], ['b'], ['d'], ['f'], ['a'], ['c'], ['g']], [['d'], ['f'], ['a'], ['c'], ['b'], ['e'], ['g']], [['g'], ['d'], ['f'], ['a'], ['b'], ['c'], ['e']], [['d'], ['e'], ['f'], ['c'], ['b'], ['g'], ['a']], [['d'], ['e'], ['b'], ['c'], ['g'], ['f'], ['a']], [['f'], ['e'], ['a'], ['d'], ['g'], ['c'], ['b']], [['b'], ['c'], ['e'], ['f'], ['d'], ['a'], ['g']], [['g'], ['f'], ['e'], ['a'], ['d'], ['c'], ['b']], [['g'], ['b'], ['f'], ['d'], ['a'], ['c'], ['e']], [['g'], ['d'], ['b'], ['f'], ['e'], ['c'], ['a']], [['b'], ['c'], ['f'], ['e'], ['d'], ['a'], ['g']], [['b'], ['e'], ['c'], ['d'], ['f'], ['a'], ['g']], [['c'], ['f'], ['g'], ['b'], ['e'], ['d'], ['a']], [['a'], ['g'], ['e'], ['d'], ['b'], ['f'], ['c']], [['g'], ['f'], ['b'], ['d'], ['c'], ['a'], ['e']], [['f'], ['a'], ['d'], ['g'], ['e'], ['b'], ['c']], [['a'], ['g'], ['e'], ['c'], ['b'], ['f'], ['d']], [['d'], ['b'], ['a'], ['g'], ['e'], ['c'], ['f']], [['a'], ['f'], ['c'], ['b'], ['g'], ['e'], ['d']], [['a'], ['g'], ['c'], ['b'], ['e'], ['d'], ['f']], [['f'], ['g'], ['b'], ['e'], ['a'], ['c'], ['d']], [['d'], ['c'], ['e'], ['a'], ['f'], ['g'], ['b']], [['d'], ['a'], ['c'], ['e'], ['b'], ['g'], ['f']], [['b'], ['d'], ['e'], ['g'], ['a'], ['c'], ['f']], [['c'], ['g'], ['b'], ['a'], ['e'], ['d'], ['f']], [['c'], ['f'], ['a'], ['b'], ['e'], ['d'], ['g']], [['a'], ['d'], ['c'], ['g'], ['e'], ['b'], ['f']], [['b'], ['c'], ['g'], ['e'], ['a'], ['f'], ['d']], [['c'], ['f'], ['d'], ['g'], ['e'], ['b'], ['a']], [['b'], ['d'], ['g'], ['a'], ['f'], ['c'], ['e']], [['c'], ['d'], ['f'], ['e'], ['b'], ['g'], ['a']], [['a'], ['g'], ['b'], ['f'], ['d'], ['c'], ['e']], [['b'], ['f'], ['a'], ['c'], ['e'], ['g'], ['d']], [['b'], ['e'], ['g'], ['c'], ['d'], ['a'], ['f']], [['f'], ['g'], ['a'], ['c'], ['d'], ['b'], ['e']], [['e'], ['a'], ['f'], ['d'], ['b'], ['c'], ['g']], [['a'], ['c'], ['f'], ['e'], ['g'], ['b'], ['d']], [['e'], ['a'], ['g'], ['f'], ['d'], ['c'], ['b']], [['a'], ['d'], ['c'], ['g'], ['b'], ['e'], ['f']], [['a'], ['f'], ['d'], ['e'], ['b'], ['c'], ['g']], [['d'], ['b'], ['e'], ['c'], ['a'], ['g'], ['f']], [['f'], ['b'], ['d'], ['e'], ['g'], ['a'], ['c']], [['a'], ['g'], ['f'], ['b'], ['e'], ['c'], ['d']], [['f'], ['a'], ['e'], ['c'], ['b'], ['d'], ['g']], [['a'], ['g'], ['b'], ['d'], ['c'], ['f'], ['e']], [['e'], ['d'], ['g'], ['b'], ['c'], ['f'], ['a']], [['c'], ['f'], ['g'], ['b'], ['d'], ['a'], ['e']], [['f'], ['b'], ['a'], ['e'], ['d'], ['g'], ['c']], [['f'], ['b'], ['a'], ['d'], ['e'], ['g'], ['c']], [['e'], ['d'], ['g'], ['f'], ['a'], ['b'], ['c']], [['c'], ['a'], ['b'], ['e'], ['f'], ['g'], ['d']], [['a'], ['g'], ['b'], ['f'], ['d'], ['c'], ['e']], [['e'], ['b'], ['f'], ['g'], ['c'], ['d'], ['a']], [['b'], ['c'], ['e'], ['d'], ['g'], ['f'], ['a']], [['a'], ['c'], ['e'], ['b'], ['g'], ['f'], ['d']], [['c'], ['b'], ['d'], ['a'], ['g'], ['f'], ['e']], [['g'], ['e'], ['b'], ['c'], ['d'], ['f'], ['a']], [['g'], ['f'], ['c'], ['e'], ['d'], ['b'], ['a']], [['e'], ['f'], ['d'], ['g'], ['b'], ['a'], ['c']], [['g'], ['f'], ['e'], ['c'], ['b'], ['a'], ['d']], [['g'], ['d'], ['a'], ['c'], ['b'], ['f'], ['e']], [['a'], ['f'], ['e'], ['d'], ['g'], ['b'], ['c']], [['g'], ['c'], ['d'], ['b'], ['a'], ['f'], ['e']], [['e'], ['a'], ['g'], ['b'], ['f'], ['d'], ['c']], [['f'], ['b'], ['c'], ['d'], ['g'], ['a'], ['e']], [['g'], ['d'], ['f'], ['a'], ['e'], ['b'], ['c']], [['e'], ['b'], ['d'], ['g'], ['f'], ['c'], ['a']], [['a'], ['d'], ['g'], ['b'], ['f'], ['c'], ['e']], [['g'], ['b'], ['e'], ['d'], ['a'], ['c'], ['f']], [['g'], ['d'], ['f'], ['c'], ['b'], ['e'], ['a']], [['f'], ['a'], ['d'], ['b'], ['g'], ['c'], ['e']], [['b'], ['c'], ['d'], ['a'], ['e'], ['f'], ['g']], [['e'], ['a'], ['d'], ['b'], ['g'], ['c'], ['f']], [['f'], ['b'], ['c'], ['e'], ['a'], ['d'], ['g']], [['e'], ['d'], ['a'], ['c'], ['f'], ['g'], ['b']], [['d'], ['c'], ['g'], ['e'], ['b'], ['a'], ['f']], [['f'], ['g'], ['a'], ['e'], ['d'], ['b'], ['c']], [['f'], ['e'], ['b'], ['d'], ['a'], ['g'], ['c']], [['e'], ['c'], ['f'], ['d'], ['b'], ['g'], ['a']], [['f'], ['a'], ['c'], ['b'], ['d'], ['e'], ['g']], [['a'], ['f'], ['e'], ['g'], ['b'], ['d'], ['c']], [['b'], ['f'], ['d'], ['c'], ['g'], ['e'], ['a']], [['g'], ['a'], ['e'], ['f'], ['d'], ['c'], ['b']], [['a'], ['c'], ['b'], ['g'], ['d'], ['e'], ['f']], [['c'], ['d'], ['g'], ['a'], ['e'], ['f'], ['b']], [['d'], ['f'], ['c'], ['g'], ['e'], ['a'], ['b']], [['b'], ['c'], ['f'], ['e'], ['a'], ['d'], ['g']], [['e'], ['a'], ['d'], ['b'], ['c'], ['g'], ['f']], [['c'], ['f'], ['e'], ['g'], ['a'], ['d'], ['b']], [['f'], ['a'], ['c'], ['b'], ['g'], ['d'], ['e']], [['e'], ['f'], ['c'], ['b'], ['a'], ['d'], ['g']], [['b'], ['f'], ['g'], ['d'], ['c'], ['e'], ['a']], [['c'], ['g'], ['a'], ['e'], ['d'], ['b'], ['f']], [['b'], ['g'], ['c'], ['a'], ['d'], ['e'], ['f']], [['g'], ['b'], ['d'], ['a'], ['c'], ['f'], ['e']], [['b'], ['g'], ['a'], ['e'], ['c'], ['f'], ['d']], [['g'], ['f'], ['c'], ['b'], ['e'], ['a'], ['d']], [['d'], ['f'], ['e'], ['b'], ['g'], ['a'], ['c']]]\n"
     ]
    }
   ],
   "source": [
    "# part 2\n",
    "\n",
    "counts = [0] * 10\n",
    "seven_segment_displays = list()\n",
    "for signal_pattern in signal_patterns:\n",
    "    seven_segment_display = [['a', 'b', 'c', 'd', 'e', 'f', 'g'], ['a', 'b', 'c', 'd', 'e', 'f', 'g'], ['a', 'b', 'c', 'd', 'e', 'f', 'g'], ['a', 'b', 'c', 'd', 'e', 'f', 'g'], ['a', 'b', 'c', 'd', 'e', 'f', 'g'], ['a', 'b', 'c', 'd', 'e', 'f', 'g'], ['a', 'b', 'c', 'd', 'e', 'f', 'g']]\n",
    "    for string_set in signal_pattern:\n",
    "        if len(string_set) == 2: # number = 1, segments: 2 and 5\n",
    "            seven_segment_display[2] = remove_all_but(string_set, seven_segment_display[2])\n",
    "            seven_segment_display[5] = remove_all_but(string_set, seven_segment_display[5])\n",
    "        elif len(string_set) == 3: # number = 7, segments: 0, 2 and 5\n",
    "            seven_segment_display[0] = remove_all_but(string_set, seven_segment_display[0])\n",
    "            seven_segment_display[2] = remove_all_but(string_set, seven_segment_display[2])\n",
    "            seven_segment_display[5] = remove_all_but(string_set, seven_segment_display[5])\n",
    "        elif len(string_set) == 4: # number = 4, segments: 1, 2, 3 and 5\n",
    "            seven_segment_display[1] = remove_all_but(string_set, seven_segment_display[1])\n",
    "            seven_segment_display[2] = remove_all_but(string_set, seven_segment_display[2])\n",
    "            seven_segment_display[3] = remove_all_but(string_set, seven_segment_display[3])\n",
    "            seven_segment_display[5] = remove_all_but(string_set, seven_segment_display[5])\n",
    "\n",
    "        elif len(string_set) == 5: # number = 2, 3 or 5, segments: 0, 3, 6\n",
    "                seven_segment_display[0] = remove_all_but(string_set, seven_segment_display[0])\n",
    "                seven_segment_display[3] = remove_all_but(string_set, seven_segment_display[3])\n",
    "                seven_segment_display[6] = remove_all_but(string_set, seven_segment_display[6])\n",
    "\n",
    "        elif len(string_set) == 6: # number = 0, 6, 9, segments: 0, 1, 5, 6\n",
    "            seven_segment_display[0] = remove_all_but(string_set, seven_segment_display[0])\n",
    "            seven_segment_display[1] = remove_all_but(string_set, seven_segment_display[1])\n",
    "            seven_segment_display[5] = remove_all_but(string_set, seven_segment_display[5])\n",
    "            seven_segment_display[6] = remove_all_but(string_set, seven_segment_display[6])\n",
    "    \n",
    "    n_changes = 1\n",
    "    while n_changes > 0:\n",
    "        n_changes = 0\n",
    "        for i, segment in enumerate(seven_segment_display):\n",
    "            if len(segment) == 1:\n",
    "                other_range = [x for x in list(range(len(seven_segment_display))) if x != i]\n",
    "                for j in other_range:\n",
    "                    if segment[0] in seven_segment_display[j]:\n",
    "                        seven_segment_display[j] = [x for x in seven_segment_display[j] if x != segment[0]]\n",
    "\n",
    "                        n_changes += 1\n",
    "    seven_segment_displays.append(seven_segment_display)\n",
    "print(seven_segment_displays)"
   ]
  },
  {
   "cell_type": "code",
   "execution_count": 52,
   "metadata": {},
   "outputs": [],
   "source": [
    "def decode(seven_segment_display, output_string):\n",
    "    if len(output_string) == 2:\n",
    "        return 1\n",
    "    elif len(output_string) == 3:\n",
    "        return 7\n",
    "    elif len(output_string) == 4:\n",
    "        return 4\n",
    "    elif len(output_string) == 5: # 2, 3, 5\n",
    "        if seven_segment_display[1][0] in output_string:\n",
    "            return 5\n",
    "        elif seven_segment_display[4][0] in output_string:\n",
    "            return 2\n",
    "        else:\n",
    "            return 3\n",
    "    elif len(output_string) == 6: # 0, 6, 9\n",
    "        if seven_segment_display[3][0] not in output_string:\n",
    "            return 0\n",
    "        elif seven_segment_display[2][0] in output_string:\n",
    "            return 9\n",
    "        else:\n",
    "            return 6\n",
    "    elif len(output_string) == 7:\n",
    "        return 8\n",
    "    \n",
    "    \n",
    "\n",
    "\n",
    "    return 1"
   ]
  },
  {
   "cell_type": "code",
   "execution_count": 53,
   "metadata": {},
   "outputs": [
    {
     "name": "stdout",
     "output_type": "stream",
     "text": [
      "1007675\n"
     ]
    }
   ],
   "source": [
    "\n",
    "decoded_sum = 0\n",
    "for i in range(len(signal_patterns)):\n",
    "    output_value = output_values[i]\n",
    "    seven_segment_display = seven_segment_displays[i]\n",
    "    decoded_digits = ''\n",
    "    for output_string in output_value:\n",
    "        decoded_digit = decode(seven_segment_display, output_string)\n",
    "        decoded_digits = decoded_digits + str(decoded_digit)\n",
    "\n",
    "    decoded_sum += int(decoded_digits)\n",
    "\n",
    "print(decoded_sum)\n",
    "    "
   ]
  }
 ],
 "metadata": {
  "interpreter": {
   "hash": "33059d425fcfee577e06018c78ad24739e717fdadffbeab10fa06fe261eaa096"
  },
  "kernelspec": {
   "display_name": "Python 3.8.11 64-bit ('newenv': conda)",
   "language": "python",
   "name": "python3"
  },
  "language_info": {
   "codemirror_mode": {
    "name": "ipython",
    "version": 3
   },
   "file_extension": ".py",
   "mimetype": "text/x-python",
   "name": "python",
   "nbconvert_exporter": "python",
   "pygments_lexer": "ipython3",
   "version": "3.8.11"
  },
  "orig_nbformat": 4
 },
 "nbformat": 4,
 "nbformat_minor": 2
}
