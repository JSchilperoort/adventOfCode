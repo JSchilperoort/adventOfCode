{
 "cells": [
  {
   "cell_type": "code",
   "execution_count": 1,
   "metadata": {},
   "outputs": [],
   "source": [
    "import pandas as pd\n",
    "import numpy as np\n",
    "import os\n",
    "import sys\n",
    "from shapely.geometry import Polygon, Point\n",
    "from tqdm import tqdm"
   ]
  },
  {
   "cell_type": "markdown",
   "metadata": {},
   "source": [
    "### Read the data"
   ]
  },
  {
   "cell_type": "code",
   "execution_count": 2,
   "metadata": {},
   "outputs": [],
   "source": [
    "current_path = os.getcwd()\n",
    "day = int(current_path.split('day')[1])\n",
    "\n",
    "fn = 'day' + str(day) + '.txt'\n",
    "\n",
    "file_content = open(fn).read().split('\\n')\n",
    "\n",
    "test_fn = 'day' + str(day) + 'test.txt'\n",
    "\n",
    "test_file_content = open(test_fn).read().split('\\n')"
   ]
  },
  {
   "cell_type": "markdown",
   "metadata": {},
   "source": [
    "### Part 1"
   ]
  },
  {
   "cell_type": "code",
   "execution_count": 3,
   "metadata": {},
   "outputs": [],
   "source": [
    "def points_inside_polygon(closed_path):\n",
    "    # IMPORTANT: these points should be ordered\n",
    "    # Create a Shapely Polygon from the closed path\n",
    "    polygon = Polygon(closed_path)\n",
    "\n",
    "    # Find the bounding box of the polygon\n",
    "    min_x, min_y, max_x, max_y = polygon.bounds\n",
    "\n",
    "    # Generate all possible points within the bounding box\n",
    "    possible_points = [(x, y) for x in range(int(min_x), int(max_x) + 1) for y in range(int(min_y), int(max_y) + 1)]\n",
    "\n",
    "    # exclude points that are already in the closed path\n",
    "    possible_points = [point for point in possible_points if point not in closed_path]\n",
    "\n",
    "    # Filter points that are inside the polygon\n",
    "    enclosed_points = list()\n",
    "    for point in tqdm(possible_points):\n",
    "        if polygon.contains(Point(point)):\n",
    "            enclosed_points.append(point)\n",
    "\n",
    "    return enclosed_points"
   ]
  },
  {
   "cell_type": "code",
   "execution_count": 4,
   "metadata": {},
   "outputs": [
    {
     "name": "stderr",
     "output_type": "stream",
     "text": [
      "100%|██████████| 111136/111136 [01:08<00:00, 1612.41it/s]"
     ]
    },
    {
     "name": "stdout",
     "output_type": "stream",
     "text": [
      "40131\n"
     ]
    },
    {
     "name": "stderr",
     "output_type": "stream",
     "text": [
      "\n"
     ]
    }
   ],
   "source": [
    "working_file = file_content\n",
    "\n",
    "working_file = [[x, int(y), z.replace('(', '').replace(')', '')] for x, y, z in [line.split(' ') for line in working_file]]\n",
    "\n",
    "path = [[9999, 9999]]\n",
    "\n",
    "for direction, n_steps, hex_color in working_file:\n",
    "    if direction == 'U':\n",
    "        for i in range(n_steps):\n",
    "            path = path + [[path[-1][0] - 1, path[-1][1]]]\n",
    "    elif direction == 'R':\n",
    "        for i in range(n_steps):\n",
    "            path = path + [[path[-1][0], path[-1][1] + 1]]\n",
    "    elif direction == 'D':\n",
    "        for i in range(n_steps):\n",
    "            path = path + [[path[-1][0] + 1, path[-1][1]]]\n",
    "    elif direction == 'L':\n",
    "        for i in range(n_steps):\n",
    "            path = path + [[path[-1][0], path[-1][1] - 1]]\n",
    "\n",
    "min_y = min([x[0] for x in path])\n",
    "min_x = min([x[1] for x in path])\n",
    "\n",
    "# make 0, 0 the origin\n",
    "path = [(x[0] - min_y, x[1] - min_x) for x in path]\n",
    "\n",
    "enclosed_points = points_inside_polygon(path)\n",
    "\n",
    "# join path and enclosed points\n",
    "all_holes = path + enclosed_points\n",
    "\n",
    "print(len(set(all_holes)))\n"
   ]
  },
  {
   "cell_type": "markdown",
   "metadata": {},
   "source": [
    "### Part 2"
   ]
  },
  {
   "cell_type": "code",
   "execution_count": 5,
   "metadata": {},
   "outputs": [
    {
     "name": "stdout",
     "output_type": "stream",
     "text": [
      "40131\n",
      "104454050898331\n"
     ]
    }
   ],
   "source": [
    "def shoelace(tuples_list):\n",
    "    position, area_a, area_b, total_distance = 0 + 0j, 0, 0, 0\n",
    "    for direction, distance in tuples_list:\n",
    "        match direction:\n",
    "            case 0:\n",
    "                new_position = position + (1j * distance)\n",
    "            case 1:\n",
    "                new_position = position + distance\n",
    "            case 2:\n",
    "                new_position = position - (1j * distance)\n",
    "            case 3:\n",
    "                new_position = position - distance\n",
    "        area_a += position.real * new_position.imag\n",
    "        area_b += position.imag * new_position.real\n",
    "        total_distance += distance\n",
    "        position = new_position\n",
    "    return int((abs(area_a - area_b) / 2) + (total_distance / 2) + 1)\n",
    "\n",
    "plan = [tuple(line.split()) for line in open('day18.txt').read().splitlines()]\n",
    "print(shoelace([('RDLU'.index(direction), int(distance))\n",
    "                for direction, distance, _ in plan]))\n",
    "print(shoelace([(int(hex_string[-2]), int(hex_string[2:-2], base=16))\n",
    "                for _, _, hex_string in plan]))"
   ]
  }
 ],
 "metadata": {
  "kernelspec": {
   "display_name": "scoritoEnv",
   "language": "python",
   "name": "scoritoenv"
  },
  "language_info": {
   "codemirror_mode": {
    "name": "ipython",
    "version": 3
   },
   "file_extension": ".py",
   "mimetype": "text/x-python",
   "name": "python",
   "nbconvert_exporter": "python",
   "pygments_lexer": "ipython3",
   "version": "3.10.8"
  },
  "orig_nbformat": 4,
  "vscode": {
   "interpreter": {
    "hash": "db4fb2da53b463202cc29faa1dff83472033a83d3730354993520b674a604c4a"
   }
  }
 },
 "nbformat": 4,
 "nbformat_minor": 2
}
