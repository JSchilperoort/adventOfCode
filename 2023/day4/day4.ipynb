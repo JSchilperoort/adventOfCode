{
 "cells": [
  {
   "cell_type": "code",
   "execution_count": 1,
   "metadata": {},
   "outputs": [],
   "source": [
    "import pandas as pd\n",
    "import numpy as np\n",
    "import os\n",
    "import sys"
   ]
  },
  {
   "cell_type": "markdown",
   "metadata": {},
   "source": [
    "### Read the data"
   ]
  },
  {
   "cell_type": "code",
   "execution_count": 2,
   "metadata": {},
   "outputs": [],
   "source": [
    "current_path = os.getcwd()\n",
    "day = int(current_path.split('day')[1])\n",
    "\n",
    "fn = 'day' + str(day) + '.txt'\n",
    "\n",
    "file_content = open(fn).read().split('\\n')\n",
    "\n",
    "test_fn = 'day' + str(day) + 'test.txt'\n",
    "\n",
    "test_file_content = open(test_fn).read().split('\\n')"
   ]
  },
  {
   "cell_type": "markdown",
   "metadata": {},
   "source": [
    "### Part 1"
   ]
  },
  {
   "cell_type": "code",
   "execution_count": 22,
   "metadata": {},
   "outputs": [
    {
     "name": "stdout",
     "output_type": "stream",
     "text": [
      "22488\n"
     ]
    }
   ],
   "source": [
    "total_points = 0\n",
    "for row in file_content:\n",
    "    card_number = int(row.split(': ')[0][5:])\n",
    "    winning_numbers = row.split(': ')[1].split('|')[0]\n",
    "    winning_numbers = [int(x.strip()) for x in winning_numbers.split(' ') if len(x.strip()) > 0]\n",
    "    my_numbers = row.split(': ')[1].split('|')[1]\n",
    "    my_numbers = [int(x.strip()) for x in my_numbers.split(' ') if len(x.strip()) > 0]\n",
    "\n",
    "    # count the number of winning numbers in my numbers\n",
    "    count = 0\n",
    "    for number in my_numbers:\n",
    "        if number in winning_numbers:\n",
    "            count += 1\n",
    "    if count == 0:\n",
    "        points = 0\n",
    "    else:\n",
    "        points = 2**(count-1)\n",
    "    total_points += points\n",
    "\n",
    "print(total_points)"
   ]
  },
  {
   "cell_type": "markdown",
   "metadata": {},
   "source": [
    "### Part 2"
   ]
  },
  {
   "cell_type": "code",
   "execution_count": 34,
   "metadata": {},
   "outputs": [
    {
     "name": "stdout",
     "output_type": "stream",
     "text": [
      "7013204\n"
     ]
    }
   ],
   "source": [
    "total_points = 0\n",
    "\n",
    "n_copies = [1 for _ in range(len(file_content))]\n",
    "\n",
    "for row in file_content:\n",
    "    card_number = int(row.split(': ')[0][5:])\n",
    "    winning_numbers = row.split(': ')[1].split('|')[0]\n",
    "    winning_numbers = [int(x.strip()) for x in winning_numbers.split(' ') if len(x.strip()) > 0]\n",
    "    my_numbers = row.split(': ')[1].split('|')[1]\n",
    "    my_numbers = [int(x.strip()) for x in my_numbers.split(' ') if len(x.strip()) > 0]\n",
    "\n",
    "    # count the number of winning numbers in my numbers\n",
    "    count = 0\n",
    "    for number in my_numbers:\n",
    "        if number in winning_numbers:\n",
    "            count += 1\n",
    "    if count > 0:\n",
    "        for i in range(count):\n",
    "            n_copies[card_number + i] += n_copies[card_number - 1]\n",
    "\n",
    "print(sum(n_copies))"
   ]
  }
 ],
 "metadata": {
  "kernelspec": {
   "display_name": "Python 3.8.11 ('newenv')",
   "language": "python",
   "name": "python3"
  },
  "language_info": {
   "codemirror_mode": {
    "name": "ipython",
    "version": 3
   },
   "file_extension": ".py",
   "mimetype": "text/x-python",
   "name": "python",
   "nbconvert_exporter": "python",
   "pygments_lexer": "ipython3",
   "version": "3.9.13"
  },
  "orig_nbformat": 4,
  "vscode": {
   "interpreter": {
    "hash": "db4fb2da53b463202cc29faa1dff83472033a83d3730354993520b674a604c4a"
   }
  }
 },
 "nbformat": 4,
 "nbformat_minor": 2
}
