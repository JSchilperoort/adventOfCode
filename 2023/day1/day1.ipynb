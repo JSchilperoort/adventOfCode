{
 "cells": [
  {
   "cell_type": "code",
   "execution_count": 43,
   "metadata": {},
   "outputs": [],
   "source": [
    "import pandas as pd\n",
    "import numpy as np\n",
    "import os\n",
    "import sys"
   ]
  },
  {
   "cell_type": "markdown",
   "metadata": {},
   "source": [
    "### Read the data"
   ]
  },
  {
   "cell_type": "code",
   "execution_count": 44,
   "metadata": {},
   "outputs": [],
   "source": [
    "current_path = os.getcwd()\n",
    "day = int(current_path.split('day')[1])\n",
    "\n",
    "fn = 'day' + str(day) + '.txt'\n",
    "\n",
    "file_content = open(fn).read().split('\\n')\n",
    "\n",
    "test_fn = 'day' + str(day) + 'test.txt'\n",
    "\n",
    "test_file_content = open(test_fn).read().split('\\n')"
   ]
  },
  {
   "cell_type": "markdown",
   "metadata": {},
   "source": [
    "### Part 1"
   ]
  },
  {
   "cell_type": "code",
   "execution_count": 45,
   "metadata": {},
   "outputs": [
    {
     "data": {
      "text/plain": [
       "55538"
      ]
     },
     "execution_count": 45,
     "metadata": {},
     "output_type": "execute_result"
    }
   ],
   "source": [
    "calibration_values = list()\n",
    "for line in file_content:\n",
    "    digits = [x for x in line if x.isdigit()]\n",
    "    try:\n",
    "        calibration_values.append(int(digits[0] + digits[-1]))\n",
    "    except:\n",
    "        print(\"No digits found in line: \" + line)\n",
    "sum(calibration_values)"
   ]
  },
  {
   "cell_type": "markdown",
   "metadata": {},
   "source": [
    "### Part 2"
   ]
  },
  {
   "cell_type": "code",
   "execution_count": 46,
   "metadata": {},
   "outputs": [
    {
     "data": {
      "text/plain": [
       "54875"
      ]
     },
     "execution_count": 46,
     "metadata": {},
     "output_type": "execute_result"
    }
   ],
   "source": [
    "digits = ['one', 'two', 'three', 'four', 'five', 'six', 'seven', 'eight', 'nine', '1', '2', '3', '4', '5', '6', '7', '8', '9']\n",
    "digit_translation = {'one': '1', 'two': '2', 'three': '3', 'four': '4', 'five': '5', 'six': '6', 'seven': '7', 'eight': '8', 'nine': '9', '1': '1', '2': '2', '3': '3', '4': '4', '5': '5', '6': '6', '7': '7', '8': '8', '9': '9'}\n",
    "calibration_values = list()\n",
    "\n",
    "for line in file_content:\n",
    "    first_digit = None\n",
    "    for i in range(len(line)):\n",
    "        if first_digit is None:\n",
    "            for digit in digits:\n",
    "                if line[i:i+len(digit)] == digit:\n",
    "                    first_digit = digit\n",
    "                    break\n",
    "    last_digit = None\n",
    "    # reverse the line\n",
    "    for i in range(len(line)):\n",
    "        if last_digit is None:\n",
    "            for digit in digits:\n",
    "                if line[len(line)-i-len(digit):len(line)-i] == digit:\n",
    "                    last_digit = digit\n",
    "                    break\n",
    "    calibration_values.append(int(digit_translation[first_digit] + digit_translation[last_digit]))\n",
    "sum(calibration_values)\n"
   ]
  }
 ],
 "metadata": {
  "kernelspec": {
   "display_name": "Python 3.8.11 ('newenv')",
   "language": "python",
   "name": "python3"
  },
  "language_info": {
   "codemirror_mode": {
    "name": "ipython",
    "version": 3
   },
   "file_extension": ".py",
   "mimetype": "text/x-python",
   "name": "python",
   "nbconvert_exporter": "python",
   "pygments_lexer": "ipython3",
   "version": "3.9.13"
  },
  "orig_nbformat": 4,
  "vscode": {
   "interpreter": {
    "hash": "db4fb2da53b463202cc29faa1dff83472033a83d3730354993520b674a604c4a"
   }
  }
 },
 "nbformat": 4,
 "nbformat_minor": 2
}
