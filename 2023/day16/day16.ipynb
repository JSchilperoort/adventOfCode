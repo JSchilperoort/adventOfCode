{
 "cells": [
  {
   "cell_type": "code",
   "execution_count": 57,
   "metadata": {},
   "outputs": [],
   "source": [
    "import pandas as pd\n",
    "import numpy as np\n",
    "import os\n",
    "import sys\n",
    "from tqdm import tqdm"
   ]
  },
  {
   "cell_type": "markdown",
   "metadata": {},
   "source": [
    "### Read the data"
   ]
  },
  {
   "cell_type": "code",
   "execution_count": 58,
   "metadata": {},
   "outputs": [],
   "source": [
    "current_path = os.getcwd()\n",
    "day = int(current_path.split('day')[1])\n",
    "\n",
    "fn = 'day' + str(day) + '.txt'\n",
    "\n",
    "file_content = open(fn).read().split('\\n')\n",
    "\n",
    "test_fn = 'day' + str(day) + 'test.txt'\n",
    "\n",
    "test_file_content = open(test_fn).read().split('\\n')"
   ]
  },
  {
   "cell_type": "markdown",
   "metadata": {},
   "source": [
    "### Part 1"
   ]
  },
  {
   "cell_type": "code",
   "execution_count": 59,
   "metadata": {},
   "outputs": [],
   "source": [
    "def energize(energized, new_position):\n",
    "    energized[new_position[0]][new_position[1]] = '#'\n",
    "\n",
    "def display_array(nd_array):\n",
    "    print(f\"Number of '#': {np.count_nonzero(nd_array == '#')}\")\n",
    "    for row in nd_array:\n",
    "        print(''.join(row))"
   ]
  },
  {
   "cell_type": "code",
   "execution_count": 60,
   "metadata": {},
   "outputs": [],
   "source": [
    "def get_n_energized(working_file_array, start, direction, width, height):\n",
    "    cache = list()\n",
    "    beams = [[start, direction]]\n",
    "\n",
    "    # energized is a nd array with the same dimensions as the working file, but a '.' on every position\n",
    "    energized = np.full(working_file_array.shape, '.')\n",
    "\n",
    "    while len(beams) > 0:\n",
    "        # pop beam from beams\n",
    "        start_position, start_direction = beams.pop()\n",
    "\n",
    "        # move beam\n",
    "        if start_direction == 'right' and start_position[1] + 1 < width:\n",
    "            new_position = (start_position[0], start_position[1] + 1)\n",
    "            if working_file_array[new_position[0]][new_position[1]] == '/':\n",
    "                new_direction = 'up'\n",
    "                if [new_position, new_direction] not in cache:\n",
    "                    beams.append([new_position, new_direction])\n",
    "                    cache.append([new_position, new_direction])\n",
    "                    energize(energized, new_position)\n",
    "            elif working_file_array[new_position[0]][new_position[1]] == '\\\\':\n",
    "                new_direction = 'down'\n",
    "                if [new_position, new_direction] not in cache:\n",
    "                    beams.append([new_position, new_direction])\n",
    "                    cache.append([new_position, new_direction])\n",
    "                    energize(energized, new_position)\n",
    "        elif start_direction == 'left' and start_position[1] - 1 >= 0:\n",
    "            new_position = (start_position[0], start_position[1] - 1)\n",
    "            if working_file_array[new_position[0]][new_position[1]] == '/':\n",
    "                new_direction = 'down'\n",
    "                if [new_position, new_direction] not in cache:\n",
    "                    beams.append([new_position, new_direction])\n",
    "                    cache.append([new_position, new_direction])\n",
    "                    energize(energized, new_position)\n",
    "            elif working_file_array[new_position[0]][new_position[1]] == '\\\\':\n",
    "                new_direction = 'up'\n",
    "                if [new_position, new_direction] not in cache:\n",
    "                    beams.append([new_position, new_direction])\n",
    "                    cache.append([new_position, new_direction])\n",
    "                    energize(energized, new_position)\n",
    "        elif start_direction == 'up' and start_position[0] - 1 >= 0:\n",
    "            new_position = (start_position[0] - 1, start_position[1])\n",
    "            if working_file_array[new_position[0]][new_position[1]] == '/':\n",
    "                new_direction = 'right' \n",
    "                if [new_position, new_direction] not in cache:\n",
    "                    beams.append([new_position, new_direction])\n",
    "                    cache.append([new_position, new_direction])\n",
    "                    energize(energized, new_position)\n",
    "            elif working_file_array[new_position[0]][new_position[1]] == '\\\\':\n",
    "                new_direction = 'left'\n",
    "                if [new_position, new_direction] not in cache:\n",
    "                    beams.append([new_position, new_direction])\n",
    "                    cache.append([new_position, new_direction])\n",
    "                    energize(energized, new_position)\n",
    "        elif start_direction == 'down' and start_position[0] + 1 < height:\n",
    "            new_position = (start_position[0] + 1, start_position[1])\n",
    "            if working_file_array[new_position[0]][new_position[1]] == '/':\n",
    "                new_direction = 'left'\n",
    "                if [new_position, new_direction] not in cache:\n",
    "                    beams.append([new_position, new_direction])\n",
    "                    cache.append([new_position, new_direction])\n",
    "                    energize(energized, new_position)\n",
    "            elif working_file_array[new_position[0]][new_position[1]] == '\\\\':\n",
    "                new_direction = 'right'\n",
    "                if [new_position, new_direction] not in cache:\n",
    "                    beams.append([new_position, new_direction])\n",
    "                    cache.append([new_position, new_direction])\n",
    "                    energize(energized, new_position)\n",
    "        else:\n",
    "            continue\n",
    "\n",
    "        if working_file_array[new_position[0]][new_position[1]] == '-':   # split\n",
    "            new_direction = 'left'\n",
    "            if [new_position, new_direction] not in cache:\n",
    "                beams.append([new_position, new_direction])\n",
    "                cache.append([new_position, new_direction])\n",
    "                energize(energized, new_position)\n",
    "            new_direction = 'right'\n",
    "            if [new_position, new_direction] not in cache:\n",
    "                beams.append([new_position, new_direction])\n",
    "                cache.append([new_position, new_direction])\n",
    "                energize(energized, new_position)\n",
    "        elif working_file_array[new_position[0]][new_position[1]] == '|':  # split\n",
    "            new_direction = 'up'\n",
    "            if [new_position, new_direction] not in cache:\n",
    "                beams.append([new_position, new_direction])\n",
    "                cache.append([new_position, new_direction])\n",
    "                energize(energized, new_position)\n",
    "            new_direction = 'down'\n",
    "            if [new_position, new_direction] not in cache:\n",
    "                beams.append([new_position, new_direction])\n",
    "                cache.append([new_position, new_direction])\n",
    "        elif working_file_array[new_position[0]][new_position[1]] == '.':  # empty space\n",
    "            beams.append([new_position, start_direction])\n",
    "            cache.append([new_position, start_direction])\n",
    "            energize(energized, new_position)\n",
    "    return np.count_nonzero(energized == '#')"
   ]
  },
  {
   "cell_type": "code",
   "execution_count": 63,
   "metadata": {},
   "outputs": [
    {
     "name": "stdout",
     "output_type": "stream",
     "text": [
      "highest_energy: 7870\n"
     ]
    }
   ],
   "source": [
    "working_file = file_content\n",
    "\n",
    "# working_file is a list of lists. make it into an nd array\n",
    "working_file_array = np.array([list(x) for x in working_file])\n",
    "\n",
    "width = len(working_file_array[0])\n",
    "height = len(working_file_array)\n",
    "\n",
    "\n",
    "start = (0, -1)  # y, x\n",
    "direction = 'right'\n",
    "\n",
    "n_energized = get_n_energized(working_file_array, start, direction, width, height)\n",
    "\n",
    "print(f\"highest_energy: {n_energized}\")\n"
   ]
  },
  {
   "cell_type": "markdown",
   "metadata": {},
   "source": [
    "### Part 2"
   ]
  },
  {
   "cell_type": "code",
   "execution_count": 64,
   "metadata": {},
   "outputs": [
    {
     "name": "stderr",
     "output_type": "stream",
     "text": [
      "100%|██████████| 110/110 [01:06<00:00,  1.65it/s]\n",
      "100%|██████████| 110/110 [01:13<00:00,  1.50it/s]"
     ]
    },
    {
     "name": "stdout",
     "output_type": "stream",
     "text": [
      "highest_energy: 8143\n"
     ]
    },
    {
     "name": "stderr",
     "output_type": "stream",
     "text": [
      "\n"
     ]
    }
   ],
   "source": [
    "# top and bottom: (with tqdm for progress bar)\n",
    "for x in tqdm(range(width)):\n",
    "    start = (-1, x)\n",
    "    direction = 'down'\n",
    "    n_energized = get_n_energized(working_file_array, start, direction, width, height)\n",
    "\n",
    "    if n_energized > highest_energy:\n",
    "        highest_energy = n_energized\n",
    "\n",
    "    start = (height, x)\n",
    "    direction = 'up'\n",
    "    n_energized = get_n_energized(working_file_array, start, direction, width, height)\n",
    "\n",
    "    if n_energized > highest_energy:\n",
    "        highest_energy = n_energized\n",
    "\n",
    "for y in tqdm(range(height)):\n",
    "    start = (y, -1)\n",
    "    direction = 'right'\n",
    "    n_energized = get_n_energized(working_file_array, start, direction, width, height)\n",
    "\n",
    "    if n_energized > highest_energy:\n",
    "        highest_energy = n_energized\n",
    "\n",
    "    start = (y, width)\n",
    "    direction = 'left'\n",
    "    n_energized = get_n_energized(working_file_array, start, direction, width, height)\n",
    "\n",
    "    if n_energized > highest_energy:\n",
    "        highest_energy = n_energized\n",
    "\n",
    "print(f\"highest_energy: {highest_energy}\")"
   ]
  }
 ],
 "metadata": {
  "kernelspec": {
   "display_name": "scoritoEnv",
   "language": "python",
   "name": "scoritoenv"
  },
  "language_info": {
   "codemirror_mode": {
    "name": "ipython",
    "version": 3
   },
   "file_extension": ".py",
   "mimetype": "text/x-python",
   "name": "python",
   "nbconvert_exporter": "python",
   "pygments_lexer": "ipython3",
   "version": "3.10.8"
  },
  "orig_nbformat": 4,
  "vscode": {
   "interpreter": {
    "hash": "db4fb2da53b463202cc29faa1dff83472033a83d3730354993520b674a604c4a"
   }
  }
 },
 "nbformat": 4,
 "nbformat_minor": 2
}
