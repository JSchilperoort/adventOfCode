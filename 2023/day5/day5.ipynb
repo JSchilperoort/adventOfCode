{
 "cells": [
  {
   "cell_type": "code",
   "execution_count": 1,
   "metadata": {},
   "outputs": [],
   "source": [
    "import pandas as pd\n",
    "import numpy as np\n",
    "import os\n",
    "import sys\n",
    "from tqdm import tqdm"
   ]
  },
  {
   "cell_type": "markdown",
   "metadata": {},
   "source": [
    "### Read the data"
   ]
  },
  {
   "cell_type": "code",
   "execution_count": 2,
   "metadata": {},
   "outputs": [],
   "source": [
    "current_path = os.getcwd()\n",
    "day = int(current_path.split('day')[1])\n",
    "\n",
    "fn = 'day' + str(day) + '.txt'\n",
    "\n",
    "file_content = open(fn).read().split('\\n')\n",
    "\n",
    "test_fn = 'day' + str(day) + 'test.txt'\n",
    "\n",
    "test_file_content = open(test_fn).read().split('\\n')"
   ]
  },
  {
   "cell_type": "markdown",
   "metadata": {},
   "source": [
    "### Part 1"
   ]
  },
  {
   "cell_type": "code",
   "execution_count": 3,
   "metadata": {},
   "outputs": [],
   "source": [
    "class Translator:\n",
    "    def __init__(self):\n",
    "        self.source_ranges_start = list()\n",
    "        self.source_ranges_end = list()\n",
    "\n",
    "        self.target_ranges_start = list()\n",
    "        self.target_ranges_end = list()\n",
    "    \n",
    "    def add_ranges(self, start_target, start_source, range_length):\n",
    "        self.source_ranges_start.append(start_source)\n",
    "        self.source_ranges_end.append(start_source + range_length)\n",
    "\n",
    "        self.target_ranges_start.append(start_target)\n",
    "        self.target_ranges_end.append(start_target + range_length)\n",
    "\n",
    "    def translate(self, source):\n",
    "        for i in range(len(self.source_ranges_start)):\n",
    "            if source >= self.source_ranges_start[i] and source < self.source_ranges_end[i]:\n",
    "                return self.target_ranges_start[i] + (source - self.source_ranges_start[i])\n",
    "        return source\n",
    "    \n",
    "    def reverse_translate(self, target):\n",
    "        for i in range(len(self.target_ranges_start)):\n",
    "            if target >= self.target_ranges_start[i] and target < self.target_ranges_end[i]:\n",
    "                return self.source_ranges_start[i] + (target - self.target_ranges_start[i])\n",
    "\n",
    "        # check if target in source range\n",
    "        for i in range(len(self.source_ranges_start)):\n",
    "            if target >= self.source_ranges_start[i] and target < self.source_ranges_end[i]:\n",
    "                return False\n",
    "\n",
    "        return target\n"
   ]
  },
  {
   "cell_type": "code",
   "execution_count": 4,
   "metadata": {},
   "outputs": [
    {
     "name": "stdout",
     "output_type": "stream",
     "text": [
      "51580674\n"
     ]
    }
   ],
   "source": [
    "working_file = file_content\n",
    "\n",
    "initial_seeds = working_file[0].split(': ')[1].split(' ')\n",
    "initial_seeds = [int(x) for x in initial_seeds]\n",
    "\n",
    "all_mappings = list()\n",
    "\n",
    "i = 2\n",
    "\n",
    "while i < len(working_file):\n",
    "    # if '-' in working_file[i]:\n",
    "    if '-' in working_file[i]:\n",
    "\n",
    "        translator = Translator()\n",
    "        while (i+1) < len(working_file) and working_file[i+1] != '':\n",
    "            mapping = working_file[i+1].split(' ')\n",
    "            dest_range_start, src_range_start, range_length = [int(x) for x in mapping]\n",
    "            translator.add_ranges(dest_range_start, src_range_start, range_length)\n",
    "            i += 1\n",
    "        all_mappings.append(translator)\n",
    "    i += 1\n",
    "lowest_location_number = np.inf\n",
    "for seed in initial_seeds:\n",
    "    current = seed\n",
    "    for translator in all_mappings:\n",
    "        current = translator.translate(current)\n",
    "\n",
    "    if current < lowest_location_number:\n",
    "        lowest_location_number = current\n",
    "print(lowest_location_number)"
   ]
  },
  {
   "cell_type": "markdown",
   "metadata": {},
   "source": [
    "### Part 2"
   ]
  },
  {
   "cell_type": "code",
   "execution_count": 5,
   "metadata": {},
   "outputs": [
    {
     "name": "stdout",
     "output_type": "stream",
     "text": [
      "99751240\n"
     ]
    }
   ],
   "source": [
    "D = open(fn).read().strip()\n",
    "L = D.split('\\n')\n",
    "\n",
    "parts = D.split('\\n\\n')\n",
    "seed, *others = parts\n",
    "seed = [int(x) for x in seed.split(':')[1].split()]\n",
    "\n",
    "class Function:\n",
    "  def __init__(self, S):\n",
    "    lines = S.split('\\n')[1:] # throw away name\n",
    "    # dst src sz\n",
    "    self.tuples: list[tuple[int,int,int]] = [[int(x) for x in line.split()] for line in lines]\n",
    "    #print(self.tuples)\n",
    "  def apply_one(self, x: int) -> int:\n",
    "    for (dst, src, sz) in self.tuples:\n",
    "      if src<=x<src+sz:\n",
    "        return x+dst-src\n",
    "    return x\n",
    "\n",
    "  # list of [start, end) ranges\n",
    "  def apply_range(self, R):\n",
    "    A = []\n",
    "    for (dest, src, sz) in self.tuples:\n",
    "      src_end = src+sz\n",
    "      NR = []\n",
    "      while R:\n",
    "        # [st                                     ed)\n",
    "        #          [src       src_end]\n",
    "        # [BEFORE ][INTER            ][AFTER        )\n",
    "        (st,ed) = R.pop()\n",
    "        # (src,sz) might cut (st,ed)\n",
    "        before = (st,min(ed,src))\n",
    "        inter = (max(st, src), min(src_end, ed))\n",
    "        after = (max(src_end, st), ed)\n",
    "        if before[1]>before[0]:\n",
    "          NR.append(before)\n",
    "        if inter[1]>inter[0]:\n",
    "          A.append((inter[0]-src+dest, inter[1]-src+dest))\n",
    "        if after[1]>after[0]:\n",
    "          NR.append(after)\n",
    "      R = NR\n",
    "    return A+R\n",
    "\n",
    "Fs = [Function(s) for s in others]\n",
    "\n",
    "P2 = []\n",
    "pairs = list(zip(seed[::2], seed[1::2]))\n",
    "for st, sz in pairs:\n",
    "  # inclusive on the left, exclusive on the right\n",
    "  # e.g. [1,3) = [1,2]\n",
    "  # length of [a,b) = b-a\n",
    "  # [a,b) + [b,c) = [a,c)\n",
    "  R = [(st, st+sz)]\n",
    "  for f in Fs:\n",
    "    R = f.apply_range(R)\n",
    "  #print(len(R))\n",
    "  P2.append(min(R)[0])\n",
    "print(min(P2))"
   ]
  }
 ],
 "metadata": {
  "kernelspec": {
   "display_name": "Python 3.8.11 ('newenv')",
   "language": "python",
   "name": "python3"
  },
  "language_info": {
   "codemirror_mode": {
    "name": "ipython",
    "version": 3
   },
   "file_extension": ".py",
   "mimetype": "text/x-python",
   "name": "python",
   "nbconvert_exporter": "python",
   "pygments_lexer": "ipython3",
   "version": "3.9.13"
  },
  "orig_nbformat": 4,
  "vscode": {
   "interpreter": {
    "hash": "db4fb2da53b463202cc29faa1dff83472033a83d3730354993520b674a604c4a"
   }
  }
 },
 "nbformat": 4,
 "nbformat_minor": 2
}
