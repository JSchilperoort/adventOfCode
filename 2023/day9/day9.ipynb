{
 "cells": [
  {
   "cell_type": "code",
   "execution_count": 1,
   "metadata": {},
   "outputs": [],
   "source": [
    "import pandas as pd\n",
    "import numpy as np\n",
    "import os\n",
    "import sys"
   ]
  },
  {
   "cell_type": "markdown",
   "metadata": {},
   "source": [
    "### Read the data"
   ]
  },
  {
   "cell_type": "code",
   "execution_count": 2,
   "metadata": {},
   "outputs": [],
   "source": [
    "current_path = os.getcwd()\n",
    "day = int(current_path.split('day')[1])\n",
    "\n",
    "fn = 'day' + str(day) + '.txt'\n",
    "\n",
    "file_content = open(fn).read().split('\\n')\n",
    "\n",
    "test_fn = 'day' + str(day) + 'test.txt'\n",
    "\n",
    "test_file_content = open(test_fn).read().split('\\n')"
   ]
  },
  {
   "cell_type": "markdown",
   "metadata": {},
   "source": [
    "### Part 1"
   ]
  },
  {
   "cell_type": "code",
   "execution_count": 15,
   "metadata": {},
   "outputs": [
    {
     "name": "stdout",
     "output_type": "stream",
     "text": [
      "1882395907\n"
     ]
    }
   ],
   "source": [
    "working_file = file_content\n",
    "\n",
    "def difflist(list_of_ints):\n",
    "    return [list_of_ints[i+1] - list_of_ints[i] for i in range(len(list_of_ints)-1)]\n",
    "\n",
    "def is_list_of_zeros(list_of_ints):\n",
    "    return all([x == 0 for x in list_of_ints])\n",
    "\n",
    "sum_of_new_numbers = 0\n",
    "for line in working_file:\n",
    "    history = [int(x) for x in line.split(' ')]\n",
    "    # get the difference between each number and the next\n",
    "    new_number = history[-1]\n",
    "\n",
    "    diff_list = difflist(history)\n",
    "    new_number += diff_list[-1]\n",
    "    while not is_list_of_zeros(diff_list):\n",
    "        diff_list = difflist(diff_list)\n",
    "        new_number += diff_list[-1]\n",
    "\n",
    "    sum_of_new_numbers += new_number\n",
    "print(sum_of_new_numbers)\n"
   ]
  },
  {
   "cell_type": "markdown",
   "metadata": {},
   "source": [
    "### Part 2"
   ]
  },
  {
   "cell_type": "code",
   "execution_count": 31,
   "metadata": {},
   "outputs": [
    {
     "name": "stdout",
     "output_type": "stream",
     "text": [
      "1005\n"
     ]
    }
   ],
   "source": [
    "working_file = file_content\n",
    "\n",
    "def minus_reverse_order(list_of_ints):\n",
    "    # if the list of ints = [a, b, c, d, e] return a - (b - (c - (d - (e))))))\n",
    "    \n",
    "    if len(list_of_ints) == 1:\n",
    "        return list_of_ints[0]\n",
    "    else:\n",
    "        return list_of_ints[0] - minus_reverse_order(list_of_ints[1:])\n",
    "\n",
    "\n",
    "sum_of_new_numbers = 0\n",
    "for line in working_file:\n",
    "    history = [int(x) for x in line.split(' ')]\n",
    "    # get the difference between each number and the next\n",
    "    new_numbers = [history[0]]\n",
    "    diff_list = difflist(history)\n",
    "    \n",
    "    new_numbers.append(diff_list[0])\n",
    "    while not is_list_of_zeros(diff_list):\n",
    "        diff_list = difflist(diff_list)\n",
    "        new_numbers.append(diff_list[0])\n",
    "    sum_of_new_numbers += minus_reverse_order(new_numbers)\n",
    "\n",
    "print(sum_of_new_numbers)\n"
   ]
  }
 ],
 "metadata": {
  "kernelspec": {
   "display_name": "Python 3.8.11 ('newenv')",
   "language": "python",
   "name": "python3"
  },
  "language_info": {
   "codemirror_mode": {
    "name": "ipython",
    "version": 3
   },
   "file_extension": ".py",
   "mimetype": "text/x-python",
   "name": "python",
   "nbconvert_exporter": "python",
   "pygments_lexer": "ipython3",
   "version": "3.9.13"
  },
  "orig_nbformat": 4,
  "vscode": {
   "interpreter": {
    "hash": "db4fb2da53b463202cc29faa1dff83472033a83d3730354993520b674a604c4a"
   }
  }
 },
 "nbformat": 4,
 "nbformat_minor": 2
}
