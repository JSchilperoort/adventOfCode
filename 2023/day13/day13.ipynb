{
 "cells": [
  {
   "cell_type": "code",
   "execution_count": 122,
   "metadata": {},
   "outputs": [],
   "source": [
    "import pandas as pd\n",
    "import numpy as np\n",
    "import os\n",
    "import sys"
   ]
  },
  {
   "cell_type": "markdown",
   "metadata": {},
   "source": [
    "### Read the data"
   ]
  },
  {
   "cell_type": "code",
   "execution_count": 123,
   "metadata": {},
   "outputs": [],
   "source": [
    "current_path = os.getcwd()\n",
    "day = int(current_path.split('day')[1])\n",
    "\n",
    "fn = 'day' + str(day) + '.txt'\n",
    "\n",
    "file_content = open(fn).read().split('\\n')\n",
    "\n",
    "test_fn = 'day' + str(day) + 'test.txt'\n",
    "\n",
    "test_file_content = open(test_fn).read().split('\\n')\n",
    "\n",
    "test_fn2 = 'day' + str(day) + 'test2.txt'\n",
    "\n",
    "test_file_content2 = open(test_fn2).read().split('\\n')"
   ]
  },
  {
   "cell_type": "markdown",
   "metadata": {},
   "source": [
    "### Part 1"
   ]
  },
  {
   "cell_type": "code",
   "execution_count": 124,
   "metadata": {},
   "outputs": [],
   "source": [
    "working_file = file_content\n",
    "\n",
    "# replace # with 1 and . with 0\n",
    "working_file = [i.replace('#', '1') for i in working_file]\n",
    "working_file = [i.replace('.', '0') for i in working_file]\n",
    "# convert all to ints\n",
    "working_file = [list(map(int, i)) for i in working_file]\n",
    "\n",
    "fields = list()\n",
    "i = 0\n",
    "while i < len(working_file):\n",
    "    field = list()\n",
    "    while i < len(working_file) and working_file[i] != []:\n",
    "        field.append(working_file[i])\n",
    "        i += 1\n",
    "    # convert field t o numpy array\n",
    "    field = np.array(field)\n",
    "    fields.append(field)\n",
    "    i += 1"
   ]
  },
  {
   "cell_type": "code",
   "execution_count": null,
   "metadata": {},
   "outputs": [],
   "source": [
    "def find_mirror_line(field, n_allowed_differences=0):\n",
    "    # check if columns to the left are mirrored to the right\n",
    "    for i in range(field.shape[1] - 1):\n",
    "        # left_side is all columns to the left of i (inclusive)\n",
    "        left_side = field[:, :i + 1]\n",
    "        # right_side is all columns to the right of i (exclusive)\n",
    "        right_side = field[:, i + 1:]\n",
    "\n",
    "        \n",
    "        # if there are more columns in the left side than the right side, then remove columns from the start of the left side\n",
    "        if left_side.shape[1] > right_side.shape[1]:\n",
    "            left_side = left_side[:, left_side.shape[1] - right_side.shape[1]:]\n",
    "        # if there are more columns in the right side than the left side, then remove columns from the end of the right side\n",
    "        elif right_side.shape[1] > left_side.shape[1]:\n",
    "            right_side = right_side[:, :left_side.shape[1]]\n",
    "\n",
    "\n",
    "        # check if left_side is mirrored to right_side with one bit flipped\n",
    "        if np.sum(np.logical_xor(left_side, np.fliplr(right_side))) == n_allowed_differences:\n",
    "            return i + 1\n",
    "        \n",
    "        \n",
    "    # now do the same for rows\n",
    "    for i in range(field.shape[0] - 1):\n",
    "        # top_side is all rows above i (inclusive)\n",
    "        top_side = field[:i + 1, :]\n",
    "        # bottom_side is all rows below i (exclusive)\n",
    "        bottom_side = field[i + 1:, :]\n",
    "        # if there are more rows in the top side than the bottom side, then remove rows from the start of the top side\n",
    "        if top_side.shape[0] > bottom_side.shape[0]:\n",
    "            top_side = top_side[top_side.shape[0] - bottom_side.shape[0]:, :]\n",
    "        # if there are more rows in the bottom side than the top side, then remove rows from the end of the bottom side\n",
    "        elif bottom_side.shape[0] > top_side.shape[0]:\n",
    "            # bottom side are the rows closest to top side\n",
    "            bottom_side = bottom_side[:top_side.shape[0], :]\n",
    "\n",
    "        # check if top_side is mirrored to bottom_side with one bit flipped\n",
    "        if np.sum(np.logical_xor(top_side, np.flipud(bottom_side))) == n_allowed_differences:\n",
    "            return 100 * (i + 1)\n"
   ]
  },
  {
   "cell_type": "code",
   "execution_count": 125,
   "metadata": {},
   "outputs": [
    {
     "name": "stdout",
     "output_type": "stream",
     "text": [
      "36015\n"
     ]
    }
   ],
   "source": [
    "\n",
    "summary = 0\n",
    "for field in fields:\n",
    "    # print(field)\n",
    "    mirror_line = find_mirror_line(field)\n",
    "    summary += mirror_line\n",
    "print(summary)"
   ]
  },
  {
   "cell_type": "markdown",
   "metadata": {},
   "source": [
    "### Part 2"
   ]
  },
  {
   "cell_type": "code",
   "execution_count": 126,
   "metadata": {},
   "outputs": [
    {
     "name": "stdout",
     "output_type": "stream",
     "text": [
      "35335\n"
     ]
    }
   ],
   "source": [
    "\n",
    "summary = 0\n",
    "for field in fields:\n",
    "    # print(field)\n",
    "    mirror_line = find_mirror_line(field, n_allowed_differences=1)\n",
    "    summary += mirror_line\n",
    "print(summary)"
   ]
  }
 ],
 "metadata": {
  "kernelspec": {
   "display_name": "scoritoEnv",
   "language": "python",
   "name": "scoritoenv"
  },
  "language_info": {
   "codemirror_mode": {
    "name": "ipython",
    "version": 3
   },
   "file_extension": ".py",
   "mimetype": "text/x-python",
   "name": "python",
   "nbconvert_exporter": "python",
   "pygments_lexer": "ipython3",
   "version": "3.10.8"
  },
  "orig_nbformat": 4,
  "vscode": {
   "interpreter": {
    "hash": "db4fb2da53b463202cc29faa1dff83472033a83d3730354993520b674a604c4a"
   }
  }
 },
 "nbformat": 4,
 "nbformat_minor": 2
}
