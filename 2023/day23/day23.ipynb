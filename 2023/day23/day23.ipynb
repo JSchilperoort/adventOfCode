{
 "cells": [
  {
   "cell_type": "code",
   "execution_count": 97,
   "metadata": {},
   "outputs": [],
   "source": [
    "import pandas as pd\n",
    "import numpy as np\n",
    "import os\n",
    "import sys"
   ]
  },
  {
   "cell_type": "markdown",
   "metadata": {},
   "source": [
    "### Read the data"
   ]
  },
  {
   "cell_type": "code",
   "execution_count": 98,
   "metadata": {},
   "outputs": [],
   "source": [
    "current_path = os.getcwd()\n",
    "day = int(current_path.split('day')[1])\n",
    "\n",
    "fn = 'day' + str(day) + '.txt'\n",
    "\n",
    "file_content = open(fn).read().split('\\n')\n",
    "\n",
    "test_fn = 'day' + str(day) + 'test.txt'\n",
    "\n",
    "test_file_content = open(test_fn).read().split('\\n')"
   ]
  },
  {
   "cell_type": "markdown",
   "metadata": {},
   "source": [
    "### Part 1"
   ]
  },
  {
   "cell_type": "code",
   "execution_count": 99,
   "metadata": {},
   "outputs": [],
   "source": [
    "def get_next_positions(current_position, maze, part=1):\n",
    "    y, x = current_position\n",
    "    next_positions = []\n",
    "    if x < len(maze[y]) - 1:\n",
    "        if part == 1 and maze[y][x + 1] in ['.', '>'] and maze[y][x] not in ['<', 'v', '^']:\n",
    "            next_positions.append((y, x + 1))\n",
    "        elif part == 2 and maze[y][x + 1] in ['.', '>', 'v', '^', '<']:\n",
    "            next_positions.append((y, x + 1))\n",
    "    if x > 0:\n",
    "        if part == 1 and maze[y][x - 1] in ['.', '<'] and maze[y][x] not in ['>', 'v', '^']:\n",
    "            next_positions.append((y, x - 1))\n",
    "        elif part == 2 and maze[y][x - 1] in ['.', '>', 'v', '^', '<']:\n",
    "            next_positions.append((y, x - 1))\n",
    "    if y > 0:\n",
    "        if part == 1 and maze[y - 1][x] in ['.', '^'] and maze[y][x] not in ['<', 'v', '>']:\n",
    "            next_positions.append((y - 1, x))\n",
    "        elif part == 2 and maze[y - 1][x] in ['.', '>', 'v', '^', '<']:\n",
    "            next_positions.append((y - 1, x))\n",
    "    if y < len(maze) - 1:\n",
    "        if part == 1 and maze[y + 1][x] in ['.', 'v'] and maze[y][x] not in ['<', '>', '^']:\n",
    "            next_positions.append((y + 1, x))\n",
    "        elif part == 2 and maze[y + 1][x] in ['.', '>', 'v', '^', '<']:\n",
    "            next_positions.append((y + 1, x))\n",
    "    return next_positions\n",
    "\n",
    "\n",
    "\n",
    "def find_longest_path(current_position, maze, path, part=1):\n",
    "    next_positions = get_next_positions(current_position, maze, part)\n",
    "    if len(next_positions) == 0:\n",
    "        return path\n",
    "\n",
    "    longest_new_path = path\n",
    "    length_of_longest_new_path = len(path)\n",
    "    for position in next_positions:\n",
    "        if position not in path:\n",
    "            new_path = find_longest_path(position, maze, path + [position], part)\n",
    "            if len(new_path) > length_of_longest_new_path:\n",
    "                longest_new_path = new_path\n",
    "                length_of_longest_new_path = len(new_path)\n",
    "\n",
    "    return longest_new_path\n",
    "\n",
    "\n",
    "def display_path(maze, path):\n",
    "    print(len(list(set(path))))\n",
    "    for y, row in enumerate(maze):\n",
    "        for x, char in enumerate(row):\n",
    "            if (y, x) in path:\n",
    "                print('O', end='')\n",
    "            else:\n",
    "                print(char, end='')\n",
    "        print('')"
   ]
  },
  {
   "cell_type": "code",
   "execution_count": 100,
   "metadata": {},
   "outputs": [
    {
     "name": "stdout",
     "output_type": "stream",
     "text": [
      "94\n"
     ]
    }
   ],
   "source": [
    "\n",
    "working_file_content = test_file_content\n",
    "start = (0, 1) # (y, x)\n",
    "print(len(find_longest_path(start, working_file_content, [])))"
   ]
  },
  {
   "cell_type": "markdown",
   "metadata": {},
   "source": [
    "### Part 2"
   ]
  },
  {
   "cell_type": "code",
   "execution_count": 103,
   "metadata": {},
   "outputs": [
    {
     "name": "stdout",
     "output_type": "stream",
     "text": [
      "2206\n",
      "6490\n"
     ]
    }
   ],
   "source": [
    "data = file_content\n",
    "\n",
    "# Part 1\n",
    "edges = {}\n",
    "for r, row in enumerate(data):\n",
    "    for c, v in enumerate(row):\n",
    "        if v == \".\":\n",
    "            for dr, dc in [(-1, 0), (0, -1), (0, 1), (1, 0)]:\n",
    "                ar, ac = r + dr, c + dc\n",
    "                if not (0 <= ar < len(data) and 0 <= ac < len(row)):\n",
    "                    continue\n",
    "                if data[ar][ac] == \".\":\n",
    "                    edges.setdefault((r, c), set()).add((ar, ac))\n",
    "                    edges.setdefault((ar, ac), set()).add((r, c))\n",
    "        if v == \">\":\n",
    "            edges.setdefault((r, c), set()).add((r, c + 1))\n",
    "            edges.setdefault((r, c - 1), set()).add((r, c))\n",
    "        if v == \"v\":\n",
    "            edges.setdefault((r, c), set()).add((r + 1, c))\n",
    "            edges.setdefault((r - 1, c), set()).add((r, c))\n",
    "\n",
    "n, m = len(data), len(data[0])\n",
    "\n",
    "q = [(0, 1, 0)]\n",
    "visited = set()\n",
    "best = 0\n",
    "while q:\n",
    "    r, c, d = q.pop()\n",
    "    if d == -1:\n",
    "        visited.remove((r, c))\n",
    "        continue\n",
    "    if (r, c) == (n - 1, m - 2):\n",
    "        best = max(best, d)\n",
    "        continue\n",
    "    if (r, c) in visited:\n",
    "        continue\n",
    "    visited.add((r, c))\n",
    "    q.append((r, c, -1))\n",
    "    for ar, ac in edges[(r, c)]:\n",
    "        q.append((ar, ac, d + 1))\n",
    "print(best)\n",
    "\n",
    "# Part 2\n",
    "edges = {}  # (r, c) -> (ar, ac, length)\n",
    "for r, row in enumerate(data):\n",
    "    for c, v in enumerate(row):\n",
    "        if v in \".>v\":\n",
    "            for dr, dc in [(-1, 0), (0, -1), (0, 1), (1, 0)]:\n",
    "                ar, ac = r + dr, c + dc\n",
    "                if not (0 <= ar < len(data) and 0 <= ac < len(row)):\n",
    "                    continue\n",
    "                if data[ar][ac] in \".>v\":\n",
    "                    edges.setdefault((r, c), set()).add((ar, ac, 1))\n",
    "                    edges.setdefault((ar, ac), set()).add((r, c, 1))\n",
    "\n",
    "# Remove nodes with degree 2 by merging the edges\n",
    "while True:\n",
    "    for n, e in edges.items():\n",
    "        if len(e) == 2:\n",
    "            a, b = e\n",
    "            edges[a[:2]].remove(n + (a[2],))\n",
    "            edges[b[:2]].remove(n + (b[2],))\n",
    "            edges[a[:2]].add((b[0], b[1], a[2] + b[2]))\n",
    "            edges[b[:2]].add((a[0], a[1], a[2] + b[2]))\n",
    "            del edges[n]\n",
    "            break\n",
    "    else:\n",
    "        break\n",
    "\n",
    "n, m = len(data), len(data[0])\n",
    "\n",
    "q = [(0, 1, 0)]\n",
    "visited = set()\n",
    "best = 0\n",
    "while q:\n",
    "    r, c, d = q.pop()\n",
    "    if d == -1:\n",
    "        visited.remove((r, c))\n",
    "        continue\n",
    "    if (r, c) == (n - 1, m - 2):\n",
    "        best = max(best, d)\n",
    "        continue\n",
    "    if (r, c) in visited:\n",
    "        continue\n",
    "    visited.add((r, c))\n",
    "    q.append((r, c, -1))\n",
    "    for ar, ac, l in edges[(r, c)]:\n",
    "        q.append((ar, ac, d + l))\n",
    "print(best)"
   ]
  }
 ],
 "metadata": {
  "kernelspec": {
   "display_name": "scoritoEnv",
   "language": "python",
   "name": "scoritoenv"
  },
  "language_info": {
   "codemirror_mode": {
    "name": "ipython",
    "version": 3
   },
   "file_extension": ".py",
   "mimetype": "text/x-python",
   "name": "python",
   "nbconvert_exporter": "python",
   "pygments_lexer": "ipython3",
   "version": "3.10.8"
  },
  "orig_nbformat": 4,
  "vscode": {
   "interpreter": {
    "hash": "db4fb2da53b463202cc29faa1dff83472033a83d3730354993520b674a604c4a"
   }
  }
 },
 "nbformat": 4,
 "nbformat_minor": 2
}
