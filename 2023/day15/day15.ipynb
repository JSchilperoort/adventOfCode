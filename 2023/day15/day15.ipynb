{
 "cells": [
  {
   "cell_type": "code",
   "execution_count": 14,
   "metadata": {},
   "outputs": [],
   "source": [
    "import pandas as pd\n",
    "import numpy as np\n",
    "import os\n",
    "import sys"
   ]
  },
  {
   "cell_type": "markdown",
   "metadata": {},
   "source": [
    "### Read the data"
   ]
  },
  {
   "cell_type": "code",
   "execution_count": 15,
   "metadata": {},
   "outputs": [],
   "source": [
    "current_path = os.getcwd()\n",
    "day = int(current_path.split('day')[1])\n",
    "\n",
    "fn = 'day' + str(day) + '.txt'\n",
    "\n",
    "file_content = open(fn).read().split(',')\n",
    "\n",
    "test_fn = 'day' + str(day) + 'test.txt'\n",
    "\n",
    "test_file_content = open(test_fn).read().split(',')"
   ]
  },
  {
   "cell_type": "markdown",
   "metadata": {},
   "source": [
    "### Part 1"
   ]
  },
  {
   "cell_type": "code",
   "execution_count": 20,
   "metadata": {},
   "outputs": [
    {
     "name": "stdout",
     "output_type": "stream",
     "text": [
      "502139\n"
     ]
    }
   ],
   "source": [
    "\n",
    "def hash_algorithm(character_string):\n",
    "    current_value = 0\n",
    "\n",
    "    for current_char in character_string:\n",
    "        ascii_value = ord(current_char)\n",
    "\n",
    "        current_value += ascii_value\n",
    "        current_value *= 17\n",
    "        current_value = current_value % 256\n",
    "\n",
    "    return current_value\n",
    "\n",
    "sum_of_hashes = 0\n",
    "for row in file_content:\n",
    "    sum_of_hashes += hash_algorithm(row)\n",
    "\n",
    "\n",
    "print(sum_of_hashes)"
   ]
  },
  {
   "cell_type": "markdown",
   "metadata": {},
   "source": [
    "### Part 2"
   ]
  },
  {
   "cell_type": "code",
   "execution_count": 61,
   "metadata": {},
   "outputs": [
    {
     "name": "stdout",
     "output_type": "stream",
     "text": [
      "284132\n"
     ]
    }
   ],
   "source": [
    "\n",
    "class Lens:\n",
    "    def __init__(self, label, focal_length):\n",
    "        self.label = label\n",
    "        self.focal_length = focal_length\n",
    "\n",
    "    def __eq__(self, other):\n",
    "        # check if other is an instanc of Lens\n",
    "        if not isinstance(other, Lens):\n",
    "            return self.label == other\n",
    "        return self.label == other.label\n",
    "    \n",
    "    def __repr__(self) -> str:\n",
    "        return str(self.label) + ' ' + str(self.focal_length)\n",
    "\n",
    "boxes = dict()\n",
    "\n",
    "for row in file_content:\n",
    "    if row.__contains__('='):\n",
    "        label, focal_length = row.split('=')\n",
    "        lens = Lens(label, focal_length)\n",
    "        box_number = hash_algorithm(label)\n",
    "        if box_number not in boxes:\n",
    "            boxes[box_number] = [lens]\n",
    "        else:\n",
    "            # check if the lens is already in the box\n",
    "            if lens in boxes[box_number]:\n",
    "                # get the index of the lens\n",
    "                lens_index = boxes[box_number].index(lens)\n",
    "                # remove the other lens with the same label\n",
    "                boxes[box_number].remove(lens)\n",
    "                # add the lens with the new focal length at the same index\n",
    "                boxes[box_number].insert(lens_index, lens)\n",
    "            else:\n",
    "                boxes[box_number].append(lens)\n",
    "    elif row.__contains__('-'):\n",
    "        label, _ = row.split('-')\n",
    "        box_number = hash_algorithm(label)\n",
    "        # check if the box is present\n",
    "        if box_number in boxes:\n",
    "            box = boxes[box_number]\n",
    "            # check if the label is present in the box\n",
    "            if label in box:\n",
    "                # remove the lens with this label from the box\n",
    "                box.remove(label)\n",
    "                # if box is now empty, remove the box\n",
    "                if len(box) == 0:\n",
    "                    del boxes[box_number]\n",
    "    else:\n",
    "        print(\"Error\")\n",
    "focusing_power = 0\n",
    "for key in boxes:\n",
    "    for slot_number, lens in enumerate(boxes[key]):\n",
    "        focusing_power += ((key + 1) * (slot_number + 1) * int(lens.focal_length))\n",
    "print(focusing_power)"
   ]
  }
 ],
 "metadata": {
  "kernelspec": {
   "display_name": "venv_bt",
   "language": "python",
   "name": "venv_bt"
  },
  "language_info": {
   "codemirror_mode": {
    "name": "ipython",
    "version": 3
   },
   "file_extension": ".py",
   "mimetype": "text/x-python",
   "name": "python",
   "nbconvert_exporter": "python",
   "pygments_lexer": "ipython3",
   "version": "3.9.0"
  },
  "orig_nbformat": 4,
  "vscode": {
   "interpreter": {
    "hash": "db4fb2da53b463202cc29faa1dff83472033a83d3730354993520b674a604c4a"
   }
  }
 },
 "nbformat": 4,
 "nbformat_minor": 2
}
