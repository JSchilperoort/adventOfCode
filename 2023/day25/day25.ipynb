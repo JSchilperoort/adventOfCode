{
 "cells": [
  {
   "cell_type": "code",
   "execution_count": 46,
   "metadata": {},
   "outputs": [],
   "source": [
    "import pandas as pd\n",
    "import numpy as np\n",
    "import os\n",
    "import sys\n",
    "from tqdm import tqdm"
   ]
  },
  {
   "cell_type": "markdown",
   "metadata": {},
   "source": [
    "### Read the data"
   ]
  },
  {
   "cell_type": "code",
   "execution_count": 47,
   "metadata": {},
   "outputs": [],
   "source": [
    "current_path = os.getcwd()\n",
    "day = int(current_path.split('day')[1])\n",
    "\n",
    "fn = 'day' + str(day) + '.txt'\n",
    "\n",
    "file_content = open(fn).read().split('\\n')\n",
    "\n",
    "test_fn = 'day' + str(day) + 'test.txt'\n",
    "\n",
    "test_file_content = open(test_fn).read().split('\\n')"
   ]
  },
  {
   "cell_type": "markdown",
   "metadata": {},
   "source": [
    "### Part 1"
   ]
  },
  {
   "cell_type": "code",
   "execution_count": 49,
   "metadata": {},
   "outputs": [],
   "source": [
    "class WiringDiagram:\n",
    "    def __init__(self, diagram_instructions):\n",
    "        self.components = list()\n",
    "        self.parse_diagram(diagram_instructions)\n",
    "        self.connections = self.get_connections()\n",
    "\n",
    "    def get_connections(self):\n",
    "        connections = list()\n",
    "        for component in self.components:\n",
    "            for other_component in component.connected_components:\n",
    "                if (component, other_component) not in connections and (other_component, component) not in connections:\n",
    "                    connections.append((component, other_component))\n",
    "        return connections\n",
    "\n",
    "    def parse_diagram(self, diagram_instructions):\n",
    "        for row in diagram_instructions:\n",
    "            first_name, other_names = row.split(': ')\n",
    "            other_names = other_names.split(' ')\n",
    "            first_component = self.create_or_get_component(first_name)\n",
    "            for other_name in other_names:\n",
    "                other_component = self.create_or_get_component(other_name)\n",
    "                first_component.add_connection(other_component)\n",
    "                other_component.add_connection(first_component)\n",
    "                self.add_component(other_component)\n",
    "            self.add_component(first_component)\n",
    "\n",
    "    def create_or_get_component(self, name):\n",
    "        for component in self.components:\n",
    "            if component.name == name:\n",
    "                return component\n",
    "        return Component(name)\n",
    "\n",
    "    def add_component(self, component):\n",
    "        if component not in self.components:\n",
    "            self.components.append(component)\n",
    "\n",
    "    def remove_three_connections_to_break_circuit(self):\n",
    "        for i, connection_i in tqdm(enumerate(self.connections[:-2])):\n",
    "            # only iterate after i\n",
    "            for j, connection_j in enumerate(self.connections[i+1:-1]):\n",
    "                # only iterate after j\n",
    "                for connection_k in self.connections[j+1:]:\n",
    "                    # check if circuit is broken\n",
    "                    if not self.check_full_circuit(removed_connections=[connection_i, connection_j, connection_k]):\n",
    "                        \n",
    "                        component_i0, component_i1 = connection_i\n",
    "                        size_group_0 = self.get_circuit_size(component_i0, removed_connections=[connection_i, connection_j, connection_k])\n",
    "                        size_group_1 = self.get_circuit_size(component_i1, removed_connections=[connection_i, connection_j, connection_k])\n",
    "                        print('Circuit is broken by removing', connection_i, connection_j, connection_k)\n",
    "                        print('Size of circuit 0:', size_group_0)\n",
    "                        print('Size of circuit 1:', size_group_1)\n",
    "                        print('Product:', size_group_0 * size_group_1)\n",
    "                        return connection_i, connection_j, connection_k\n",
    "                    \n",
    "    def get_circuit_size(self, component, removed_connections=None):\n",
    "        size = 1\n",
    "        unvisited_components = self.components.copy()\n",
    "        unvisited_components.remove(component)\n",
    "        to_visit = self.get_connected_components(component, removed_connections=removed_connections)\n",
    "\n",
    "        while len(unvisited_components) > 0 and len(to_visit) > 0:\n",
    "            current_component = to_visit.pop(0)\n",
    "            if current_component in unvisited_components:\n",
    "                unvisited_components.remove(current_component)\n",
    "                size += 1\n",
    "                for component in self.get_connected_components(current_component, removed_connections=removed_connections):\n",
    "                    if component not in to_visit and component in unvisited_components:\n",
    "                        to_visit.append(component)\n",
    "        return size\n",
    "\n",
    "    def get_connected_components(self, component, removed_connections=None):\n",
    "        connected_components = list()\n",
    "        for other_component in component.connected_components:\n",
    "            if removed_connections is None or (component, other_component) not in removed_connections and (other_component, component) not in removed_connections:\n",
    "                connected_components.append(other_component)\n",
    "        return connected_components\n",
    "\n",
    "    def check_full_circuit(self, removed_connections=None):\n",
    "        unvisited_components = self.components.copy()\n",
    "        # return whether every component is connected to every other component (directly or indirectly)\n",
    "        # start with first component\n",
    "        first_component = self.components[0]\n",
    "        # check for every other component\n",
    "        unvisited_components.remove(first_component)\n",
    "        to_visit = self.get_connected_components(first_component, removed_connections=removed_connections)\n",
    "\n",
    "        while len(unvisited_components) > 0 and len(to_visit) > 0:\n",
    "            current_component = to_visit.pop(0)\n",
    "            if current_component in unvisited_components:\n",
    "                unvisited_components.remove(current_component)\n",
    "                for component in self.get_connected_components(current_component, removed_connections=removed_connections):\n",
    "                    if component not in to_visit and component in unvisited_components:\n",
    "                        to_visit.append(component)\n",
    "        \n",
    "        if len(unvisited_components) == 0:\n",
    "            return True\n",
    "        if len(to_visit) == 0:\n",
    "            print(unvisited_components)\n",
    "            return False\n",
    "\n",
    "\n",
    "    def __repr__(self):\n",
    "        return_str = ''\n",
    "        for component in self.components:\n",
    "            return_str += str(component) + '\\n'\n",
    "        return return_str\n",
    "\n",
    "\n",
    "class Component:\n",
    "    def __init__(self, name):\n",
    "        self.name = name\n",
    "        self.connected_components = list()\n",
    "    \n",
    "    def add_connection(self, component):\n",
    "        # check if component is already in connected_components\n",
    "        if component not in self.connected_components:\n",
    "            self.connected_components.append(component)\n",
    "    \n",
    "    def __eq__(self, other):\n",
    "        return self.name == other.name\n",
    "\n",
    "    def __repr__(self):\n",
    "        return_str = self.name# + ': '\n",
    "        # for component in self.connected_components:\n",
    "        #     return_str += component.name + ' '\n",
    "        return return_str"
   ]
  },
  {
   "cell_type": "code",
   "execution_count": 51,
   "metadata": {},
   "outputs": [
    {
     "name": "stderr",
     "output_type": "stream",
     "text": [
      "0it [00:00, ?it/s]"
     ]
    }
   ],
   "source": [
    "working_file = file_content\n",
    "\n",
    "wiring_diagram = WiringDiagram(working_file)\n",
    "\n",
    "wiring_diagram.remove_three_connections_to_break_circuit()"
   ]
  },
  {
   "cell_type": "code",
   "execution_count": null,
   "metadata": {},
   "outputs": [],
   "source": [
    "import collections as C\n",
    "\n",
    "\n",
    "G = C.defaultdict(set)\n",
    "\n",
    "for line in open('day25.txt'):\n",
    "    u, *vs = line.replace(':','').split()\n",
    "    for v in vs: G[u].add(v); G[v].add(u)\n",
    "\n",
    "\n",
    "S = set(G)\n",
    "\n",
    "count = lambda v: len(G[v]-S)\n",
    "\n",
    "while sum(map(count, S)) != 3:\n",
    "    S.remove(max(S, key=count))\n",
    "\n",
    "print(len(S) * len(set(G)-S))\n"
   ]
  }
 ],
 "metadata": {
  "kernelspec": {
   "display_name": "scoritoEnv",
   "language": "python",
   "name": "scoritoenv"
  },
  "language_info": {
   "codemirror_mode": {
    "name": "ipython",
    "version": 3
   },
   "file_extension": ".py",
   "mimetype": "text/x-python",
   "name": "python",
   "nbconvert_exporter": "python",
   "pygments_lexer": "ipython3",
   "version": "3.10.8"
  },
  "orig_nbformat": 4,
  "vscode": {
   "interpreter": {
    "hash": "db4fb2da53b463202cc29faa1dff83472033a83d3730354993520b674a604c4a"
   }
  }
 },
 "nbformat": 4,
 "nbformat_minor": 2
}
