{
 "cells": [
  {
   "cell_type": "code",
   "execution_count": 15,
   "metadata": {},
   "outputs": [],
   "source": [
    "import pandas as pd\n",
    "import numpy as np\n",
    "import os\n",
    "import sys\n",
    "from itertools import product"
   ]
  },
  {
   "cell_type": "markdown",
   "metadata": {},
   "source": [
    "### Read the data"
   ]
  },
  {
   "cell_type": "code",
   "execution_count": 16,
   "metadata": {},
   "outputs": [],
   "source": [
    "current_path = os.getcwd()\n",
    "day = int(current_path.split('day')[1])\n",
    "\n",
    "fn = 'day' + str(day) + '.txt'\n",
    "\n",
    "file_content = open(fn).read().split('\\n')\n",
    "\n",
    "test_fn = 'day' + str(day) + 'test.txt'\n",
    "\n",
    "test_file_content = open(test_fn).read().split('\\n')"
   ]
  },
  {
   "cell_type": "markdown",
   "metadata": {},
   "source": [
    "### Part 1"
   ]
  },
  {
   "cell_type": "code",
   "execution_count": 17,
   "metadata": {},
   "outputs": [],
   "source": [
    "cards = ['A', 'K', 'Q', 'J', 'T', '9', '8', '7', '6', '5', '4', '3', '2']\n",
    "values = ['m', 'l', 'k', 'j', 'i', 'h', 'g', 'f', 'e', 'd', 'c', 'b', 'a']\n",
    "# make a dict of cards and their values\n",
    "card_values = {}\n",
    "for i in range(len(cards)):\n",
    "    card_values[cards[i]] = values[i]\n",
    "\n",
    "def get_hand_type(hand):\n",
    "    n_different_cards = len(set(hand))\n",
    "    # check for five of a kind\n",
    "    if n_different_cards == 1:\n",
    "        return 'g'\n",
    "    # check for four of a kind or full house\n",
    "    elif n_different_cards == 2:\n",
    "        # either four of a kind or full house\n",
    "        if hand.count(hand[0]) == 4 or hand.count(hand[1]) == 4:\n",
    "            return 'f'\n",
    "        else:\n",
    "            return 'e'\n",
    "    # check for three of a kind or two pair\n",
    "    elif n_different_cards == 3:\n",
    "        # either three of a kind or two pair\n",
    "        if hand.count(hand[0]) == 3 or hand.count(hand[1]) == 3 or hand.count(hand[2]) == 3:\n",
    "            return 'd'\n",
    "        else:\n",
    "            return 'c'\n",
    "    # check for one pair\n",
    "    elif n_different_cards == 4:\n",
    "        return 'b'\n",
    "    # high card\n",
    "    return 'a'\n",
    "\n",
    "def get_hand_strength(hand):\n",
    "    hand_type = get_hand_type(hand)\n",
    "    return hand_type + ''.join([card_values[card] for card in hand])"
   ]
  },
  {
   "cell_type": "code",
   "execution_count": 18,
   "metadata": {},
   "outputs": [
    {
     "name": "stdout",
     "output_type": "stream",
     "text": [
      "253910319\n"
     ]
    }
   ],
   "source": [
    "working_file = file_content\n",
    "\n",
    "split_lines = [line.split(' ') for line in working_file]\n",
    "hands, bids = zip(*split_lines)\n",
    "bids = [int(bid) for bid in bids]\n",
    "hand_strengths = [get_hand_strength(hand) for hand in hands]\n",
    "\n",
    "# sort all hands by strength\n",
    "hands = [hand for _, hand in sorted(zip(hand_strengths, hands), reverse=True)]\n",
    "bids = [bid for _, bid in sorted(zip(hand_strengths, bids), reverse=True)]\n",
    "\n",
    "total_winnings = 0\n",
    "for i in range(1, len(bids) + 1):\n",
    "    total_winnings += i * bids[-i]\n",
    "print(total_winnings)"
   ]
  },
  {
   "cell_type": "markdown",
   "metadata": {},
   "source": [
    "### Part 2"
   ]
  },
  {
   "cell_type": "code",
   "execution_count": 19,
   "metadata": {},
   "outputs": [],
   "source": [
    "cards = ['A', 'K', 'Q', 'T', '9', '8', '7', '6', '5', '4', '3', '2', 'J']\n",
    "values = ['m', 'l', 'k', 'j', 'i', 'h', 'g', 'f', 'e', 'd', 'c', 'b', 'a']\n",
    "# make a dict of cards and their values\n",
    "card_values = {}\n",
    "for i in range(len(cards)):\n",
    "    card_values[cards[i]] = values[i]\n",
    "\n",
    "def get_hand_type(hand):\n",
    "    n_different_cards = len(set(hand))\n",
    "    # check for five of a kind\n",
    "    if n_different_cards == 1:\n",
    "        return 'g'\n",
    "    # check for four of a kind or full house\n",
    "    elif n_different_cards == 2:\n",
    "        # either four of a kind or full house\n",
    "        if hand.count(hand[0]) == 4 or hand.count(hand[1]) == 4:\n",
    "            return 'f'\n",
    "        else:\n",
    "            return 'e'\n",
    "    # check for three of a kind or two pair\n",
    "    elif n_different_cards == 3:\n",
    "        # either three of a kind or two pair\n",
    "        if hand.count(hand[0]) == 3 or hand.count(hand[1]) == 3 or hand.count(hand[2]) == 3:\n",
    "            return 'd'\n",
    "        else:\n",
    "            return 'c'\n",
    "    # check for one pair\n",
    "    elif n_different_cards == 4:\n",
    "        return 'b'\n",
    "    # high card\n",
    "    return 'a'\n",
    "\n",
    "def get_hand_strength_joker(hand):\n",
    "    # get joker positions\n",
    "    joker_positions = [i for i, card in enumerate(hand) if card == 'J']\n",
    "\n",
    "    possible_joker_arrangements = list(product(['A', 'K', 'Q', 'T', '9', '8', '7', '6', '5', '4', '3', '2'], repeat=len(joker_positions)))\n",
    "    \n",
    "    # all possible hands are hand replaced with possible joker arrangements at joker_positions\n",
    "    all_possible_hands = []\n",
    "    for arrangement in possible_joker_arrangements:\n",
    "        new_hand = hand\n",
    "        for i, card in enumerate(arrangement):\n",
    "            new_hand = new_hand[:joker_positions[i]] + card + new_hand[joker_positions[i] + 1:]\n",
    "        all_possible_hands.append(new_hand)\n",
    "\n",
    "    # get the hand with the highest strength\n",
    "    hand_types = [get_hand_type(hand) for hand in all_possible_hands]\n",
    "    # get the hand with the highest hand type\n",
    "    best_hand_type = max(hand_types)\n",
    "\n",
    "    return best_hand_type + ''.join([card_values[card] for card in hand])\n"
   ]
  },
  {
   "cell_type": "code",
   "execution_count": 20,
   "metadata": {},
   "outputs": [
    {
     "name": "stdout",
     "output_type": "stream",
     "text": [
      "254083736\n"
     ]
    }
   ],
   "source": [
    "working_file = file_content\n",
    "\n",
    "split_lines = [line.split(' ') for line in working_file]\n",
    "hands, bids = zip(*split_lines)\n",
    "bids = [int(bid) for bid in bids]\n",
    "hand_strengths = [get_hand_strength_joker(hand) for hand in hands]\n",
    "\n",
    "# sort all hands by strength\n",
    "hands = [hand for _, hand in sorted(zip(hand_strengths, hands), reverse=True)]\n",
    "bids = [bid for _, bid in sorted(zip(hand_strengths, bids), reverse=True)]\n",
    "hand_strengths = sorted(hand_strengths, reverse=True)\n",
    "for i, hand in enumerate(hands):\n",
    "    rank = i + 1\n",
    "\n",
    "total_winnings = 0\n",
    "for i in range(1, len(bids) + 1):\n",
    "    total_winnings += i * bids[-i]\n",
    "print(total_winnings)"
   ]
  }
 ],
 "metadata": {
  "kernelspec": {
   "display_name": "Python 3.8.11 ('newenv')",
   "language": "python",
   "name": "python3"
  },
  "language_info": {
   "codemirror_mode": {
    "name": "ipython",
    "version": 3
   },
   "file_extension": ".py",
   "mimetype": "text/x-python",
   "name": "python",
   "nbconvert_exporter": "python",
   "pygments_lexer": "ipython3",
   "version": "3.9.13"
  },
  "orig_nbformat": 4,
  "vscode": {
   "interpreter": {
    "hash": "db4fb2da53b463202cc29faa1dff83472033a83d3730354993520b674a604c4a"
   }
  }
 },
 "nbformat": 4,
 "nbformat_minor": 2
}
