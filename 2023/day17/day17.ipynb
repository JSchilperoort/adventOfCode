{
 "cells": [
  {
   "cell_type": "code",
   "execution_count": 32,
   "metadata": {},
   "outputs": [],
   "source": [
    "import pandas as pd\n",
    "import numpy as np\n",
    "import os\n",
    "import sys\n",
    "from heapq import heappop, heappush as push"
   ]
  },
  {
   "cell_type": "markdown",
   "metadata": {},
   "source": [
    "### Read the data"
   ]
  },
  {
   "cell_type": "code",
   "execution_count": 33,
   "metadata": {},
   "outputs": [],
   "source": [
    "current_path = os.getcwd()\n",
    "day = int(current_path.split('day')[1])\n",
    "\n",
    "fn = 'day' + str(day) + '.txt'\n",
    "\n",
    "file_content = open(fn).read().split('\\n')\n",
    "\n",
    "test_fn = 'day' + str(day) + 'test.txt'\n",
    "\n",
    "test_file_content = open(test_fn).read().split('\\n')"
   ]
  },
  {
   "cell_type": "markdown",
   "metadata": {},
   "source": [
    "### Part 1"
   ]
  },
  {
   "cell_type": "code",
   "execution_count": 34,
   "metadata": {},
   "outputs": [
    {
     "name": "stdout",
     "output_type": "stream",
     "text": [
      "686\n"
     ]
    }
   ],
   "source": [
    "\n",
    "G = {i + j*1j: int(c) for i,r in enumerate(open('day17.txt'))\n",
    "                      for j,c in enumerate(r.strip())}\n",
    "\n",
    "def f(min, max, end=[*G][-1], x=0):\n",
    "    todo = [(0,0,0,1), (0,0,0,1j)]\n",
    "    seen = set()\n",
    "\n",
    "    while todo:\n",
    "        val, _, pos, dir = heappop(todo)\n",
    "\n",
    "        if (pos==end): return val\n",
    "        if (pos, dir) in seen: continue\n",
    "        seen.add((pos,dir))\n",
    "\n",
    "        for d in 1j/dir, -1j/dir:\n",
    "            for i in range(min, max+1):\n",
    "                if pos+d*i in G:\n",
    "                    v = sum(G[pos+d*j] for j in range(1,i+1))\n",
    "                    push(todo, (val+v, (x:=x+1), pos+d*i, d))\n",
    "\n",
    "print(f(1, 3))"
   ]
  },
  {
   "cell_type": "markdown",
   "metadata": {},
   "source": [
    "### Part 2"
   ]
  },
  {
   "cell_type": "code",
   "execution_count": 35,
   "metadata": {},
   "outputs": [
    {
     "name": "stdout",
     "output_type": "stream",
     "text": [
      "801\n"
     ]
    }
   ],
   "source": [
    "\n",
    "print(f(4, 10))"
   ]
  }
 ],
 "metadata": {
  "kernelspec": {
   "display_name": "scoritoEnv",
   "language": "python",
   "name": "scoritoenv"
  },
  "language_info": {
   "codemirror_mode": {
    "name": "ipython",
    "version": 3
   },
   "file_extension": ".py",
   "mimetype": "text/x-python",
   "name": "python",
   "nbconvert_exporter": "python",
   "pygments_lexer": "ipython3",
   "version": "3.10.8"
  },
  "orig_nbformat": 4,
  "vscode": {
   "interpreter": {
    "hash": "db4fb2da53b463202cc29faa1dff83472033a83d3730354993520b674a604c4a"
   }
  }
 },
 "nbformat": 4,
 "nbformat_minor": 2
}
