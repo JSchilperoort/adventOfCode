{
 "cells": [
  {
   "cell_type": "code",
   "execution_count": 68,
   "metadata": {},
   "outputs": [],
   "source": [
    "import pandas as pd\n",
    "import numpy as np\n",
    "import os\n",
    "import sys"
   ]
  },
  {
   "cell_type": "markdown",
   "metadata": {},
   "source": [
    "### Read the data"
   ]
  },
  {
   "cell_type": "code",
   "execution_count": 69,
   "metadata": {},
   "outputs": [],
   "source": [
    "current_path = os.getcwd()\n",
    "day = int(current_path.split('day')[1])\n",
    "\n",
    "fn = 'day' + str(day) + '.txt'\n",
    "\n",
    "file_content = open(fn).read().split('\\n')\n",
    "\n",
    "test_fn = 'day' + str(day) + 'test.txt'\n",
    "\n",
    "test_file_content = open(test_fn).read().split('\\n')"
   ]
  },
  {
   "cell_type": "markdown",
   "metadata": {},
   "source": [
    "### Part 1"
   ]
  },
  {
   "cell_type": "code",
   "execution_count": 75,
   "metadata": {},
   "outputs": [
    {
     "name": "stdout",
     "output_type": "stream",
     "text": [
      "540212\n"
     ]
    }
   ],
   "source": [
    "working_file = file_content.copy()\n",
    "\n",
    "sum_of_part_numbers = 0\n",
    "\n",
    "for y in range(len(working_file)):\n",
    "    x = 0\n",
    "    while x < len(working_file[0]):\n",
    "        if working_file[y][x].isdigit():\n",
    "            # check in all 8 directions for special chars\n",
    "            indices_to_check_for_special_chars = [[y-1, x-1], [y-1, x], [y-1, x+1], [y, x-1], [y, x+1], [y+1, x-1], [y+1, x], [y+1, x+1]]\n",
    "            i = 1\n",
    "            number = working_file[y][x]\n",
    "            while (x+i) < len(working_file[y]) and working_file[y][x+i].isdigit():\n",
    "                number = number + working_file[y][x+i]\n",
    "                # add [y-1][x+i], [y][x+i], [y+1][x+i] to indices_to_check_for_special_chars\n",
    "                indices_to_check_for_special_chars.append([y-1, x+i+1])\n",
    "                indices_to_check_for_special_chars.append([y, x+i+1])\n",
    "                indices_to_check_for_special_chars.append([y+1, x+i+1])\n",
    "                i += 1\n",
    "            \n",
    "            # check for special chars\n",
    "            for other_y, other_x in indices_to_check_for_special_chars:\n",
    "                if other_y >= 0 and other_y < len(working_file) and other_x >= 0 and other_x < len(working_file[0]):\n",
    "                    if working_file[other_y][other_x] != '.' and not working_file[other_y][other_x].isdigit():\n",
    "                        sum_of_part_numbers += int(number)\n",
    "                        break\n",
    "\n",
    "            x += (len(number) - 1)\n",
    "        x += 1\n",
    "\n",
    "print(sum_of_part_numbers)"
   ]
  },
  {
   "cell_type": "markdown",
   "metadata": {},
   "source": [
    "### Part 2"
   ]
  },
  {
   "cell_type": "code",
   "execution_count": 86,
   "metadata": {},
   "outputs": [
    {
     "name": "stdout",
     "output_type": "stream",
     "text": [
      "87605697\n"
     ]
    }
   ],
   "source": [
    "working_file = file_content.copy()\n",
    "\n",
    "asterisk_adjacent_numbers = list()  # [467, 125]\n",
    "related_asterisks = list()  # [[1,3], [2,3]]\n",
    "\n",
    "for y in range(len(working_file)):\n",
    "    x = 0\n",
    "    while x < len(working_file[0]):\n",
    "        if working_file[y][x].isdigit():\n",
    "            # check in all 8 directions for special chars\n",
    "            indices_to_check_for_special_chars = [[y-1, x-1], [y-1, x], [y-1, x+1], [y, x-1], [y, x+1], [y+1, x-1], [y+1, x], [y+1, x+1]]\n",
    "            i = 1\n",
    "            number = working_file[y][x]\n",
    "            while (x+i) < len(working_file[y]) and working_file[y][x+i].isdigit():\n",
    "                number = number + working_file[y][x+i]\n",
    "                # add [y-1][x+i], [y][x+i], [y+1][x+i] to indices_to_check_for_special_chars\n",
    "                indices_to_check_for_special_chars.append([y-1, x+i+1])\n",
    "                indices_to_check_for_special_chars.append([y, x+i+1])\n",
    "                indices_to_check_for_special_chars.append([y+1, x+i+1])\n",
    "                i += 1\n",
    "            \n",
    "            # check for special chars\n",
    "            for other_y, other_x in indices_to_check_for_special_chars:\n",
    "                if other_y >= 0 and other_y < len(working_file) and other_x >= 0 and other_x < len(working_file[0]):\n",
    "                    if working_file[other_y][other_x] == '*':\n",
    "                        asterisk_adjacent_numbers.append(int(number))\n",
    "                        related_asterisks.append([other_y, other_x])\n",
    "                        break\n",
    "\n",
    "            x += (len(number) - 1)\n",
    "        x += 1\n",
    "\n",
    "sum_of_gear_products = 0\n",
    "used_indices = list()\n",
    "# for eacht item in related asterisks, check how many times it occurs\n",
    "for i, (y, x) in enumerate(related_asterisks):\n",
    "    # check if related_asterisks[i] occurs more than once\n",
    "    if related_asterisks.count([y, x]) > 1:\n",
    "        # find the other indices of occurence\n",
    "        other_indices = [j for j, (other_y, other_x) in enumerate(related_asterisks) if other_y == y and other_x == x]\n",
    "\n",
    "        if other_indices in used_indices:\n",
    "            continue\n",
    "        sum_of_gear_products += asterisk_adjacent_numbers[other_indices[0]] * asterisk_adjacent_numbers[other_indices[1]]\n",
    "        used_indices.append(other_indices)\n",
    "print(sum_of_gear_products)"
   ]
  }
 ],
 "metadata": {
  "kernelspec": {
   "display_name": "Python 3.8.11 ('newenv')",
   "language": "python",
   "name": "python3"
  },
  "language_info": {
   "codemirror_mode": {
    "name": "ipython",
    "version": 3
   },
   "file_extension": ".py",
   "mimetype": "text/x-python",
   "name": "python",
   "nbconvert_exporter": "python",
   "pygments_lexer": "ipython3",
   "version": "3.9.13"
  },
  "orig_nbformat": 4,
  "vscode": {
   "interpreter": {
    "hash": "db4fb2da53b463202cc29faa1dff83472033a83d3730354993520b674a604c4a"
   }
  }
 },
 "nbformat": 4,
 "nbformat_minor": 2
}
