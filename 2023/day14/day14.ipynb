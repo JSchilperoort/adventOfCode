{
 "cells": [
  {
   "cell_type": "code",
   "execution_count": 114,
   "metadata": {},
   "outputs": [],
   "source": [
    "import pandas as pd\n",
    "import numpy as np\n",
    "import os\n",
    "import sys"
   ]
  },
  {
   "cell_type": "markdown",
   "metadata": {},
   "source": [
    "### Read the data"
   ]
  },
  {
   "cell_type": "code",
   "execution_count": 115,
   "metadata": {},
   "outputs": [],
   "source": [
    "current_path = os.getcwd()\n",
    "day = int(current_path.split('day')[1])\n",
    "\n",
    "fn = 'day' + str(day) + '.txt'\n",
    "\n",
    "file_content = open(fn).read().split('\\n')\n",
    "\n",
    "test_fn = 'day' + str(day) + 'test.txt'\n",
    "\n",
    "test_file_content = open(test_fn).read().split('\\n')"
   ]
  },
  {
   "cell_type": "markdown",
   "metadata": {},
   "source": [
    "### Part 1"
   ]
  },
  {
   "cell_type": "code",
   "execution_count": 116,
   "metadata": {},
   "outputs": [],
   "source": [
    "def get_array_data(which_file_content):\n",
    "    working_file = which_file_content.copy()\n",
    "    working_file_array = list()\n",
    "    for i in range(len(working_file)):\n",
    "        # convert string to list of characters\n",
    "        row_list = list(working_file[i])\n",
    "        # convert 'O' to '1` and '.' to 0 and '#' to 2\n",
    "        for j in range(len(row_list)):\n",
    "            if row_list[j] == 'O':\n",
    "                row_list[j] = 1\n",
    "            elif row_list[j] == '.':\n",
    "                row_list[j] = 0\n",
    "            elif row_list[j] == '#':\n",
    "                row_list[j] = 2\n",
    "        working_file_array.append(row_list)\n",
    "\n",
    "    # convert to numpy array\n",
    "    working_file_array = np.array(working_file_array)\n",
    "    return working_file_array\n"
   ]
  },
  {
   "cell_type": "code",
   "execution_count": 117,
   "metadata": {},
   "outputs": [
    {
     "name": "stdout",
     "output_type": "stream",
     "text": [
      "108889\n"
     ]
    }
   ],
   "source": [
    "working_file_array = get_array_data(file_content)\n",
    "\n",
    "for i, row in enumerate(working_file_array):\n",
    "    for j, char in enumerate(row):\n",
    "        if char == 1:\n",
    "            last_available_i = i\n",
    "            for k in range(i-1, -2, -1):\n",
    "                if k < 0 or working_file_array[k][j] in [1, 2]:\n",
    "                    if last_available_i == i:\n",
    "                        break\n",
    "                    working_file_array[last_available_i][j] = 1\n",
    "                    working_file_array[i][j] = 0\n",
    "                    break\n",
    "                last_available_i = k\n",
    "                \n",
    "load = 0\n",
    "\n",
    "for i, row in enumerate(working_file_array):\n",
    "    load += np.sum(row == 1) * (len(working_file_array) - i)\n",
    "\n",
    "print(load)\n"
   ]
  },
  {
   "cell_type": "markdown",
   "metadata": {},
   "source": [
    "### Part 2"
   ]
  },
  {
   "cell_type": "code",
   "execution_count": 327,
   "metadata": {},
   "outputs": [
    {
     "name": "stdout",
     "output_type": "stream",
     "text": [
      "104671\n"
     ]
    }
   ],
   "source": [
    "def spin_cycle(working_file_array):\n",
    "    for direction in ['north', 'west', 'south', 'east']:\n",
    "        if direction == 'south':\n",
    "            # Flip upside down\n",
    "            working_file_array = np.flipud(working_file_array)\n",
    "        elif direction == 'east':\n",
    "            # Flip left to right\n",
    "            working_file_array = np.fliplr(working_file_array)\n",
    "        \n",
    "        for i, row in enumerate(working_file_array):\n",
    "            for j, char in enumerate(row):\n",
    "                if char == 1:\n",
    "                    if direction in ['north', 'south']:\n",
    "                        last_available_i = i\n",
    "                        for k in range(i-1, -2, -1):\n",
    "                            if k < 0 or working_file_array[k][j] in [1, 2]:\n",
    "                                if last_available_i == i:\n",
    "                                    break\n",
    "                                working_file_array[last_available_i][j] = 1\n",
    "                                working_file_array[i][j] = 0\n",
    "                                break\n",
    "                            last_available_i = k\n",
    "                    elif direction in ['east', 'west']:\n",
    "                        last_available_j = j\n",
    "                        for k in range(j-1, -2, -1):\n",
    "                            if k < 0 or working_file_array[i][k] in [1, 2]:\n",
    "                                if last_available_j == j:\n",
    "                                    break\n",
    "                                working_file_array[i][last_available_j] = 1\n",
    "                                working_file_array[i][j] = 0\n",
    "                                break\n",
    "                            last_available_j = k\n",
    "        if direction == 'south':\n",
    "            # Flip upside down\n",
    "            working_file_array = np.flipud(working_file_array)\n",
    "        elif direction == 'east':\n",
    "            # Flip left to right\n",
    "            working_file_array = np.fliplr(working_file_array)\n",
    "    return working_file_array\n",
    "\n",
    "\n",
    "class Cycle:\n",
    "    def __init__(self, working_file_array, cycle_number):\n",
    "        self.working_file_array = working_file_array.copy()\n",
    "        self.cycle_number = cycle_number\n",
    "\n",
    "    @property\n",
    "    def load(self):\n",
    "        load = 0\n",
    "        for i, row in enumerate(self.working_file_array):\n",
    "            load += np.sum(row == 1) * (len(self.working_file_array) - i)\n",
    "        return(load)\n",
    "    \n",
    "    def __eq__(self, other):\n",
    "        # check if the arrays are the same in every position\n",
    "        return np.array_equal(self.working_file_array, other.working_file_array)\n",
    "\n",
    "cache = list()\n",
    "working_file_array = get_array_data(file_content)\n",
    "i = 0\n",
    "while True:\n",
    "    working_file_array = spin_cycle(working_file_array)\n",
    "    cycle = Cycle(working_file_array, i)\n",
    "    if cycle in cache:\n",
    "        cycle_length = i - cache.index(cycle)\n",
    "        start_cycle = cache.index(cycle)\n",
    "        x = 1000000000 - 1 - start_cycle\n",
    "\n",
    "        earliest_same_cycle_as_x = x % cycle_length + start_cycle\n",
    "\n",
    "        print(cache[earliest_same_cycle_as_x].load)\n",
    "\n",
    "        break\n",
    "\n",
    "    else:\n",
    "        cache.append(cycle)\n",
    "    i += 1\n"
   ]
  }
 ],
 "metadata": {
  "kernelspec": {
   "display_name": "scoritoEnv",
   "language": "python",
   "name": "scoritoenv"
  },
  "language_info": {
   "codemirror_mode": {
    "name": "ipython",
    "version": 3
   },
   "file_extension": ".py",
   "mimetype": "text/x-python",
   "name": "python",
   "nbconvert_exporter": "python",
   "pygments_lexer": "ipython3",
   "version": "3.10.8"
  },
  "orig_nbformat": 4,
  "vscode": {
   "interpreter": {
    "hash": "db4fb2da53b463202cc29faa1dff83472033a83d3730354993520b674a604c4a"
   }
  }
 },
 "nbformat": 4,
 "nbformat_minor": 2
}
