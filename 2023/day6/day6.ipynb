{
 "cells": [
  {
   "cell_type": "code",
   "execution_count": 1,
   "metadata": {},
   "outputs": [],
   "source": [
    "import pandas as pd\n",
    "import numpy as np\n",
    "import os\n",
    "import sys"
   ]
  },
  {
   "cell_type": "markdown",
   "metadata": {},
   "source": [
    "### Read the data"
   ]
  },
  {
   "cell_type": "code",
   "execution_count": 2,
   "metadata": {},
   "outputs": [],
   "source": [
    "current_path = os.getcwd()\n",
    "day = int(current_path.split('day')[1])\n",
    "\n",
    "fn = 'day' + str(day) + '.txt'\n",
    "\n",
    "file_content = open(fn).read().split('\\n')\n",
    "\n",
    "test_fn = 'day' + str(day) + 'test.txt'\n",
    "\n",
    "test_file_content = open(test_fn).read().split('\\n')"
   ]
  },
  {
   "cell_type": "markdown",
   "metadata": {},
   "source": [
    "### Part 1"
   ]
  },
  {
   "cell_type": "code",
   "execution_count": 21,
   "metadata": {},
   "outputs": [
    {
     "name": "stdout",
     "output_type": "stream",
     "text": [
      "1710720\n"
     ]
    }
   ],
   "source": [
    "working_file = file_content\n",
    "\n",
    "def process_row_content(row):\n",
    "    row = row.split(':')[1].split(' ')\n",
    "    row = list(filter(None, row))\n",
    "    row = [int(i) for i in row]\n",
    "    return row\n",
    "\n",
    "times = process_row_content(working_file[0])\n",
    "top_distances = process_row_content(working_file[1])\n",
    "\n",
    "n_ways_to_beat_top_multiple = 1\n",
    "\n",
    "for i, (time, top_distance) in enumerate(zip(times, top_distances)):\n",
    "    n_ways_to_beat_top = 0\n",
    "    for button_time in range(1, time + 1):\n",
    "        distance = button_time * (time - button_time)\n",
    "\n",
    "        if distance > top_distance:\n",
    "            n_ways_to_beat_top += 1\n",
    "    n_ways_to_beat_top_multiple *= n_ways_to_beat_top\n",
    "\n",
    "print(n_ways_to_beat_top_multiple)"
   ]
  },
  {
   "cell_type": "markdown",
   "metadata": {},
   "source": [
    "### Part 2"
   ]
  },
  {
   "cell_type": "code",
   "execution_count": 30,
   "metadata": {},
   "outputs": [
    {
     "name": "stdout",
     "output_type": "stream",
     "text": [
      "35349468\n"
     ]
    }
   ],
   "source": [
    "working_file = file_content\n",
    "\n",
    "def process_row_content(row):\n",
    "    row = row.split(':')[1].replace(' ', '')\n",
    "    return int(row)\n",
    "\n",
    "TIME = process_row_content(working_file[0])\n",
    "top_distance = process_row_content(working_file[1])\n",
    "\n",
    "\n",
    "def quadratic_formula(a, b, c):\n",
    "    x1 = (-b + (b ** 2 - 4 * a * c) ** 0.5) / (2 * a)\n",
    "    x2 = (-b - (b ** 2 - 4 * a * c) ** 0.5) / (2 * a)\n",
    "    return x1, x2\n",
    "\n",
    "min_button_time, max_button_time = quadratic_formula(-1, TIME, -1 * top_distance)\n",
    "min_button_time = int(np.ceil(min_button_time))\n",
    "max_button_time = int(np.floor(max_button_time))\n",
    "\n",
    "\n",
    "n_ways_to_beat_top = max_button_time - min_button_time + 1\n",
    "print(n_ways_to_beat_top)\n",
    "\n"
   ]
  }
 ],
 "metadata": {
  "kernelspec": {
   "display_name": "Python 3.8.11 ('newenv')",
   "language": "python",
   "name": "python3"
  },
  "language_info": {
   "codemirror_mode": {
    "name": "ipython",
    "version": 3
   },
   "file_extension": ".py",
   "mimetype": "text/x-python",
   "name": "python",
   "nbconvert_exporter": "python",
   "pygments_lexer": "ipython3",
   "version": "3.9.13"
  },
  "orig_nbformat": 4,
  "vscode": {
   "interpreter": {
    "hash": "db4fb2da53b463202cc29faa1dff83472033a83d3730354993520b674a604c4a"
   }
  }
 },
 "nbformat": 4,
 "nbformat_minor": 2
}
