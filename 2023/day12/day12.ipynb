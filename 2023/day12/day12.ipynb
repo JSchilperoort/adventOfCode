{
 "cells": [
  {
   "cell_type": "code",
   "execution_count": 1,
   "metadata": {},
   "outputs": [],
   "source": [
    "import pandas as pd\n",
    "import numpy as np\n",
    "import os\n",
    "import sys\n",
    "from itertools import product, permutations\n",
    "from tqdm import tqdm\n",
    "import string"
   ]
  },
  {
   "cell_type": "markdown",
   "metadata": {},
   "source": [
    "### Read the data"
   ]
  },
  {
   "cell_type": "code",
   "execution_count": 2,
   "metadata": {},
   "outputs": [],
   "source": [
    "current_path = os.getcwd()\n",
    "day = int(current_path.split('day')[1])\n",
    "\n",
    "fn = 'day' + str(day) + '.txt'\n",
    "\n",
    "file_content = open(fn).read().split('\\n')\n",
    "\n",
    "test_fn = 'day' + str(day) + 'test.txt'\n",
    "\n",
    "test_file_content = open(test_fn).read().split('\\n')"
   ]
  },
  {
   "cell_type": "markdown",
   "metadata": {},
   "source": [
    "### Part 1"
   ]
  },
  {
   "cell_type": "code",
   "execution_count": 3,
   "metadata": {},
   "outputs": [
    {
     "name": "stderr",
     "output_type": "stream",
     "text": [
      "100%|██████████| 1000/1000 [01:52<00:00,  8.92it/s]"
     ]
    },
    {
     "name": "stdout",
     "output_type": "stream",
     "text": [
      "7090\n"
     ]
    },
    {
     "name": "stderr",
     "output_type": "stream",
     "text": [
      "\n"
     ]
    }
   ],
   "source": [
    "working_file = file_content\n",
    "\n",
    "def find_n_arrangements(row):\n",
    "    characters, numbers = row.split(' ')\n",
    "    numbers = numbers.split(',')\n",
    "    numbers = [int(x) for x in numbers]\n",
    "\n",
    "    n_question_marks = characters.count('?')\n",
    "    question_mark_indices = [i for i, x in enumerate(characters) if x == '?']\n",
    "    possible_combinations = np.array(list(product([0, 1], repeat=n_question_marks)))\n",
    "\n",
    "    # replace question marks and dots with 0s, replace hashtags with 1s\n",
    "    characters = characters.replace('?', '0').replace('.', '0').replace('#', '1')\n",
    "    # convert to list\n",
    "    characters = [int(x) for x in list(characters)]\n",
    "    # convert to np array\n",
    "    characters = np.array(characters)\n",
    "\n",
    "    n_arrangements = 0\n",
    "    for combination in possible_combinations:\n",
    "        # replace the indexes in characters for which combination == 1\n",
    "        characters[question_mark_indices] = combination\n",
    "        # now in this binary np array, check the 'streaks' of 1s, so [0 0 0 1 1 0 0 1 0 1 1] becomes [2, 1, 2]\n",
    "        streaks_of_ones = np.diff(np.where(np.concatenate(([characters[0]], characters[:-1] != characters[1:], [characters[-1]])))[0])[::2]\n",
    "        # check if streaks_of_ones is the smae as numbers\n",
    "        if np.array_equal(streaks_of_ones, numbers):\n",
    "            n_arrangements += 1\n",
    "    return n_arrangements\n",
    "\n",
    "sum_of_arrangements = 0\n",
    "for row in tqdm(working_file):\n",
    "    sum_of_arrangements += find_n_arrangements(row)\n",
    "\n",
    "print(sum_of_arrangements)\n",
    "\n"
   ]
  },
  {
   "cell_type": "markdown",
   "metadata": {},
   "source": [
    "### Part 2"
   ]
  },
  {
   "cell_type": "code",
   "execution_count": 12,
   "metadata": {},
   "outputs": [
    {
     "name": "stdout",
     "output_type": "stream",
     "text": [
      "6792010726878\n"
     ]
    }
   ],
   "source": [
    "\n",
    "from functools import cache\n",
    "\n",
    "with open(\"day12.txt\") as f:\n",
    "    lines = f.read().splitlines()\n",
    "\n",
    "@cache\n",
    "def arrangements(springs, group):  \n",
    "    if not group:\n",
    "        return int(all(s != '#' for s in springs))\n",
    "    if len(springs) < sum(group):\n",
    "        return 0\n",
    "    if springs[0] == '.': \n",
    "        return arrangements(springs[1:], group)\n",
    "\n",
    "    here = (\n",
    "        arrangements(springs[(group[0] + 1):], group[1:])\n",
    "        if all(s != '.' for s in springs[:group[0]])\n",
    "        and (len(springs) > group[0] and springs[group[0]] != '#' or len(springs) <= group[0])\n",
    "        else 0\n",
    "    )\n",
    "    next = arrangements(springs[1:], group) if springs[0] == '?' else 0\n",
    "    \n",
    "    return here + next\n",
    "  \n",
    "n_arrangements = 0\n",
    "for l in lines:  \n",
    "    springs, group = l.split()[0], tuple(map(int, l.split()[1].split(',')))\n",
    "    n_arrangements += arrangements(((springs + '?') * 5)[:-1], group * 5)\n",
    "\n",
    "print(n_arrangements)\n",
    "\n",
    "    \n"
   ]
  }
 ],
 "metadata": {
  "kernelspec": {
   "display_name": "scoritoEnv",
   "language": "python",
   "name": "scoritoenv"
  },
  "language_info": {
   "codemirror_mode": {
    "name": "ipython",
    "version": 3
   },
   "file_extension": ".py",
   "mimetype": "text/x-python",
   "name": "python",
   "nbconvert_exporter": "python",
   "pygments_lexer": "ipython3",
   "version": "3.10.8"
  },
  "orig_nbformat": 4,
  "vscode": {
   "interpreter": {
    "hash": "db4fb2da53b463202cc29faa1dff83472033a83d3730354993520b674a604c4a"
   }
  }
 },
 "nbformat": 4,
 "nbformat_minor": 2
}
