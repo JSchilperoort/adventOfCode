{
 "cells": [
  {
   "cell_type": "code",
   "execution_count": 159,
   "metadata": {},
   "outputs": [],
   "source": [
    "import pandas as pd\n",
    "import numpy as np\n",
    "import os\n",
    "import sys\n",
    "\n",
    "import re\n",
    "from sympy.logic.boolalg import to_cnf\n",
    "from sympy.parsing.sympy_parser import parse_expr\n",
    "from sympy import Symbol\n",
    "import sympy\n",
    "import z3"
   ]
  },
  {
   "cell_type": "markdown",
   "metadata": {},
   "source": [
    "### Read the data"
   ]
  },
  {
   "cell_type": "code",
   "execution_count": 5,
   "metadata": {},
   "outputs": [],
   "source": [
    "current_path = os.getcwd()\n",
    "day = int(current_path.split('day')[1])\n",
    "\n",
    "fn = 'day' + str(day) + '.txt'\n",
    "\n",
    "file_content = open(fn).read().split('\\n')\n",
    "\n",
    "test_fn = 'day' + str(day) + 'test.txt'\n",
    "\n",
    "test_file_content = open(test_fn).read().split('\\n')"
   ]
  },
  {
   "cell_type": "markdown",
   "metadata": {},
   "source": [
    "### Part 1"
   ]
  },
  {
   "cell_type": "code",
   "execution_count": 43,
   "metadata": {},
   "outputs": [],
   "source": [
    "\n",
    "def part_accepted(workflow_dict, workflow_name, part):\n",
    "    if workflow_name == 'A':\n",
    "        return True\n",
    "    elif workflow_name == 'R':\n",
    "        return False\n",
    "\n",
    "    x, m, a, s = part\n",
    "    workflow = workflow_dict[workflow_name]\n",
    "    for workflow_step in workflow[:-1]:\n",
    "        if workflow_step[0] == 'x':\t\n",
    "            if workflow_step[1] == '<':\n",
    "                if x < int(workflow_step.split(':')[0][2:]):\n",
    "                    return part_accepted(workflow_dict, workflow_step.split(':')[1], part)\n",
    "                else:\n",
    "                    continue\n",
    "            elif workflow_step[1] == '>':\n",
    "                if x > int(workflow_step.split(':')[0][2:]):\n",
    "                    return part_accepted(workflow_dict, workflow_step.split(':')[1], part)\n",
    "                else:\n",
    "                    continue\n",
    "        if workflow_step[0] == 'm':\n",
    "            if workflow_step[1] == '<':\n",
    "                if m < int(workflow_step.split(':')[0][2:]):\n",
    "                    return part_accepted(workflow_dict, workflow_step.split(':')[1], part)\n",
    "                else:\n",
    "                    continue\n",
    "            elif workflow_step[1] == '>':\n",
    "                if m > int(workflow_step.split(':')[0][2:]):\n",
    "                    return part_accepted(workflow_dict, workflow_step.split(':')[1], part)\n",
    "                else:\n",
    "                    continue\n",
    "        if workflow_step[0] == 'a':\n",
    "            if workflow_step[1] == '<':\n",
    "                if a < int(workflow_step.split(':')[0][2:]):\n",
    "                    return part_accepted(workflow_dict, workflow_step.split(':')[1], part)\n",
    "                else:\n",
    "                    continue\n",
    "            elif workflow_step[1] == '>':\n",
    "                if a > int(workflow_step.split(':')[0][2:]):\n",
    "                    return part_accepted(workflow_dict, workflow_step.split(':')[1], part)\n",
    "                else:\n",
    "                    continue\n",
    "        if workflow_step[0] == 's':\n",
    "            if workflow_step[1] == '<':\n",
    "                if s < int(workflow_step.split(':')[0][2:]):\n",
    "                    return part_accepted(workflow_dict, workflow_step.split(':')[1], part)\n",
    "                else:\n",
    "                    continue\n",
    "            elif workflow_step[1] == '>':\n",
    "                if s > int(workflow_step.split(':')[0][2:]):\n",
    "                    return part_accepted(workflow_dict, workflow_step.split(':')[1], part)\n",
    "                else:\n",
    "                    continue\n",
    "    return part_accepted(workflow_dict, workflow[-1], part)"
   ]
  },
  {
   "cell_type": "code",
   "execution_count": 48,
   "metadata": {},
   "outputs": [
    {
     "name": "stdout",
     "output_type": "stream",
     "text": [
      "456651\n"
     ]
    }
   ],
   "source": [
    "working_file = file_content\n",
    "\n",
    "empty_line_index = working_file.index('')\n",
    "\n",
    "workflows = working_file[:empty_line_index]\n",
    "part_ratings = working_file[empty_line_index+1:]\n",
    "\n",
    "workflow_dict = {}\n",
    "for workflow in workflows:\n",
    "    workflow_dict[workflow.split('{')[0]] = workflow.split('{')[1][:-1].split(',')\n",
    "\n",
    "part_ratings = [x.replace('{','').replace('}','').split(',') for x in part_ratings]\n",
    "part_ratings = [[int(x[2:]), int(m[2:]), int(a[2:]), int(s[2:])] for x, m, a, s in part_ratings]\n",
    "\n",
    "sum_of_accepted = 0\n",
    "for part in part_ratings:\n",
    "    if part_accepted(workflow_dict, 'in', part):\n",
    "        sum_of_accepted += sum(part)\n",
    "print(sum_of_accepted)"
   ]
  },
  {
   "cell_type": "markdown",
   "metadata": {},
   "source": [
    "### Part 2"
   ]
  },
  {
   "cell_type": "code",
   "execution_count": 187,
   "metadata": {},
   "outputs": [
    {
     "name": "stdout",
     "output_type": "stream",
     "text": [
      "131899818301477\n"
     ]
    }
   ],
   "source": [
    "import re\n",
    "ll = [x for x in open('day19.txt').read().strip().split('\\n\\n')]\n",
    "workflow, parts = ll\n",
    "\n",
    "def ints(s):\n",
    "\treturn list(map(int, re.findall(r'\\d+', s)))\n",
    "\n",
    "parts = [ints(l) for l in parts.split(\"\\n\")]\n",
    "workflow = {l.split(\"{\")[0]: l.split(\"{\")[1][:-1] for l in workflow.split(\"\\n\")}\n",
    "\n",
    "def both(ch, gt, val, ranges):\n",
    "\tch = 'xmas'.index(ch)\n",
    "\tranges2 = []\n",
    "\tfor rng in ranges:\n",
    "\t\trng = list(rng)\n",
    "\t\tlo, hi = rng[ch]\n",
    "\t\tif gt:\n",
    "\t\t\tlo = max(lo, val + 1)\n",
    "\t\telse:\n",
    "\t\t\thi = min(hi, val - 1)\n",
    "\t\tif lo > hi:\n",
    "\t\t\tcontinue\n",
    "\t\trng[ch] = (lo, hi)\n",
    "\t\tranges2.append(tuple(rng))\n",
    "\treturn ranges2\n",
    "\n",
    "\n",
    "def acceptance_ranges_outer(work):\n",
    "\treturn acceptance_ranges_inner(workflow[work].split(\",\"))\n",
    "\n",
    "def acceptance_ranges_inner(w):\n",
    "\tit = w[0]\n",
    "\tif it == \"R\":\n",
    "\t\treturn []\n",
    "\tif it == \"A\":\n",
    "\t\treturn [((1, 4000), (1, 4000), (1, 4000), (1, 4000))]\n",
    "\tif \":\" not in it:\n",
    "\t\treturn acceptance_ranges_outer(it)\n",
    "\tcond = it.split(\":\")[0]\n",
    "\tgt = \">\" in cond\n",
    "\tch = cond[0]\n",
    "\tval = int(cond[2:])\n",
    "\tval_inverted = val + 1 if gt else val - 1\n",
    "\tif_cond_is_true = both(ch, gt, val, acceptance_ranges_inner([it.split(\":\")[1]]))\n",
    "\tif_cond_is_false = both(ch, not gt, val_inverted, acceptance_ranges_inner(w[1:]))\n",
    "\treturn if_cond_is_true + if_cond_is_false\n",
    "\n",
    "p2 = 0\n",
    "for rng in acceptance_ranges_outer('in'):\n",
    "\tv = 1\n",
    "\tfor lo, hi in rng:\n",
    "\t\tv *= hi - lo + 1\n",
    "\tp2 += v\n",
    "print(p2)"
   ]
  }
 ],
 "metadata": {
  "kernelspec": {
   "display_name": "scoritoEnv",
   "language": "python",
   "name": "scoritoenv"
  },
  "language_info": {
   "codemirror_mode": {
    "name": "ipython",
    "version": 3
   },
   "file_extension": ".py",
   "mimetype": "text/x-python",
   "name": "python",
   "nbconvert_exporter": "python",
   "pygments_lexer": "ipython3",
   "version": "3.10.8"
  },
  "orig_nbformat": 4,
  "vscode": {
   "interpreter": {
    "hash": "db4fb2da53b463202cc29faa1dff83472033a83d3730354993520b674a604c4a"
   }
  }
 },
 "nbformat": 4,
 "nbformat_minor": 2
}
