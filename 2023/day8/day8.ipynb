{
 "cells": [
  {
   "cell_type": "code",
   "execution_count": 4,
   "metadata": {},
   "outputs": [],
   "source": [
    "import pandas as pd\n",
    "import numpy as np\n",
    "import os\n",
    "import sys"
   ]
  },
  {
   "cell_type": "markdown",
   "metadata": {},
   "source": [
    "### Read the data"
   ]
  },
  {
   "cell_type": "code",
   "execution_count": 5,
   "metadata": {},
   "outputs": [],
   "source": [
    "current_path = os.getcwd()\n",
    "day = int(current_path.split('day')[1])\n",
    "\n",
    "fn = 'day' + str(day) + '.txt'\n",
    "\n",
    "file_content = open(fn).read().split('\\n')\n",
    "\n",
    "test_fn = 'day' + str(day) + 'test.txt'\n",
    "\n",
    "test_file_content = open(test_fn).read().split('\\n')\n",
    "\n",
    "test_fn2 = 'day' + str(day) + 'test2.txt'\n",
    "\n",
    "test_file_content2 = open(test_fn2).read().split('\\n')"
   ]
  },
  {
   "cell_type": "markdown",
   "metadata": {},
   "source": [
    "### Part 1"
   ]
  },
  {
   "cell_type": "code",
   "execution_count": 6,
   "metadata": {},
   "outputs": [
    {
     "name": "stdout",
     "output_type": "stream",
     "text": [
      "19631\n"
     ]
    }
   ],
   "source": [
    "working_file = file_content\n",
    "instructions = working_file[0]\n",
    "# make a list of the characters\n",
    "instructions = list(instructions.replace('L', '0').replace('R', '1'))\n",
    "instructions = [int(x) for x in instructions]\n",
    "\n",
    "nodes = working_file[2:]\n",
    "nodes = [x.split(' = ') for x in nodes]\n",
    "\n",
    "# nodes is of form ['a', '(b, c')], create a dictionary such that {'a': ['b', 'c']}\n",
    "nodes_dict = {}\n",
    "for node in nodes:\n",
    "    nodes_dict[node[0]] = node[1].replace('(', '').replace(')', '').split(', ')\n",
    "\n",
    "i = 0\n",
    "node = 'AAA'\n",
    "while True:\n",
    "    instruction = instructions[i % len(instructions)]\n",
    "    node = nodes_dict[node][instruction]\n",
    "\n",
    "    i += 1\n",
    "    if node == 'ZZZ':\n",
    "        break\n",
    "\n",
    "\n",
    "print(i)\n",
    "\n"
   ]
  },
  {
   "cell_type": "markdown",
   "metadata": {},
   "source": [
    "### Part 2"
   ]
  },
  {
   "cell_type": "code",
   "execution_count": 22,
   "metadata": {},
   "outputs": [
    {
     "name": "stdout",
     "output_type": "stream",
     "text": [
      "[20803, 17873, 23147, 15529, 17287, 19631]\n",
      "21003205388413\n"
     ]
    }
   ],
   "source": [
    "working_file = file_content\n",
    "instructions = working_file[0]\n",
    "# make a list of the characters\n",
    "instructions = list(instructions.replace('L', '0').replace('R', '1'))\n",
    "instructions = [int(x) for x in instructions]\n",
    "\n",
    "nodes = working_file[2:]\n",
    "nodes = [x.split(' = ') for x in nodes]\n",
    "\n",
    "# nodes is of form ['a', '(b, c')], create a dictionary such that {'a': ['b', 'c']}\n",
    "nodes_dict = {}\n",
    "for node in nodes:\n",
    "    nodes_dict[node[0]] = node[1].replace('(', '').replace(')', '').split(', ')\n",
    "\n",
    "\n",
    "nodes = [x for x in nodes_dict.keys() if x.endswith('A')]\n",
    "solutions = list()\n",
    "for j, node in enumerate(nodes):\n",
    "    i = 0\n",
    "    while True:\n",
    "        instruction = instructions[i % len(instructions)]\n",
    "        node = nodes_dict[node][instruction]\n",
    "\n",
    "        i += 1\n",
    "        if node.endswith('Z'):\n",
    "            break\n",
    "\n",
    "\n",
    "    solutions.append(i)\n",
    "# find the smallest number that is divisible by all solutions (and is greater than 0)\n",
    "# this is the least common multiple\n",
    "lcm = np.lcm.reduce(solutions, dtype=np.int64)\n",
    "print(lcm)\n"
   ]
  }
 ],
 "metadata": {
  "kernelspec": {
   "display_name": "Python 3.8.11 ('newenv')",
   "language": "python",
   "name": "python3"
  },
  "language_info": {
   "codemirror_mode": {
    "name": "ipython",
    "version": 3
   },
   "file_extension": ".py",
   "mimetype": "text/x-python",
   "name": "python",
   "nbconvert_exporter": "python",
   "pygments_lexer": "ipython3",
   "version": "3.9.13"
  },
  "orig_nbformat": 4,
  "vscode": {
   "interpreter": {
    "hash": "db4fb2da53b463202cc29faa1dff83472033a83d3730354993520b674a604c4a"
   }
  }
 },
 "nbformat": 4,
 "nbformat_minor": 2
}
