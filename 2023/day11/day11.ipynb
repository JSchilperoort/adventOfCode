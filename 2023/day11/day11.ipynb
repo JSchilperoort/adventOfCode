{
 "cells": [
  {
   "cell_type": "code",
   "execution_count": 41,
   "metadata": {},
   "outputs": [],
   "source": [
    "import pandas as pd\n",
    "import numpy as np\n",
    "import os\n",
    "import sys"
   ]
  },
  {
   "cell_type": "markdown",
   "metadata": {},
   "source": [
    "### Read the data"
   ]
  },
  {
   "cell_type": "code",
   "execution_count": 42,
   "metadata": {},
   "outputs": [],
   "source": [
    "current_path = os.getcwd()\n",
    "day = int(current_path.split('day')[1])\n",
    "\n",
    "fn = 'day' + str(day) + '.txt'\n",
    "\n",
    "file_content = open(fn).read().split('\\n')\n",
    "\n",
    "test_fn = 'day' + str(day) + 'test.txt'\n",
    "\n",
    "test_file_content = open(test_fn).read().split('\\n')"
   ]
  },
  {
   "cell_type": "markdown",
   "metadata": {},
   "source": [
    "### Part 1"
   ]
  },
  {
   "cell_type": "code",
   "execution_count": 43,
   "metadata": {},
   "outputs": [],
   "source": [
    "def display_int_grid(grid):\n",
    "    # grid is an nd array with 1s and 0s, display it with '.' for 0 and '#' for 1\n",
    "    for row in grid:\n",
    "        for col in row:\n",
    "            if col == 0:\n",
    "                print('.', end='')\n",
    "            else:\n",
    "                print('#', end='')\n",
    "        print('')\n",
    "\n",
    "\n",
    "def char_grid_to_int_grid(char_grid):\n",
    "    # convert to a numpy array where '.' is 0 and '#' is 1\n",
    "    int_grid = np.array([list(x.replace('.', '0').replace('#', '1')) for x in char_grid])\n",
    "    # convert to int\n",
    "    int_grid = int_grid.astype(int)\n",
    "\n",
    "    # the first 1 stays 1, the second 1 becomes 2, etc.\n",
    "    # get the unique values in the grid\n",
    "    unique_vals = np.unique(int_grid)\n",
    "    # for each unique value\n",
    "    for unique_val in unique_vals:\n",
    "        # if it's not 0\n",
    "        if unique_val != 0:\n",
    "            # replace it with its index\n",
    "            int_grid[int_grid == unique_val] = np.where(unique_vals == unique_val)[0][0]\n",
    "\n",
    "    return int_grid\n",
    "\n",
    "def expand_grid(grid):\n",
    "    # add columns\n",
    "    # get the sum of each column\n",
    "    col_sums = np.sum(grid, axis=0)\n",
    "    # get the indices of the columns that sum to zero\n",
    "    zero_col_indices = np.where(col_sums == 0)[0]\n",
    "\n",
    "    # add columns\n",
    "    # if there are columns that sum to zero\n",
    "    while len(zero_col_indices) > 0:\n",
    "        # insert a column of zeros at that index\n",
    "        # get the lowest index\n",
    "        zero_col_index = min(zero_col_indices)\n",
    "        grid = np.insert(grid, zero_col_index, 0, axis=1)\n",
    "        # drop the index from the list\n",
    "        zero_col_indices = np.delete(zero_col_indices, np.where(zero_col_indices == zero_col_index)[0][0])\n",
    "\n",
    "        if len(zero_col_indices) > 0:\n",
    "            # add 1 to all the indices that are higher than the one we just added\n",
    "            zero_col_indices = zero_col_indices + 1\n",
    "        \n",
    "    # add rows\n",
    "    # get the sum of each row\n",
    "    row_sums = np.sum(grid, axis=1)\n",
    "    # get the indices of the rows that sum to zero\n",
    "    zero_row_indices = np.where(row_sums == 0)[0]\n",
    "\n",
    "    # add rows\n",
    "    # if there are rows that sum to zero\n",
    "    while len(zero_row_indices) > 0:\n",
    "        # for each row that sums to zero\n",
    "        zero_row_index = min(zero_row_indices)\n",
    "        # insert a row of zeros at that index\n",
    "        grid = np.insert(grid, zero_row_index, 0, axis=0)\n",
    "\n",
    "        # drop the index from the list\n",
    "        zero_row_indices = np.delete(zero_row_indices, np.where(zero_row_indices == zero_row_index)[0][0])\n",
    "\n",
    "        if len(zero_row_indices) > 0:\n",
    "            # add 1 to all the indices that are higher than the one we just added\n",
    "            zero_row_indices = zero_row_indices + 1\n",
    "    \n",
    "    return grid\n",
    "\n",
    "\n",
    "def manhattan_distance(point1, point2):\n",
    "    # point1 and point2 are tuples of the form (y, x)\n",
    "    return abs(point1[0] - point2[0]) + abs(point1[1] - point2[1])\n",
    "\n",
    "\n",
    "def get_sum_of_distances(grid):\n",
    "    working_grid = grid.copy()\n",
    "\n",
    "    # vind the first 1 in the grid\n",
    "    all_ones = np.where(working_grid == 1)\n",
    "    all_ones = list(zip(all_ones[0], all_ones[1]))\n",
    "    \n",
    "    distances = list()\n",
    "    for i, one in enumerate(all_ones):\n",
    "        # only look at the ones after this one\n",
    "        for j, other_one in enumerate(all_ones[i+1:]):\n",
    "            distance = manhattan_distance(one, other_one)\n",
    "            distances.append(distance)\n",
    "    return sum(distances)"
   ]
  },
  {
   "cell_type": "code",
   "execution_count": 44,
   "metadata": {},
   "outputs": [
    {
     "name": "stdout",
     "output_type": "stream",
     "text": [
      "374\n"
     ]
    }
   ],
   "source": [
    "working_file = test_file_content\n",
    "\n",
    "grid = char_grid_to_int_grid(working_file)\n",
    "grid = expand_grid(grid)\n",
    "sum_of_distances = get_sum_of_distances(grid)\n",
    "\n",
    "print(sum_of_distances)"
   ]
  },
  {
   "cell_type": "markdown",
   "metadata": {},
   "source": [
    "### Part 2"
   ]
  },
  {
   "cell_type": "code",
   "execution_count": 56,
   "metadata": {},
   "outputs": [
    {
     "name": "stdout",
     "output_type": "stream",
     "text": [
      "544723432977\n"
     ]
    }
   ],
   "source": [
    "def get_sum_of_distances_empty(grid, n_times_empty=1):\n",
    "    working_grid = grid.copy()\n",
    "\n",
    "    empty_columns = np.where(np.sum(working_grid, axis=0) == 0)[0]\n",
    "    empty_rows = np.where(np.sum(working_grid, axis=1) == 0)[0]\n",
    "\n",
    "    # vind the first 1 in the grid\n",
    "    all_ones = np.where(working_grid == 1)\n",
    "    all_ones = list(zip(all_ones[0], all_ones[1]))\n",
    "    \n",
    "    distances = list()\n",
    "    for i, one in enumerate(all_ones):\n",
    "        # only look at the ones after this one\n",
    "        for j, other_one in enumerate(all_ones[i+1:]):\n",
    "            distance = manhattan_distance(one, other_one)\n",
    "            # count the number of empty columns between the two points\n",
    "            empty_columns_between = len([x for x in empty_columns if (x > one[1] and x < other_one[1]) or (x > other_one[1] and x < one[1])])\n",
    "            # count the number of empty rows between the two points\n",
    "            empty_rows_between = len([x for x in empty_rows if (x > one[0] and x < other_one[0]) or (x > other_one[0] and x < one[0])])\n",
    "            distance = distance + (n_times_empty-1) * (empty_columns_between + empty_rows_between)\n",
    "            distances.append(distance)\n",
    "    return sum(distances)\n",
    "\n",
    "\n",
    "working_file = file_content\n",
    "grid = char_grid_to_int_grid(working_file)\n",
    "\n",
    "sum_of_distances = get_sum_of_distances_empty(grid, n_times_empty=1000000)\n",
    "\n",
    "print(sum_of_distances)"
   ]
  }
 ],
 "metadata": {
  "kernelspec": {
   "display_name": "Python 3.8.11 ('newenv')",
   "language": "python",
   "name": "python3"
  },
  "language_info": {
   "codemirror_mode": {
    "name": "ipython",
    "version": 3
   },
   "file_extension": ".py",
   "mimetype": "text/x-python",
   "name": "python",
   "nbconvert_exporter": "python",
   "pygments_lexer": "ipython3",
   "version": "3.9.13"
  },
  "orig_nbformat": 4,
  "vscode": {
   "interpreter": {
    "hash": "db4fb2da53b463202cc29faa1dff83472033a83d3730354993520b674a604c4a"
   }
  }
 },
 "nbformat": 4,
 "nbformat_minor": 2
}
