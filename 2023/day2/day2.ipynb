{
 "cells": [
  {
   "cell_type": "code",
   "execution_count": 4,
   "metadata": {},
   "outputs": [],
   "source": [
    "import pandas as pd\n",
    "import numpy as np\n",
    "import os\n",
    "import sys"
   ]
  },
  {
   "cell_type": "markdown",
   "metadata": {},
   "source": [
    "### Read the data"
   ]
  },
  {
   "cell_type": "code",
   "execution_count": 5,
   "metadata": {},
   "outputs": [],
   "source": [
    "current_path = os.getcwd()\n",
    "day = int(current_path.split('day')[1])\n",
    "\n",
    "fn = 'day' + str(day) + '.txt'\n",
    "\n",
    "file_content = open(fn).read().split('\\n')\n",
    "\n",
    "test_fn = 'day' + str(day) + 'test.txt'\n",
    "\n",
    "test_file_content = open(test_fn).read().split('\\n')"
   ]
  },
  {
   "cell_type": "markdown",
   "metadata": {},
   "source": [
    "### Part 1"
   ]
  },
  {
   "cell_type": "code",
   "execution_count": 27,
   "metadata": {},
   "outputs": [
    {
     "name": "stdout",
     "output_type": "stream",
     "text": [
      "2810\n"
     ]
    }
   ],
   "source": [
    "bag_content = {'red': 12, 'green': 13, 'blue': 14}\n",
    "sum_success_ids = 0\n",
    "for row in file_content:\n",
    "    failure = False\n",
    "    id = int(row.split(':')[0][5:])\n",
    "    content = row.split(': ')[1].split('; ')\n",
    "    for cube_set in content:\n",
    "        cube_subsets = cube_set.split(', ')\n",
    "        for cube_subset in cube_subsets:\n",
    "            n = int(cube_subset.split(' ')[0])\n",
    "            color = cube_subset.split(' ')[1]\n",
    "            if bag_content[color] < n:\n",
    "                failure = True\n",
    "                break\n",
    "        if failure:\n",
    "            break\n",
    "    if not failure:\n",
    "        sum_success_ids += id\n",
    "print(sum_success_ids)"
   ]
  },
  {
   "cell_type": "markdown",
   "metadata": {},
   "source": [
    "### Part 2"
   ]
  },
  {
   "cell_type": "code",
   "execution_count": 37,
   "metadata": {},
   "outputs": [
    {
     "name": "stdout",
     "output_type": "stream",
     "text": [
      "69110\n"
     ]
    }
   ],
   "source": [
    "sum_of_powers = 0\n",
    "for row in file_content:\n",
    "    failure = False\n",
    "    id = int(row.split(':')[0][5:])\n",
    "    content = row.split(': ')[1].split('; ')\n",
    "    fewest_n_cubes = {'red': 0, 'green': 0, 'blue': 0}\n",
    "    for cube_set in content:\n",
    "        cube_subsets = cube_set.split(', ')\n",
    "        for cube_subset in cube_subsets:\n",
    "            n = int(cube_subset.split(' ')[0])\n",
    "            color = cube_subset.split(' ')[1]\n",
    "            if n > fewest_n_cubes[color]:\n",
    "                fewest_n_cubes[color] = n\n",
    "    sum_of_powers += np.prod(list(fewest_n_cubes.values()))\n",
    "\n",
    "print(sum_of_powers)    "
   ]
  }
 ],
 "metadata": {
  "kernelspec": {
   "display_name": "Python 3.8.11 ('newenv')",
   "language": "python",
   "name": "python3"
  },
  "language_info": {
   "codemirror_mode": {
    "name": "ipython",
    "version": 3
   },
   "file_extension": ".py",
   "mimetype": "text/x-python",
   "name": "python",
   "nbconvert_exporter": "python",
   "pygments_lexer": "ipython3",
   "version": "3.9.13"
  },
  "orig_nbformat": 4,
  "vscode": {
   "interpreter": {
    "hash": "db4fb2da53b463202cc29faa1dff83472033a83d3730354993520b674a604c4a"
   }
  }
 },
 "nbformat": 4,
 "nbformat_minor": 2
}
