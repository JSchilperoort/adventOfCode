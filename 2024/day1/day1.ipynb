{
 "cells": [
  {
   "cell_type": "markdown",
   "id": "7f2c852d",
   "metadata": {},
   "source": [
    "# Advent of Code 2024 - Day 1"
   ]
  },
  {
   "cell_type": "code",
   "execution_count": null,
   "id": "5a29f8b5",
   "metadata": {},
   "outputs": [],
   "source": [
    "import os\n",
    "import numpy as np\n",
    "import pandas as pd"
   ]
  },
  {
   "cell_type": "code",
   "execution_count": null,
   "id": "35d2fc1b",
   "metadata": {},
   "outputs": [],
   "source": [
    "# Load input data\n",
    "input_file = os.path.join(\"/home/jits/adventOfCode/2024/day1\", \"day1.txt\")\n",
    "with open(input_file, \"r\") as file:\n",
    "    data = file.read().strip()\n",
    "test_input_file = os.path.join(\"/home/jits/adventOfCode/2024/day1\", \"day1test.txt\")\n",
    "with open(test_input_file, \"r\") as test_file:\n",
    "    test_data = test_file.read().strip()\n",
    "\n",
    "# Example usage\n",
    "print(test_data)  # Print the test data"
   ]
  },
  {
   "cell_type": "markdown",
   "id": "698aaebb",
   "metadata": {},
   "source": [
    "## Process Input"
   ]
  },
  {
   "cell_type": "code",
   "execution_count": null,
   "id": "82ce46bd",
   "metadata": {},
   "outputs": [],
   "source": [
    "# Process the input data\n",
    "def process_input(data):\n",
    "    clean_input = data.split(\"\\n\")  # Split the test data by new line\n",
    "    # each line is a string of an integer, any number of spaces, and another integer\n",
    "    clean_input = [x.split('   ') for x in clean_input]  # Split each line by spaces\n",
    "    clean_input = [[int(x) for x in y] for y in clean_input]  # Convert each string to an integer\n",
    "\n",
    "    row_1 = [x[0] for x in clean_input]  # Get the first number in each line\n",
    "    row_2 = [x[1] for x in clean_input]  # Get the second number in each line\n",
    "    \n",
    "    return row_1, row_2\n",
    "row1, row2 = process_input(test_data)\n",
    "print(row1, row2)\n"
   ]
  },
  {
   "cell_type": "markdown",
   "id": "011facee",
   "metadata": {},
   "source": [
    "## Part 1"
   ]
  },
  {
   "cell_type": "code",
   "execution_count": null,
   "id": "3456ec27",
   "metadata": {},
   "outputs": [],
   "source": [
    "row_1, row_2 = process_input(data)  # Process the input data\n",
    "# sort both rows\n",
    "row_1.sort()\n",
    "row_2.sort()\n",
    "\n",
    "diff = sum([abs(x - y) for x, y in zip(row_1, row_2)])  # Get the difference between the two rows\n",
    "diff\n"
   ]
  },
  {
   "cell_type": "markdown",
   "id": "23832275",
   "metadata": {},
   "source": [
    "## Part 2"
   ]
  },
  {
   "cell_type": "code",
   "execution_count": null,
   "id": "359528ec",
   "metadata": {},
   "outputs": [],
   "source": [
    "row_1, row_2 = process_input(data)  # Process the input data\n",
    "running_sum = 0\n",
    "for item in row_1:\n",
    "    # count the number of times the item appears in row_2\n",
    "    count = row_2.count(item)\n",
    "    running_sum += count * item  # Multiply the count by the item and add it to the running sum\n",
    "\n",
    "running_sum"
   ]
  }
 ],
 "metadata": {
  "kernelspec": {
   "display_name": ".venv",
   "language": "python",
   "name": "python3"
  },
  "language_info": {
   "codemirror_mode": {
    "name": "ipython",
    "version": 3
   },
   "file_extension": ".py",
   "mimetype": "text/x-python",
   "name": "python",
   "nbconvert_exporter": "python",
   "pygments_lexer": "ipython3",
   "version": "3.12.3"
  }
 },
 "nbformat": 4,
 "nbformat_minor": 5
}
