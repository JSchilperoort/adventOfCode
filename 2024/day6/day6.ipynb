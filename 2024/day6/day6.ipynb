{
 "cells": [
  {
   "cell_type": "markdown",
   "id": "5cbb67d1",
   "metadata": {},
   "source": [
    "# Advent of Code 2024 - Day 6"
   ]
  },
  {
   "cell_type": "code",
   "execution_count": 18,
   "id": "93b70d84",
   "metadata": {},
   "outputs": [],
   "source": [
    "import os\n",
    "import numpy as np\n",
    "import pandas as pd\n",
    "from tqdm import tqdm\n",
    "from pydantic import BaseModel, field_validator"
   ]
  },
  {
   "cell_type": "code",
   "execution_count": 2,
   "id": "65827a68",
   "metadata": {},
   "outputs": [
    {
     "name": "stdout",
     "output_type": "stream",
     "text": [
      "....#.....\n",
      ".........#\n",
      "..........\n",
      "..#.......\n",
      ".......#..\n",
      "..........\n",
      ".#..^.....\n",
      "........#.\n",
      "#.........\n",
      "......#...\n"
     ]
    }
   ],
   "source": [
    "# Load input data\n",
    "input_file = os.path.join(\"/home/jits/adventOfCode/2024/day6\", \"day6.txt\")\n",
    "with open(input_file, \"r\") as file:\n",
    "    data = file.read().strip()\n",
    "test_input_file = os.path.join(\"/home/jits/adventOfCode/2024/day6\", \"day6test.txt\")\n",
    "with open(test_input_file, \"r\") as test_file:\n",
    "    test_data = test_file.read().strip()\n",
    "\n",
    "# Example usage\n",
    "print(test_data)  # Print the test data"
   ]
  },
  {
   "cell_type": "markdown",
   "id": "fead6bbf",
   "metadata": {},
   "source": [
    "## Process Input"
   ]
  },
  {
   "cell_type": "code",
   "execution_count": 3,
   "id": "eec06261",
   "metadata": {},
   "outputs": [
    {
     "name": "stdout",
     "output_type": "stream",
     "text": [
      "['....#.....', '.........#', '..........', '..#.......', '.......#..', '..........', '.#..^.....', '........#.', '#.........', '......#...']\n"
     ]
    }
   ],
   "source": [
    "# Process the input data\n",
    "def process_input(data):\n",
    "    return data.split(\"\\n\")\n",
    "processed_data = process_input(test_data)\n",
    "print(processed_data)\n"
   ]
  },
  {
   "cell_type": "markdown",
   "id": "27e46c46",
   "metadata": {},
   "source": [
    "## Part 1"
   ]
  },
  {
   "cell_type": "code",
   "execution_count": 4,
   "id": "167df222",
   "metadata": {},
   "outputs": [],
   "source": [
    "class Position(BaseModel):\n",
    "    x: int\n",
    "    y: int\n",
    "    direction: str\n",
    "\n",
    "    @field_validator('direction')\n",
    "    def validate_direction(cls, v):\n",
    "        allowed_directions = {'up', 'right', 'down', 'left'}\n",
    "        if v not in allowed_directions:\n",
    "            raise ValueError(f\"Invalid direction: {v}\")\n",
    "        return v\n",
    "    \n",
    "    def turn_right(self):\n",
    "        if self.direction == 'up':\n",
    "            return Position(x=self.x, y=self.y, direction='right')\n",
    "        if self.direction == 'right':\n",
    "            return Position(x=self.x, y=self.y, direction='down')\n",
    "        if self.direction == 'down':\n",
    "            return Position(x=self.x, y=self.y, direction='left')\n",
    "        if self.direction == 'left':\n",
    "            return Position(x=self.x, y=self.y, direction='up')\n",
    "\n",
    "    def move(self, maze):\n",
    "        \"\"\"\n",
    "        Move the position in the maze\n",
    "        :param maze: list of strings\n",
    "        :return: new position, has_finished\n",
    "        \"\"\"\n",
    "        if self.direction == 'up':\n",
    "            # check if can move up\n",
    "            if self.y == 0:\n",
    "                return None, True\n",
    "            elif maze[self.y - 1][self.x] == '#':\n",
    "                # can't move up, turn right\n",
    "                return self.turn_right(), False\n",
    "            else:\n",
    "                return Position(x=self.x, y=self.y - 1, direction='up'), False\n",
    "        if self.direction == 'right':\n",
    "            # check if can move right\n",
    "            if self.x == len(maze[self.y]) - 1:\n",
    "                return None, True\n",
    "            elif maze[self.y][self.x + 1] == '#':\n",
    "                # can't move right, turn right\n",
    "                return self.turn_right(), False\n",
    "            else:\n",
    "                return Position(x=self.x + 1, y=self.y, direction='right'), False\n",
    "        if self.direction == 'down':\n",
    "            # check if can move down\n",
    "            if self.y == len(maze) - 1:\n",
    "                return None, True\n",
    "            elif maze[self.y + 1][self.x] == '#':\n",
    "                # can't move down, turn right\n",
    "                return self.turn_right(), False\n",
    "            else:\n",
    "                return Position(x=self.x, y=self.y + 1, direction='down'), False\n",
    "        if self.direction == 'left':\n",
    "            # check if can move left\n",
    "            if self.x == 0:\n",
    "                return None, True\n",
    "            elif maze[self.y][self.x - 1] == '#':\n",
    "                # can't move left, turn right\n",
    "                return self.turn_right(), False\n",
    "            else:\n",
    "                return Position(x=self.x - 1, y=self.y, direction='left'), False\n",
    "\n",
    "    def __hash__(self):\n",
    "        return hash((self.x, self.y, self.direction))\n",
    "\n",
    "    def __eq__(self, other):\n",
    "        return (self.x, self.y, self.direction) == (other.x, other.y, other.direction)\n",
    "\n",
    "    def __repr__(self):\n",
    "        return f\"({self.x}, {self.y}, {self.direction})\"\n",
    "    \n",
    "def count_distinct_positions(positions):\n",
    "    positions_without_direction = {(p.x, p.y) for p in positions}\n",
    "    return len(positions_without_direction)\n",
    "\n",
    "\n",
    "def get_start_pos(maze):\n",
    "    for y, row in enumerate(maze):\n",
    "        if '^' in row:\n",
    "            x = row.index('^')\n",
    "            return Position(x=x, y=y, direction='up')\n",
    "        elif 'v' in row:\n",
    "            x = row.index('v')\n",
    "            return Position(x=x, y=y, direction='down')\n",
    "        elif '<' in row:\n",
    "            x = row.index('<')\n",
    "            return Position(x=x, y=y, direction='left')\n",
    "        elif '>' in row:\n",
    "            x = row.index('>')\n",
    "            return Position(x=x, y=y, direction='right')\n"
   ]
  },
  {
   "cell_type": "code",
   "execution_count": null,
   "id": "5177c718",
   "metadata": {},
   "outputs": [
    {
     "name": "stdout",
     "output_type": "stream",
     "text": [
      "4454\n"
     ]
    }
   ],
   "source": [
    "maze = process_input(data)\n",
    "\n",
    "start_pos = get_start_pos(maze)\n",
    "\n",
    "visited = [start_pos]\n",
    "\n",
    "current_pos = start_pos\n",
    "while True:\n",
    "    next_pos, finished = current_pos.move(maze)\n",
    "    if finished:\n",
    "        break\n",
    "    visited.append(next_pos)\n",
    "    current_pos = next_pos\n",
    "\n",
    "print(count_distinct_positions(visited))\n"
   ]
  },
  {
   "cell_type": "markdown",
   "id": "a21ca2d7",
   "metadata": {},
   "source": [
    "## Part 2"
   ]
  },
  {
   "cell_type": "code",
   "execution_count": 20,
   "id": "9d923f95",
   "metadata": {},
   "outputs": [
    {
     "name": "stderr",
     "output_type": "stream",
     "text": [
      "  1%|          | 1/130 [04:21<9:22:39, 261.70s/it]\n"
     ]
    },
    {
     "ename": "KeyboardInterrupt",
     "evalue": "",
     "output_type": "error",
     "traceback": [
      "\u001b[0;31m---------------------------------------------------------------------------\u001b[0m",
      "\u001b[0;31mKeyboardInterrupt\u001b[0m                         Traceback (most recent call last)",
      "Cell \u001b[0;32mIn[20], line 20\u001b[0m\n\u001b[1;32m     18\u001b[0m \u001b[38;5;28;01mif\u001b[39;00m finished:\n\u001b[1;32m     19\u001b[0m     \u001b[38;5;28;01mbreak\u001b[39;00m\n\u001b[0;32m---> 20\u001b[0m \u001b[38;5;28;01mif\u001b[39;00m \u001b[43mnext_pos\u001b[49m\u001b[43m \u001b[49m\u001b[38;5;129;43;01min\u001b[39;49;00m\u001b[43m \u001b[49m\u001b[43mvisited\u001b[49m:\n\u001b[1;32m     21\u001b[0m     n_possible_obstructions \u001b[38;5;241m+\u001b[39m\u001b[38;5;241m=\u001b[39m \u001b[38;5;241m1\u001b[39m\n\u001b[1;32m     22\u001b[0m     \u001b[38;5;28;01mbreak\u001b[39;00m\n",
      "Cell \u001b[0;32mIn[4], line 69\u001b[0m, in \u001b[0;36mPosition.__eq__\u001b[0;34m(self, other)\u001b[0m\n\u001b[1;32m     66\u001b[0m \u001b[38;5;28;01mdef\u001b[39;00m \u001b[38;5;21m__hash__\u001b[39m(\u001b[38;5;28mself\u001b[39m):\n\u001b[1;32m     67\u001b[0m     \u001b[38;5;28;01mreturn\u001b[39;00m \u001b[38;5;28mhash\u001b[39m((\u001b[38;5;28mself\u001b[39m\u001b[38;5;241m.\u001b[39mx, \u001b[38;5;28mself\u001b[39m\u001b[38;5;241m.\u001b[39my, \u001b[38;5;28mself\u001b[39m\u001b[38;5;241m.\u001b[39mdirection))\n\u001b[0;32m---> 69\u001b[0m \u001b[38;5;28;01mdef\u001b[39;00m \u001b[38;5;21m__eq__\u001b[39m(\u001b[38;5;28mself\u001b[39m, other):\n\u001b[1;32m     70\u001b[0m     \u001b[38;5;28;01mreturn\u001b[39;00m (\u001b[38;5;28mself\u001b[39m\u001b[38;5;241m.\u001b[39mx, \u001b[38;5;28mself\u001b[39m\u001b[38;5;241m.\u001b[39my, \u001b[38;5;28mself\u001b[39m\u001b[38;5;241m.\u001b[39mdirection) \u001b[38;5;241m==\u001b[39m (other\u001b[38;5;241m.\u001b[39mx, other\u001b[38;5;241m.\u001b[39my, other\u001b[38;5;241m.\u001b[39mdirection)\n\u001b[1;32m     72\u001b[0m \u001b[38;5;28;01mdef\u001b[39;00m \u001b[38;5;21m__repr__\u001b[39m(\u001b[38;5;28mself\u001b[39m):\n",
      "\u001b[0;31mKeyboardInterrupt\u001b[0m: "
     ]
    }
   ],
   "source": [
    "maze = process_input(data)\n",
    "\n",
    "start_pos = get_start_pos(maze)\n",
    "\n",
    "n_possible_obstructions = 0\n",
    "\n",
    "for y in tqdm(range(len(maze))):\n",
    "    for x in range(len(maze[y])):\n",
    "        if maze[y][x] == '.':\n",
    "            # replace with # \n",
    "            temp_maze = maze.copy()\n",
    "            temp_maze[y] = temp_maze[y][:x] + '#' + temp_maze[y][x+1:]\n",
    "            visited = [start_pos]\n",
    "\n",
    "            current_pos = start_pos\n",
    "            while True:\n",
    "                next_pos, finished = current_pos.move(temp_maze)\n",
    "                if finished:\n",
    "                    break\n",
    "                if next_pos in visited:\n",
    "                    n_possible_obstructions += 1\n",
    "                    break\n",
    "\n",
    "                visited.append(next_pos)\n",
    "                current_pos = next_pos\n",
    "\n",
    "\n",
    "print(n_possible_obstructions)"
   ]
  }
 ],
 "metadata": {
  "kernelspec": {
   "display_name": ".venv",
   "language": "python",
   "name": "python3"
  },
  "language_info": {
   "codemirror_mode": {
    "name": "ipython",
    "version": 3
   },
   "file_extension": ".py",
   "mimetype": "text/x-python",
   "name": "python",
   "nbconvert_exporter": "python",
   "pygments_lexer": "ipython3",
   "version": "3.12.3"
  }
 },
 "nbformat": 4,
 "nbformat_minor": 5
}
