{
 "cells": [
  {
   "cell_type": "markdown",
   "id": "2d897ab0",
   "metadata": {},
   "source": [
    "# Advent of Code 2024 - Day 2"
   ]
  },
  {
   "cell_type": "code",
   "execution_count": null,
   "id": "6d29b29a",
   "metadata": {},
   "outputs": [],
   "source": [
    "import os\n",
    "import numpy as np\n",
    "import pandas as pd\n",
    "\n",
    "import logging\n"
   ]
  },
  {
   "cell_type": "code",
   "execution_count": 37,
   "id": "2003d19a",
   "metadata": {},
   "outputs": [
    {
     "name": "stdout",
     "output_type": "stream",
     "text": [
      "7 6 4 2 1\n",
      "1 2 7 8 9\n",
      "9 7 6 2 1\n",
      "1 3 2 4 5\n",
      "8 6 4 4 1\n",
      "1 3 6 7 9\n"
     ]
    }
   ],
   "source": [
    "# Load input data\n",
    "input_file = os.path.join(\"/home/jits/adventOfCode/2024/day2\", \"day2.txt\")\n",
    "with open(input_file, \"r\") as file:\n",
    "    data = file.read().strip()\n",
    "test_input_file = os.path.join(\"/home/jits/adventOfCode/2024/day2\", \"day2test.txt\")\n",
    "with open(test_input_file, \"r\") as test_file:\n",
    "    test_data = test_file.read().strip()\n",
    "\n",
    "# Example usage\n",
    "print(test_data)  # Print the test data"
   ]
  },
  {
   "cell_type": "markdown",
   "id": "4c177f3d",
   "metadata": {},
   "source": [
    "## Process Input"
   ]
  },
  {
   "cell_type": "code",
   "execution_count": 38,
   "id": "77b7a9a7",
   "metadata": {},
   "outputs": [
    {
     "name": "stdout",
     "output_type": "stream",
     "text": [
      "[[7, 6, 4, 2, 1], [1, 2, 7, 8, 9], [9, 7, 6, 2, 1], [1, 3, 2, 4, 5], [8, 6, 4, 4, 1], [1, 3, 6, 7, 9]]\n"
     ]
    }
   ],
   "source": [
    "# Process the input data\n",
    "def process_input(data):\n",
    "    return_data = list()\n",
    "    for line in data.splitlines():\n",
    "        return_data.append([int(x) for x in line.split()])\n",
    "\n",
    "    return return_data\n",
    "\n",
    "# Example usage\n",
    "processed_data = process_input(test_data)\n",
    "print(processed_data)\n"
   ]
  },
  {
   "cell_type": "markdown",
   "id": "780c9180",
   "metadata": {},
   "source": [
    "## Part 1"
   ]
  },
  {
   "cell_type": "code",
   "execution_count": 52,
   "id": "664aa08e",
   "metadata": {},
   "outputs": [
    {
     "name": "stdout",
     "output_type": "stream",
     "text": [
      "Number of safe reports: 606\n"
     ]
    }
   ],
   "source": [
    "\n",
    "processed_data = process_input(data)\n",
    "safe_counter = 0\n",
    "for i, report in enumerate(processed_data):\n",
    "    diff_report = np.diff(report)\n",
    "    if all(diff_report <= 3) and all(diff_report >= 1):\n",
    "        safe_counter += 1\n",
    "    elif all(diff_report >= -3) and all(diff_report <= -1):\n",
    "        safe_counter += 1\n",
    "\n",
    "print(f\"Number of safe reports: {safe_counter}\")"
   ]
  },
  {
   "cell_type": "markdown",
   "id": "81634dda",
   "metadata": {},
   "source": [
    "## Part 2"
   ]
  },
  {
   "cell_type": "code",
   "execution_count": 57,
   "id": "c27f8d2a",
   "metadata": {},
   "outputs": [
    {
     "name": "stdout",
     "output_type": "stream",
     "text": [
      "Number of safe reports: 644\n"
     ]
    }
   ],
   "source": [
    "\n",
    "processed_data = process_input(data)\n",
    "safe_counter = 0\n",
    "for i, report in enumerate(processed_data):\n",
    "    diff_report = np.diff(report)\n",
    "    if all(diff_report <= 3) and all(diff_report >= 1):\n",
    "        safe_counter += 1\n",
    "    elif all(diff_report >= -3) and all(diff_report <= -1):\n",
    "        safe_counter += 1\n",
    "    else:\n",
    "        for j in range(len(report)):\n",
    "            report_without_j = report[:j] + report[j+1:]\n",
    "            diff_report_without_j = np.diff(report_without_j)\n",
    "            if all(diff_report_without_j <= 3) and all(diff_report_without_j >= 1):\n",
    "                safe_counter += 1\n",
    "                break\n",
    "            elif all(diff_report_without_j >= -3) and all(diff_report_without_j <= -1):\n",
    "                safe_counter += 1\n",
    "                break\n",
    "\n",
    "print(f\"Number of safe reports: {safe_counter}\")"
   ]
  }
 ],
 "metadata": {
  "kernelspec": {
   "display_name": ".venv",
   "language": "python",
   "name": "python3"
  },
  "language_info": {
   "codemirror_mode": {
    "name": "ipython",
    "version": 3
   },
   "file_extension": ".py",
   "mimetype": "text/x-python",
   "name": "python",
   "nbconvert_exporter": "python",
   "pygments_lexer": "ipython3",
   "version": "3.12.3"
  }
 },
 "nbformat": 4,
 "nbformat_minor": 5
}
