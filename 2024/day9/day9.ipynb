{
  "nbformat": 4,
  "nbformat_minor": 5,
  "metadata": {},
  "cells": [
    {
      "id": "a2f86bb6",
      "cell_type": "markdown",
      "source": "# Advent of Code 2024 - Day 9",
      "metadata": {}
    },
    {
      "id": "99adfc75",
      "cell_type": "code",
      "metadata": {},
      "execution_count": null,
      "source": "import os\nimport numpy as np\nimport pandas as pd",
      "outputs": []
    },
    {
      "id": "148d687c",
      "cell_type": "code",
      "metadata": {},
      "execution_count": null,
      "source": "# Load input data\ninput_file = os.path.join(\"/home/jits/adventOfCode/2024/day9\", \"day9.txt\")\nwith open(input_file, \"r\") as file:\n    data = file.read().strip()\ntest_input_file = os.path.join(\"/home/jits/adventOfCode/2024/day9\", \"day9test.txt\")\nwith open(test_input_file, \"r\") as test_file:\n    test_data = test_file.read().strip()\n\n# Example usage\nprint(test_data)  # Print the test data",
      "outputs": []
    },
    {
      "id": "d41a63c8",
      "cell_type": "markdown",
      "source": "## Process Input",
      "metadata": {}
    },
    {
      "id": "7ac06c4a",
      "cell_type": "code",
      "metadata": {},
      "execution_count": null,
      "source": "# Process the input data\ndef process_input(data):\n    return data.splitlines()\nprocessed_data = process_input(test_data)\nprint(processed_data)\n",
      "outputs": []
    },
    {
      "id": "418979fc",
      "cell_type": "markdown",
      "source": "## Part 1",
      "metadata": {}
    },
    {
      "id": "991c22e2",
      "cell_type": "code",
      "metadata": {},
      "execution_count": null,
      "source": "# Solve Part 1\n# Example:\n# result = solve_part1(data)\n# print(result)\n",
      "outputs": []
    },
    {
      "id": "ac1eea6c",
      "cell_type": "markdown",
      "source": "## Part 2",
      "metadata": {}
    },
    {
      "id": "117866ff",
      "cell_type": "code",
      "metadata": {},
      "execution_count": null,
      "source": "# Solve Part 2\n# Example:\n# result = solve_part2(data)\n# print(result)\n",
      "outputs": []
    }
  ]
}