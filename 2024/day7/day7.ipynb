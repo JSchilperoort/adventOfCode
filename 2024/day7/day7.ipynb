{
  "nbformat": 4,
  "nbformat_minor": 5,
  "metadata": {},
  "cells": [
    {
      "id": "250605b3",
      "cell_type": "markdown",
      "source": "# Advent of Code 2024 - Day 7",
      "metadata": {}
    },
    {
      "id": "8e793880",
      "cell_type": "code",
      "metadata": {},
      "execution_count": null,
      "source": "import os\nimport numpy as np\nimport pandas as pd",
      "outputs": []
    },
    {
      "id": "40f8ebc2",
      "cell_type": "code",
      "metadata": {},
      "execution_count": null,
      "source": "# Load input data\ninput_file = os.path.join(\"/home/jits/adventOfCode/2024/day7\", \"day7.txt\")\nwith open(input_file, \"r\") as file:\n    data = file.read().strip()\ntest_input_file = os.path.join(\"/home/jits/adventOfCode/2024/day7\", \"day7test.txt\")\nwith open(test_input_file, \"r\") as test_file:\n    test_data = test_file.read().strip()\n\n# Example usage\nprint(test_data)  # Print the test data",
      "outputs": []
    },
    {
      "id": "ca8d66f1",
      "cell_type": "markdown",
      "source": "## Process Input",
      "metadata": {}
    },
    {
      "id": "676a2c49",
      "cell_type": "code",
      "metadata": {},
      "execution_count": null,
      "source": "# Process the input data\ndef process_input(data):\n    return data.splitlines()\nprocessed_data = process_input(test_data)\nprint(processed_data)\n",
      "outputs": []
    },
    {
      "id": "75a0134b",
      "cell_type": "markdown",
      "source": "## Part 1",
      "metadata": {}
    },
    {
      "id": "02572aa5",
      "cell_type": "code",
      "metadata": {},
      "execution_count": null,
      "source": "# Solve Part 1\n# Example:\n# result = solve_part1(data)\n# print(result)\n",
      "outputs": []
    },
    {
      "id": "a44e74af",
      "cell_type": "markdown",
      "source": "## Part 2",
      "metadata": {}
    },
    {
      "id": "a8abd378",
      "cell_type": "code",
      "metadata": {},
      "execution_count": null,
      "source": "# Solve Part 2\n# Example:\n# result = solve_part2(data)\n# print(result)\n",
      "outputs": []
    }
  ]
}