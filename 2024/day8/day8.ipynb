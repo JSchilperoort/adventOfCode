{
  "nbformat": 4,
  "nbformat_minor": 5,
  "metadata": {},
  "cells": [
    {
      "id": "cc010834",
      "cell_type": "markdown",
      "source": "# Advent of Code 2024 - Day 8",
      "metadata": {}
    },
    {
      "id": "d847e5de",
      "cell_type": "code",
      "metadata": {},
      "execution_count": null,
      "source": "import os\nimport numpy as np\nimport pandas as pd",
      "outputs": []
    },
    {
      "id": "25ffcdac",
      "cell_type": "code",
      "metadata": {},
      "execution_count": null,
      "source": "# Load input data\ninput_file = os.path.join(\"/home/jits/adventOfCode/2024/day8\", \"day8.txt\")\nwith open(input_file, \"r\") as file:\n    data = file.read().strip()\ntest_input_file = os.path.join(\"/home/jits/adventOfCode/2024/day8\", \"day8test.txt\")\nwith open(test_input_file, \"r\") as test_file:\n    test_data = test_file.read().strip()\n\n# Example usage\nprint(test_data)  # Print the test data",
      "outputs": []
    },
    {
      "id": "16bcc1da",
      "cell_type": "markdown",
      "source": "## Process Input",
      "metadata": {}
    },
    {
      "id": "0b68fff6",
      "cell_type": "code",
      "metadata": {},
      "execution_count": null,
      "source": "# Process the input data\ndef process_input(data):\n    return data.splitlines()\nprocessed_data = process_input(test_data)\nprint(processed_data)\n",
      "outputs": []
    },
    {
      "id": "c02d8832",
      "cell_type": "markdown",
      "source": "## Part 1",
      "metadata": {}
    },
    {
      "id": "148ffc21",
      "cell_type": "code",
      "metadata": {},
      "execution_count": null,
      "source": "# Solve Part 1\n# Example:\n# result = solve_part1(data)\n# print(result)\n",
      "outputs": []
    },
    {
      "id": "1024d8e8",
      "cell_type": "markdown",
      "source": "## Part 2",
      "metadata": {}
    },
    {
      "id": "12683ea0",
      "cell_type": "code",
      "metadata": {},
      "execution_count": null,
      "source": "# Solve Part 2\n# Example:\n# result = solve_part2(data)\n# print(result)\n",
      "outputs": []
    }
  ]
}