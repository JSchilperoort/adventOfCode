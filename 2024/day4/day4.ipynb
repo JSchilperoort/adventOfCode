{
 "cells": [
  {
   "cell_type": "markdown",
   "id": "7a6a4437",
   "metadata": {},
   "source": [
    "# Advent of Code 2024 - Day 4"
   ]
  },
  {
   "cell_type": "code",
   "execution_count": 1,
   "id": "3935cfa0",
   "metadata": {},
   "outputs": [],
   "source": [
    "import os\n",
    "import numpy as np\n",
    "import pandas as pd"
   ]
  },
  {
   "cell_type": "code",
   "execution_count": 2,
   "id": "530b250a",
   "metadata": {},
   "outputs": [
    {
     "name": "stdout",
     "output_type": "stream",
     "text": [
      "MMMSXXMASM\n",
      "MSAMXMSMSA\n",
      "AMXSXMAAMM\n",
      "MSAMASMSMX\n",
      "XMASAMXAMM\n",
      "XXAMMXXAMA\n",
      "SMSMSASXSS\n",
      "SAXAMASAAA\n",
      "MAMMMXMMMM\n",
      "MXMXAXMASX\n"
     ]
    }
   ],
   "source": [
    "# Load input data\n",
    "input_file = os.path.join(\"/home/jits/adventOfCode/2024/day4\", \"day4.txt\")\n",
    "with open(input_file, \"r\") as file:\n",
    "    data = file.read().strip()\n",
    "test_input_file = os.path.join(\"/home/jits/adventOfCode/2024/day4\", \"day4test.txt\")\n",
    "with open(test_input_file, \"r\") as test_file:\n",
    "    test_data = test_file.read().strip()\n",
    "\n",
    "# Example usage\n",
    "print(test_data)  # Print the test data"
   ]
  },
  {
   "cell_type": "markdown",
   "id": "46ec709a",
   "metadata": {},
   "source": [
    "## Process Input"
   ]
  },
  {
   "cell_type": "code",
   "execution_count": 20,
   "id": "4274ba7a",
   "metadata": {},
   "outputs": [
    {
     "name": "stdout",
     "output_type": "stream",
     "text": [
      "[[1 1 1 3 0 0 1 2 3 1]\n",
      " [1 3 2 1 0 1 3 1 3 2]\n",
      " [2 1 0 3 0 1 2 2 1 1]\n",
      " [1 3 2 1 2 3 1 3 1 0]\n",
      " [0 1 2 3 2 1 0 2 1 1]\n",
      " [0 0 2 1 1 0 0 2 1 2]\n",
      " [3 1 3 1 3 2 3 0 3 3]\n",
      " [3 2 0 2 1 2 3 2 2 2]\n",
      " [1 2 1 1 1 0 1 1 1 1]\n",
      " [1 0 1 0 2 0 1 2 3 0]]\n"
     ]
    }
   ],
   "source": [
    "# Process the input data\n",
    "def process_input(data):\n",
    "    translation_dict = {'X': 0, 'M': 1, 'A': 2, 'S': 3}\n",
    "    list_of_strings = data.split(\"\\n\")\n",
    "    processed_data = np.array([[translation_dict[char] for char in line] for line in list_of_strings])\n",
    "    return processed_data\n",
    "processed_data = process_input(test_data)\n",
    "print(processed_data)\n"
   ]
  },
  {
   "cell_type": "markdown",
   "id": "3645ec5b",
   "metadata": {},
   "source": [
    "## Part 1"
   ]
  },
  {
   "cell_type": "code",
   "execution_count": 32,
   "id": "e8dd8255",
   "metadata": {},
   "outputs": [
    {
     "name": "stdout",
     "output_type": "stream",
     "text": [
      "407\n",
      "831\n",
      "1606\n",
      "2427\n"
     ]
    }
   ],
   "source": [
    "processed_data = process_input(data)\n",
    "count = 0\n",
    "# count the horizontals\n",
    "for row in processed_data:\n",
    "    # count the number of times the order 0, 1, 2, 3 occurs. ie. 0 0 1 2 3 0 0 3 3 0 2 1 2 3 0 1 2 3 contains 2 times 0, 1, 2, 3\n",
    "    for i in range(len(row) - 3):\n",
    "        if np.array_equal(row[i:i+4], [0, 1, 2, 3]):\n",
    "            count += 1\n",
    "        elif np.array_equal(row[i:i+4], [3, 2, 1, 0]):\n",
    "            count += 1\n",
    "\n",
    "\n",
    "print(count)\n",
    "\n",
    "# count the verticals\n",
    "for i in range(len(processed_data[0])):\n",
    "    for j in range(len(processed_data) - 3):\n",
    "        if np.array_equal(processed_data[j:j+4, i], [0, 1, 2, 3]):\n",
    "            count += 1\n",
    "        elif np.array_equal(processed_data[j:j+4, i], [3, 2, 1, 0]):\n",
    "            count += 1\n",
    "\n",
    "print(count)\n",
    "    \n",
    "# count the diagonals (top left to bottom right)\n",
    "for i in range(len(processed_data) - 3):\n",
    "    for j in range(len(processed_data[0]) - 3):\n",
    "        if np.array_equal([processed_data[i, j], processed_data[i+1, j+1], processed_data[i+2, j+2], processed_data[i+3, j+3]], [0, 1, 2, 3]):\n",
    "            count += 1\n",
    "        elif np.array_equal([processed_data[i, j], processed_data[i+1, j+1], processed_data[i+2, j+2], processed_data[i+3, j+3]], [3, 2, 1, 0]):\n",
    "            count += 1\n",
    "\n",
    "print(count)\n",
    "\n",
    "# count the diagonals (top right to bottom left)\n",
    "for i in range(len(processed_data) - 3):\n",
    "    for j in range(3, len(processed_data[0])):\n",
    "        if np.array_equal([processed_data[i, j], processed_data[i+1, j-1], processed_data[i+2, j-2], processed_data[i+3, j-3]], [0, 1, 2, 3]):\n",
    "            count += 1\n",
    "        elif np.array_equal([processed_data[i, j], processed_data[i+1, j-1], processed_data[i+2, j-2], processed_data[i+3, j-3]], [3, 2, 1, 0]):\n",
    "            count += 1\n",
    "\n",
    "print(count)"
   ]
  },
  {
   "cell_type": "markdown",
   "id": "cde914b7",
   "metadata": {},
   "source": [
    "## Part 2"
   ]
  },
  {
   "cell_type": "code",
   "execution_count": 37,
   "id": "b75206f9",
   "metadata": {},
   "outputs": [
    {
     "name": "stdout",
     "output_type": "stream",
     "text": [
      "1900\n"
     ]
    }
   ],
   "source": [
    "processed_data = process_input(data)\n",
    "count = 0\n",
    "\n",
    "# iterate over all the rows and columns\n",
    "for x in range(1, len(processed_data) - 1):\n",
    "    for y in range(1, len(processed_data[0]) - 1):\n",
    "        # check if this contains a 2\n",
    "        if processed_data[x, y] == 2:\n",
    "            # check if x-1, y-1 contains 1 AND x+1, y+1 contains 3\n",
    "            if (processed_data[x-1, y-1] == 1 and processed_data[x+1, y+1]) == 3 or (processed_data[x-1, y-1] == 3 and processed_data[x+1, y+1] == 1):\n",
    "                if (processed_data[x+1, y-1] == 1 and processed_data[x-1, y+1]) == 3 or (processed_data[x+1, y-1] == 3 and processed_data[x-1, y+1] == 1):\n",
    "                    count += 1\n",
    "print(count)"
   ]
  }
 ],
 "metadata": {
  "kernelspec": {
   "display_name": ".venv",
   "language": "python",
   "name": "python3"
  },
  "language_info": {
   "codemirror_mode": {
    "name": "ipython",
    "version": 3
   },
   "file_extension": ".py",
   "mimetype": "text/x-python",
   "name": "python",
   "nbconvert_exporter": "python",
   "pygments_lexer": "ipython3",
   "version": "3.12.3"
  }
 },
 "nbformat": 4,
 "nbformat_minor": 5
}
