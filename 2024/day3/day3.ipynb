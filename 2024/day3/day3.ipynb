{
 "cells": [
  {
   "cell_type": "markdown",
   "id": "87a4d7e9",
   "metadata": {},
   "source": [
    "# Advent of Code 2024 - Day 3"
   ]
  },
  {
   "cell_type": "code",
   "execution_count": 1,
   "id": "38c137ee",
   "metadata": {},
   "outputs": [],
   "source": [
    "import os\n",
    "import numpy as np\n",
    "import pandas as pd"
   ]
  },
  {
   "cell_type": "code",
   "execution_count": 2,
   "id": "333eb2b3",
   "metadata": {},
   "outputs": [
    {
     "name": "stdout",
     "output_type": "stream",
     "text": [
      "xmul(2,4)%&mul[3,7]!@^do_not_mul(5,5)+mul(32,64]then(mul(11,8)mul(8,5))\n"
     ]
    }
   ],
   "source": [
    "# Load input data\n",
    "input_file = os.path.join(\"/home/jits/adventOfCode/2024/day3\", \"day3.txt\")\n",
    "with open(input_file, \"r\") as file:\n",
    "    data = file.read().strip()\n",
    "test_input_file = os.path.join(\"/home/jits/adventOfCode/2024/day3\", \"day3test.txt\")\n",
    "with open(test_input_file, \"r\") as test_file:\n",
    "    test_data = test_file.read().strip()\n",
    "\n",
    "# Example usage\n",
    "print(test_data)  # Print the test data"
   ]
  },
  {
   "cell_type": "markdown",
   "id": "2df84d92",
   "metadata": {},
   "source": [
    "## Process Input"
   ]
  },
  {
   "cell_type": "code",
   "execution_count": null,
   "id": "26354a44",
   "metadata": {},
   "outputs": [
    {
     "name": "stdout",
     "output_type": "stream",
     "text": [
      "xmul(2,4)%&mul[3,7]!@^do_not_mul(5,5)+mul(32,64]then(mul(11,8)mul(8,5))\n"
     ]
    }
   ],
   "source": [
    "# Process the input data\n",
    "def process_input(data):\n",
    "    return data\n",
    "processed_data = process_input(test_data)\n",
    "print(processed_data)\n"
   ]
  },
  {
   "cell_type": "markdown",
   "id": "9180fac1",
   "metadata": {},
   "source": [
    "## Part 1"
   ]
  },
  {
   "cell_type": "code",
   "execution_count": null,
   "id": "88846eea",
   "metadata": {},
   "outputs": [
    {
     "name": "stdout",
     "output_type": "stream",
     "text": [
      "190604937\n"
     ]
    }
   ],
   "source": [
    "processed_data = process_input(data)\n",
    "import re\n",
    "\n",
    "list_of_muls = re.findall(r\"mul\\((\\d{1,3}),(\\d{1,3})\\)\", processed_data)\n",
    "\n",
    "sum_of_muls = 0\n",
    "for mul in list_of_muls:\n",
    "    sum_of_muls += (int(mul[0]) * int(mul[1]))\n",
    "print(sum_of_muls)"
   ]
  },
  {
   "cell_type": "markdown",
   "id": "931c2dac",
   "metadata": {},
   "source": [
    "## Part 2"
   ]
  },
  {
   "cell_type": "code",
   "execution_count": 37,
   "id": "5a806888",
   "metadata": {},
   "outputs": [
    {
     "name": "stdout",
     "output_type": "stream",
     "text": [
      "82857512\n"
     ]
    }
   ],
   "source": [
    "processed_data = \"xmul(2,4)&mul[3,7]!^don't()_mul(5,5)+mul(32,64](mul(11,8)undo()?mul(8,5))\"\n",
    "processed_data = process_input(data)\n",
    "\n",
    "# split the data into lines by the occurance of 'dont()'\n",
    "lines = processed_data.split(\"don't()\")\n",
    "\n",
    "sum_of_muls = 0\n",
    "\n",
    "list_of_muls = re.findall(r\"mul\\((\\d{1,3}),(\\d{1,3})\\)\", lines[0])\n",
    "for mul in list_of_muls:\n",
    "    sum_of_muls += (int(mul[0]) * int(mul[1]))\n",
    "\n",
    "for line in lines[1:]:\n",
    "    if \"do()\" in line:\n",
    "        # line is all text after the first do()\n",
    "        line = line.split(\"do()\", 1)[1]\n",
    "        if len(line) > 0:\n",
    "            list_of_muls = re.findall(r\"mul\\((\\d{1,3}),(\\d{1,3})\\)\", line)\n",
    "            for mul in list_of_muls:\n",
    "                sum_of_muls += (int(mul[0]) * int(mul[1]))\n",
    "\n",
    "\n",
    "print(sum_of_muls)\n"
   ]
  }
 ],
 "metadata": {
  "kernelspec": {
   "display_name": ".venv",
   "language": "python",
   "name": "python3"
  },
  "language_info": {
   "codemirror_mode": {
    "name": "ipython",
    "version": 3
   },
   "file_extension": ".py",
   "mimetype": "text/x-python",
   "name": "python",
   "nbconvert_exporter": "python",
   "pygments_lexer": "ipython3",
   "version": "3.12.3"
  }
 },
 "nbformat": 4,
 "nbformat_minor": 5
}
