{
 "cells": [
  {
   "cell_type": "markdown",
   "id": "47076f13",
   "metadata": {},
   "source": [
    "# Advent of Code 2024 - Day 5"
   ]
  },
  {
   "cell_type": "code",
   "execution_count": 1,
   "id": "de9abbfb",
   "metadata": {},
   "outputs": [],
   "source": [
    "import os\n",
    "import numpy as np\n",
    "import pandas as pd"
   ]
  },
  {
   "cell_type": "code",
   "execution_count": 2,
   "id": "7cca1ab7",
   "metadata": {},
   "outputs": [
    {
     "name": "stdout",
     "output_type": "stream",
     "text": [
      "47|53\n",
      "97|13\n",
      "97|61\n",
      "97|47\n",
      "75|29\n",
      "61|13\n",
      "75|53\n",
      "29|13\n",
      "97|29\n",
      "53|29\n",
      "61|53\n",
      "97|53\n",
      "61|29\n",
      "47|13\n",
      "75|47\n",
      "97|75\n",
      "47|61\n",
      "75|61\n",
      "47|29\n",
      "75|13\n",
      "53|13\n",
      "\n",
      "75,47,61,53,29\n",
      "97,61,53,29,13\n",
      "75,29,13\n",
      "75,97,47,61,53\n",
      "61,13,29\n",
      "97,13,75,29,47\n"
     ]
    }
   ],
   "source": [
    "# Load input data\n",
    "input_file = os.path.join(\"/home/jits/adventOfCode/2024/day5\", \"day5.txt\")\n",
    "with open(input_file, \"r\") as file:\n",
    "    data = file.read().strip()\n",
    "test_input_file = os.path.join(\"/home/jits/adventOfCode/2024/day5\", \"day5test.txt\")\n",
    "with open(test_input_file, \"r\") as test_file:\n",
    "    test_data = test_file.read().strip()\n",
    "\n",
    "# Example usage\n",
    "print(test_data)  # Print the test data"
   ]
  },
  {
   "cell_type": "markdown",
   "id": "70f522f7",
   "metadata": {},
   "source": [
    "## Process Input"
   ]
  },
  {
   "cell_type": "code",
   "execution_count": 13,
   "id": "66577c37",
   "metadata": {},
   "outputs": [
    {
     "name": "stdout",
     "output_type": "stream",
     "text": [
      "[[47, 53], [97, 13], [97, 61], [97, 47], [75, 29], [61, 13], [75, 53], [29, 13], [97, 29], [53, 29], [61, 53], [97, 53], [61, 29], [47, 13], [75, 47], [97, 75], [47, 61], [75, 61], [47, 29], [75, 13], [53, 13]]\n",
      "[[75, 47, 61, 53, 29], [97, 61, 53, 29, 13], [75, 29, 13], [75, 97, 47, 61, 53], [61, 13, 29], [97, 13, 75, 29, 47]]\n"
     ]
    }
   ],
   "source": [
    "# Process the input data\n",
    "def process_input(data):\n",
    "    splitted_data = data.splitlines()\n",
    "    page_ordering_rules = [list(map(int, x.split('|'))) for x in splitted_data if '|' in x]\n",
    "    updates = [list(map(int, x.split(','))) for x in splitted_data if ',' in x]\n",
    "    return page_ordering_rules, updates\n",
    "page_ordering_rules, updates = process_input(test_data)\n",
    "print(page_ordering_rules)\n",
    "print(updates)\n"
   ]
  },
  {
   "cell_type": "markdown",
   "id": "0213cdcf",
   "metadata": {},
   "source": [
    "## Part 1"
   ]
  },
  {
   "cell_type": "code",
   "execution_count": 21,
   "id": "528f2cf9",
   "metadata": {},
   "outputs": [
    {
     "name": "stdout",
     "output_type": "stream",
     "text": [
      "5275\n"
     ]
    }
   ],
   "source": [
    "page_ordering_rules, updates = process_input(data)\n",
    "\n",
    "def check_ordering_rules(page_ordering_rules, update):\n",
    "    for first_rule, second_rule in page_ordering_rules:\n",
    "        if first_rule not in update or second_rule not in update:\n",
    "            continue\n",
    "        index1 = update.index(first_rule)\n",
    "        index2 = update.index(second_rule)\n",
    "        if index2 < index1:\n",
    "            return False\n",
    "    return True\n",
    "\n",
    "sum_of_middle_elements = 0\n",
    "for update in updates:\n",
    "   if check_ordering_rules(page_ordering_rules, update):\n",
    "       sum_of_middle_elements += update[len(update) // 2]\n",
    "\n",
    "print(sum_of_middle_elements)"
   ]
  },
  {
   "cell_type": "markdown",
   "id": "87de0445",
   "metadata": {},
   "source": [
    "## Part 2"
   ]
  },
  {
   "cell_type": "code",
   "execution_count": 32,
   "id": "177cdcb3",
   "metadata": {},
   "outputs": [
    {
     "name": "stdout",
     "output_type": "stream",
     "text": [
      "6191\n"
     ]
    }
   ],
   "source": [
    "page_ordering_rules, updates = process_input(data)\n",
    "\n",
    "def correctly_order(update):\n",
    "    while not check_ordering_rules(page_ordering_rules, update):\n",
    "        for first_rule, second_rule in page_ordering_rules:\n",
    "            if first_rule not in update or second_rule not in update:\n",
    "                continue\n",
    "            index1 = update.index(first_rule)\n",
    "            index2 = update.index(second_rule)\n",
    "            if index2 < index1:\n",
    "                update[index1], update[index2] = update[index2], update[index1]\n",
    "    return update\n",
    "\n",
    "\n",
    "sum_of_middle_elements = 0\n",
    "for update in updates:\n",
    "    if not check_ordering_rules(page_ordering_rules, update):\n",
    "        corrected_update = correctly_order(update)\n",
    "        sum_of_middle_elements += corrected_update[len(corrected_update) // 2]\n",
    "\n",
    "print(sum_of_middle_elements)"
   ]
  }
 ],
 "metadata": {
  "kernelspec": {
   "display_name": ".venv",
   "language": "python",
   "name": "python3"
  },
  "language_info": {
   "codemirror_mode": {
    "name": "ipython",
    "version": 3
   },
   "file_extension": ".py",
   "mimetype": "text/x-python",
   "name": "python",
   "nbconvert_exporter": "python",
   "pygments_lexer": "ipython3",
   "version": "3.12.3"
  }
 },
 "nbformat": 4,
 "nbformat_minor": 5
}
