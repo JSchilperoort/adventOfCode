{
 "cells": [
  {
   "cell_type": "code",
   "execution_count": 81,
   "metadata": {},
   "outputs": [],
   "source": [
    "import numpy as np\n",
    "\n",
    "with open('data.txt', 'r', encoding='utf-8') as f:\n",
    "    lines = [x.replace('\\n', '') for x in f.readlines()]\n",
    "\n",
    "lines = [x.split(' -> ') for x in lines]\n",
    "lines = [\",\".join(x).split(\",\") for x in lines]\n",
    "lines = [[int(y) for y in x] for x in lines]\n",
    "# line = [x1,y1,x2,y2]\n",
    "\n",
    "easy_lines = [x for x in lines if x[0] == x[2] or x[1] == x[3]]\n",
    "\n",
    "# part 2:\n",
    "work_lines = lines"
   ]
  },
  {
   "cell_type": "code",
   "execution_count": 82,
   "metadata": {},
   "outputs": [
    {
     "name": "stdout",
     "output_type": "stream",
     "text": [
      "989\n",
      "988\n"
     ]
    }
   ],
   "source": [
    "max_x = max(max([x[0] for x in work_lines]), max([x[2] for x in work_lines]))\n",
    "max_y = max(max([y[1] for y in work_lines]), max([y[3] for y in work_lines]))\n",
    "print(max_x)\n",
    "print(max_y)"
   ]
  },
  {
   "cell_type": "code",
   "execution_count": 83,
   "metadata": {},
   "outputs": [],
   "source": [
    "def increment_pos(grid, x, y):\n",
    "    if grid[y][x] == '.':\n",
    "        grid[y][x] = 1\n",
    "    else:\n",
    "        grid[y][x] += 1"
   ]
  },
  {
   "cell_type": "code",
   "execution_count": 84,
   "metadata": {},
   "outputs": [],
   "source": [
    "grid = list()\n",
    "for r in range(max_y + 1):\n",
    "    grid.append(['.'] * (max_x + 1))\n",
    "\n",
    "for line in work_lines:\n",
    "    x1, y1, x2, y2 = line\n",
    "    \n",
    "    if x1 == x2 :\n",
    "        # draw dots\n",
    "        if y1 == y2:\n",
    "            increment_pos(grid, x1, y1)\n",
    "\n",
    "        # draw vertical lines\n",
    "        elif x1 == x2:\n",
    "            if y2 > y1:\n",
    "                for y in range(y1, y2+1):\n",
    "                    increment_pos(grid, x1, y)\n",
    "            else:\n",
    "                for y in range(y2, y1+1):\n",
    "                    increment_pos(grid, x1, y)\n",
    "    \n",
    "    # draw horizontal lines\n",
    "    elif y1 == y2:\n",
    "        if x2 > x1:\n",
    "            for x in range(x1, x2+1):\n",
    "                increment_pos(grid, x, y1)\n",
    "        else:\n",
    "            for x in range(x2, x1+1):\n",
    "                increment_pos(grid, x, y1)\n",
    "    \n",
    "    # draw diagonal lines\n",
    "    else:\n",
    "        if x2 > x1:\n",
    "            if y2 > y1:\n",
    "                x = x1\n",
    "                y = y1\n",
    "                while x != x2 and y != y2:\n",
    "                    increment_pos(grid, x, y)\n",
    "                    x += 1\n",
    "                    y += 1\n",
    "                increment_pos(grid, x2, y2)\n",
    "            else:\n",
    "                x = x1\n",
    "                y = y1\n",
    "                while x != x2 and y != y2:\n",
    "                    increment_pos(grid, x, y)\n",
    "                    x += 1\n",
    "                    y -= 1\n",
    "                increment_pos(grid, x2, y2)\n",
    "        else:\n",
    "            if y2 > y1:\n",
    "                x = x1\n",
    "                y = y1\n",
    "                while x != x2 and y != y2:\n",
    "                    increment_pos(grid, x, y)\n",
    "                    x -= 1\n",
    "                    y += 1\n",
    "                increment_pos(grid, x2, y2)\n",
    "            else:\n",
    "                x = x1\n",
    "                y = y1\n",
    "                while x != x2 and y != y2:\n",
    "                    increment_pos(grid, x, y)\n",
    "                    x -= 1\n",
    "                    y -= 1\n",
    "                increment_pos(grid, x2, y2)\n",
    "    \n"
   ]
  },
  {
   "cell_type": "code",
   "execution_count": 85,
   "metadata": {},
   "outputs": [
    {
     "name": "stdout",
     "output_type": "stream",
     "text": [
      "22364\n"
     ]
    }
   ],
   "source": [
    "n_super_dangerous = 0\n",
    "for row in grid:\n",
    "    n_super_dangerous += len([x for x in row if x != '.' and x > 1])\n",
    "print(n_super_dangerous)"
   ]
  }
 ],
 "metadata": {
  "interpreter": {
   "hash": "33059d425fcfee577e06018c78ad24739e717fdadffbeab10fa06fe261eaa096"
  },
  "kernelspec": {
   "display_name": "Python 3.8.11 64-bit ('newenv': conda)",
   "language": "python",
   "name": "python3"
  },
  "language_info": {
   "codemirror_mode": {
    "name": "ipython",
    "version": 3
   },
   "file_extension": ".py",
   "mimetype": "text/x-python",
   "name": "python",
   "nbconvert_exporter": "python",
   "pygments_lexer": "ipython3",
   "version": "3.8.11"
  },
  "orig_nbformat": 4
 },
 "nbformat": 4,
 "nbformat_minor": 2
}
